{
 "cells": [
  {
   "cell_type": "code",
   "execution_count": 1,
   "metadata": {},
   "outputs": [],
   "source": [
    "import pandas as pd\n",
    "import numpy as np\n",
    "import seaborn as sns\n",
    "import matplotlib.pyplot as plt\n",
    "\n",
    "import sys  \n",
    "sys.path.append('../')\n",
    "\n",
    "import modules.data_wrangling.feature_selection as feature_selection\n",
    "import modules.classification.probabilities as probabilities\n",
    "import modules.propensity_score.propensity_score as propensity_score\n",
    "#import modules.propensity_score.table_propensity_score_gender_effect as table_propensity_score_gender_effect"
   ]
  },
  {
   "attachments": {},
   "cell_type": "markdown",
   "metadata": {},
   "source": [
    "# Load data"
   ]
  },
  {
   "cell_type": "code",
   "execution_count": 2,
   "metadata": {},
   "outputs": [
    {
     "data": {
      "text/html": [
       "<div>\n",
       "<style scoped>\n",
       "    .dataframe tbody tr th:only-of-type {\n",
       "        vertical-align: middle;\n",
       "    }\n",
       "\n",
       "    .dataframe tbody tr th {\n",
       "        vertical-align: top;\n",
       "    }\n",
       "\n",
       "    .dataframe thead th {\n",
       "        text-align: right;\n",
       "    }\n",
       "</style>\n",
       "<table border=\"1\" class=\"dataframe\">\n",
       "  <thead>\n",
       "    <tr style=\"text-align: right;\">\n",
       "      <th></th>\n",
       "      <th>ID</th>\n",
       "      <th>URL</th>\n",
       "      <th>DATE</th>\n",
       "      <th>YEAR</th>\n",
       "      <th>HQ</th>\n",
       "      <th>AUT_COMM</th>\n",
       "      <th>JUDGE_ID</th>\n",
       "      <th>JUDGE_ML</th>\n",
       "      <th>PLAIN_ML</th>\n",
       "      <th>DEFEN_ML</th>\n",
       "      <th>...</th>\n",
       "      <th>LN_JNPREF_b</th>\n",
       "      <th>LN_JNPREF</th>\n",
       "      <th>CD_JOINT</th>\n",
       "      <th>CD_JO_CF</th>\n",
       "      <th>WIN_SL</th>\n",
       "      <th>WINWIN</th>\n",
       "      <th>CD_FH_AT</th>\n",
       "      <th>CD_FH_SP</th>\n",
       "      <th>CD_MP_AT</th>\n",
       "      <th>CD_MP_SP</th>\n",
       "    </tr>\n",
       "  </thead>\n",
       "  <tbody>\n",
       "    <tr>\n",
       "      <th>0</th>\n",
       "      <td>APA_2018_3010</td>\n",
       "      <td>http://labje.unizar.es/sentencias/APA_2018_301...</td>\n",
       "      <td>43362</td>\n",
       "      <td>2018</td>\n",
       "      <td>Alicante</td>\n",
       "      <td>Comunidad Valenciana</td>\n",
       "      <td>0</td>\n",
       "      <td>1</td>\n",
       "      <td>1</td>\n",
       "      <td>0</td>\n",
       "      <td>...</td>\n",
       "      <td>0</td>\n",
       "      <td>0.0</td>\n",
       "      <td>0</td>\n",
       "      <td>0</td>\n",
       "      <td>0</td>\n",
       "      <td>0</td>\n",
       "      <td>0</td>\n",
       "      <td>0</td>\n",
       "      <td>1</td>\n",
       "      <td>0</td>\n",
       "    </tr>\n",
       "    <tr>\n",
       "      <th>1</th>\n",
       "      <td>APA_2019_1490</td>\n",
       "      <td>http://labje.unizar.es/sentencias/APA_2019_149...</td>\n",
       "      <td>43621</td>\n",
       "      <td>2019</td>\n",
       "      <td>Alicante</td>\n",
       "      <td>Comunidad Valenciana</td>\n",
       "      <td>1</td>\n",
       "      <td>1</td>\n",
       "      <td>1</td>\n",
       "      <td>0</td>\n",
       "      <td>...</td>\n",
       "      <td>0</td>\n",
       "      <td>0.0</td>\n",
       "      <td>0</td>\n",
       "      <td>0</td>\n",
       "      <td>0</td>\n",
       "      <td>0</td>\n",
       "      <td>0</td>\n",
       "      <td>0</td>\n",
       "      <td>0</td>\n",
       "      <td>0</td>\n",
       "    </tr>\n",
       "    <tr>\n",
       "      <th>2</th>\n",
       "      <td>APA_2019_1497</td>\n",
       "      <td>http://labje.unizar.es/sentencias/APA_2019_149...</td>\n",
       "      <td>43607</td>\n",
       "      <td>2019</td>\n",
       "      <td>Alicante</td>\n",
       "      <td>Comunidad Valenciana</td>\n",
       "      <td>1</td>\n",
       "      <td>1</td>\n",
       "      <td>1</td>\n",
       "      <td>0</td>\n",
       "      <td>...</td>\n",
       "      <td>0</td>\n",
       "      <td>0.0</td>\n",
       "      <td>0</td>\n",
       "      <td>0</td>\n",
       "      <td>0</td>\n",
       "      <td>0</td>\n",
       "      <td>1</td>\n",
       "      <td>0</td>\n",
       "      <td>1</td>\n",
       "      <td>0</td>\n",
       "    </tr>\n",
       "    <tr>\n",
       "      <th>3</th>\n",
       "      <td>APA_2019_1500</td>\n",
       "      <td>http://labje.unizar.es/sentencias/APA_2019_150...</td>\n",
       "      <td>43600</td>\n",
       "      <td>2019</td>\n",
       "      <td>Alicante</td>\n",
       "      <td>Comunidad Valenciana</td>\n",
       "      <td>2</td>\n",
       "      <td>0</td>\n",
       "      <td>1</td>\n",
       "      <td>0</td>\n",
       "      <td>...</td>\n",
       "      <td>0</td>\n",
       "      <td>0.0</td>\n",
       "      <td>0</td>\n",
       "      <td>0</td>\n",
       "      <td>0</td>\n",
       "      <td>0</td>\n",
       "      <td>0</td>\n",
       "      <td>0</td>\n",
       "      <td>1</td>\n",
       "      <td>0</td>\n",
       "    </tr>\n",
       "    <tr>\n",
       "      <th>4</th>\n",
       "      <td>APA_2019_15542</td>\n",
       "      <td>http://labje.unizar.es/sentencias/APA_2019_155...</td>\n",
       "      <td>43818</td>\n",
       "      <td>2019</td>\n",
       "      <td>Barcelona</td>\n",
       "      <td>Cataluña</td>\n",
       "      <td>3</td>\n",
       "      <td>1</td>\n",
       "      <td>1</td>\n",
       "      <td>0</td>\n",
       "      <td>...</td>\n",
       "      <td>0</td>\n",
       "      <td>0.0</td>\n",
       "      <td>0</td>\n",
       "      <td>0</td>\n",
       "      <td>0</td>\n",
       "      <td>0</td>\n",
       "      <td>0</td>\n",
       "      <td>0</td>\n",
       "      <td>0</td>\n",
       "      <td>0</td>\n",
       "    </tr>\n",
       "  </tbody>\n",
       "</table>\n",
       "<p>5 rows × 49 columns</p>\n",
       "</div>"
      ],
      "text/plain": [
       "               ID                                                URL   DATE  \\\n",
       "0   APA_2018_3010  http://labje.unizar.es/sentencias/APA_2018_301...  43362   \n",
       "1   APA_2019_1490  http://labje.unizar.es/sentencias/APA_2019_149...  43621   \n",
       "2   APA_2019_1497  http://labje.unizar.es/sentencias/APA_2019_149...  43607   \n",
       "3   APA_2019_1500  http://labje.unizar.es/sentencias/APA_2019_150...  43600   \n",
       "4  APA_2019_15542  http://labje.unizar.es/sentencias/APA_2019_155...  43818   \n",
       "\n",
       "   YEAR         HQ              AUT_COMM  JUDGE_ID  JUDGE_ML  PLAIN_ML  \\\n",
       "0  2018   Alicante  Comunidad Valenciana         0         1         1   \n",
       "1  2019   Alicante  Comunidad Valenciana         1         1         1   \n",
       "2  2019   Alicante  Comunidad Valenciana         1         1         1   \n",
       "3  2019   Alicante  Comunidad Valenciana         2         0         1   \n",
       "4  2019  Barcelona              Cataluña         3         1         1   \n",
       "\n",
       "   DEFEN_ML  ...  LN_JNPREF_b  LN_JNPREF  CD_JOINT  CD_JO_CF  WIN_SL  WINWIN  \\\n",
       "0         0  ...            0        0.0         0         0       0       0   \n",
       "1         0  ...            0        0.0         0         0       0       0   \n",
       "2         0  ...            0        0.0         0         0       0       0   \n",
       "3         0  ...            0        0.0         0         0       0       0   \n",
       "4         0  ...            0        0.0         0         0       0       0   \n",
       "\n",
       "   CD_FH_AT  CD_FH_SP  CD_MP_AT  CD_MP_SP  \n",
       "0         0         0         1         0  \n",
       "1         0         0         0         0  \n",
       "2         1         0         1         0  \n",
       "3         0         0         1         0  \n",
       "4         0         0         0         0  \n",
       "\n",
       "[5 rows x 49 columns]"
      ]
     },
     "execution_count": 2,
     "metadata": {},
     "output_type": "execute_result"
    }
   ],
   "source": [
    "df = pd.read_csv(\"..\\..\\output\\df_cleaned.csv\", sep=\";\")\n",
    "df.head()"
   ]
  },
  {
   "attachments": {},
   "cell_type": "markdown",
   "metadata": {},
   "source": [
    "# Define functions"
   ]
  },
  {
   "cell_type": "code",
   "execution_count": 3,
   "metadata": {},
   "outputs": [],
   "source": [
    "# COMPUTE WINNING PERCENTAGES PER BUCKET\n",
    "\n",
    "def get_percentage_winning_bucket(df_bucket):\n",
    "    # Get test_index for the bucket\n",
    "    indices_bucket = list(df_bucket['test_index'])\n",
    "\n",
    "    # Get only rows with test_index of df\n",
    "    rows_bucket = df.iloc[indices_bucket]\n",
    "    \n",
    "    # Get percentage of winning sentences\n",
    "    percentage_winning_cases = len(rows_bucket[rows_bucket['WINWIN'] == 1])/len(rows_bucket)\n",
    "    \n",
    "    return percentage_winning_cases\n",
    "\n",
    "def get_percentage_winning_bucket_n_buckets(df_conf, num_buckets):\n",
    "    # Split df into n buckets of equal size\n",
    "    df_split = np.array_split(df_conf, num_buckets)\n",
    "\n",
    "    percentages = []\n",
    "    \n",
    "    # Get percentage for each created bucket\n",
    "    for bucket in df_split:\n",
    "        percentage = get_percentage_winning_bucket(bucket)\n",
    "        percentages.append(percentage)\n",
    "\n",
    "    return percentages"
   ]
  },
  {
   "cell_type": "code",
   "execution_count": 4,
   "metadata": {},
   "outputs": [],
   "source": [
    "def counfounding_plot(percentages, num_buckets):\n",
    "    confounding_df = pd.DataFrame(columns = ['bucket', 'winning percentage'])\n",
    "\n",
    "    bucket_ids = list(np.arange(1,num_buckets+1))    \n",
    "\n",
    "    confounding_df['Gender probability'] = bucket_ids\n",
    "    confounding_df['Winning probability'] = percentages \n",
    "    \n",
    "    sns.barplot(x=\"Gender probability\", y=\"Winning probability\", data=confounding_df, palette=['#8c510a','#d8b365', '#5ab4ac','#01665e']) "
   ]
  },
  {
   "attachments": {},
   "cell_type": "markdown",
   "metadata": {},
   "source": [
    "# Plaintiff"
   ]
  },
  {
   "attachments": {},
   "cell_type": "markdown",
   "metadata": {},
   "source": [
    "## Gender predictor"
   ]
  },
  {
   "cell_type": "code",
   "execution_count": 5,
   "metadata": {},
   "outputs": [
    {
     "name": "stdout",
     "output_type": "stream",
     "text": [
      "['ID', 'URL', 'DATE', 'YEAR', 'HQ', 'AUT_COMM', 'JUDGE_ID', 'PLAIN_ML', 'DEFEN_ML', 'CD_JOINT', 'CD_JO_CF', 'WIN_SL', 'WINWIN', 'CD_FH_AT', 'CD_FH_SP', 'CD_MP_AT', 'CD_MP_SP']\n"
     ]
    }
   ],
   "source": [
    "fc = feature_selection.features_classification_lists(file_name = r\"..\\..\\data\\features_classification.csv\")\n",
    "categorical_features = fc[\"Judicial resolution\"] + [\"HQ\", \"AUT_COMM\",\"JUDGE_ID\"]\n",
    "hide_cols = categorical_features + [\"PLAIN_ML\", \"DEFEN_ML\"] + fc[\"Court decisions\"]\n",
    "print(hide_cols)"
   ]
  },
  {
   "cell_type": "code",
   "execution_count": 6,
   "metadata": {},
   "outputs": [
    {
     "name": "stdout",
     "output_type": "stream",
     "text": [
      "Balanced accuracy mean: 0.8504044546671345\n"
     ]
    },
    {
     "data": {
      "text/html": [
       "<div>\n",
       "<style scoped>\n",
       "    .dataframe tbody tr th:only-of-type {\n",
       "        vertical-align: middle;\n",
       "    }\n",
       "\n",
       "    .dataframe tbody tr th {\n",
       "        vertical-align: top;\n",
       "    }\n",
       "\n",
       "    .dataframe thead th {\n",
       "        text-align: right;\n",
       "    }\n",
       "</style>\n",
       "<table border=\"1\" class=\"dataframe\">\n",
       "  <thead>\n",
       "    <tr style=\"text-align: right;\">\n",
       "      <th></th>\n",
       "      <th>test_index</th>\n",
       "      <th>conf_1</th>\n",
       "    </tr>\n",
       "  </thead>\n",
       "  <tbody>\n",
       "    <tr>\n",
       "      <th>0</th>\n",
       "      <td>0</td>\n",
       "      <td>0.929302</td>\n",
       "    </tr>\n",
       "    <tr>\n",
       "      <th>1</th>\n",
       "      <td>1</td>\n",
       "      <td>0.883444</td>\n",
       "    </tr>\n",
       "    <tr>\n",
       "      <th>2</th>\n",
       "      <td>2</td>\n",
       "      <td>0.971916</td>\n",
       "    </tr>\n",
       "    <tr>\n",
       "      <th>3</th>\n",
       "      <td>3</td>\n",
       "      <td>0.966186</td>\n",
       "    </tr>\n",
       "    <tr>\n",
       "      <th>4</th>\n",
       "      <td>4</td>\n",
       "      <td>0.867594</td>\n",
       "    </tr>\n",
       "  </tbody>\n",
       "</table>\n",
       "</div>"
      ],
      "text/plain": [
       "   test_index    conf_1\n",
       "0           0  0.929302\n",
       "1           1  0.883444\n",
       "2           2  0.971916\n",
       "3           3  0.966186\n",
       "4           4  0.867594"
      ]
     },
     "execution_count": 6,
     "metadata": {},
     "output_type": "execute_result"
    }
   ],
   "source": [
    "df_conf = probabilities.lr_classifier_conf(df, \"PLAIN_ML\", hide_cols)\n",
    "df_conf = probabilities.conf_by_index(df_conf)\n",
    "df_conf.head()"
   ]
  },
  {
   "cell_type": "code",
   "execution_count": 7,
   "metadata": {},
   "outputs": [
    {
     "data": {
      "text/html": [
       "<div>\n",
       "<style scoped>\n",
       "    .dataframe tbody tr th:only-of-type {\n",
       "        vertical-align: middle;\n",
       "    }\n",
       "\n",
       "    .dataframe tbody tr th {\n",
       "        vertical-align: top;\n",
       "    }\n",
       "\n",
       "    .dataframe thead th {\n",
       "        text-align: right;\n",
       "    }\n",
       "</style>\n",
       "<table border=\"1\" class=\"dataframe\">\n",
       "  <thead>\n",
       "    <tr style=\"text-align: right;\">\n",
       "      <th></th>\n",
       "      <th>test_index</th>\n",
       "      <th>conf_1</th>\n",
       "    </tr>\n",
       "  </thead>\n",
       "  <tbody>\n",
       "    <tr>\n",
       "      <th>1343</th>\n",
       "      <td>1343</td>\n",
       "      <td>0.035976</td>\n",
       "    </tr>\n",
       "    <tr>\n",
       "      <th>1356</th>\n",
       "      <td>1356</td>\n",
       "      <td>0.044781</td>\n",
       "    </tr>\n",
       "    <tr>\n",
       "      <th>969</th>\n",
       "      <td>969</td>\n",
       "      <td>0.054478</td>\n",
       "    </tr>\n",
       "    <tr>\n",
       "      <th>550</th>\n",
       "      <td>550</td>\n",
       "      <td>0.060398</td>\n",
       "    </tr>\n",
       "    <tr>\n",
       "      <th>1879</th>\n",
       "      <td>1879</td>\n",
       "      <td>0.067095</td>\n",
       "    </tr>\n",
       "    <tr>\n",
       "      <th>...</th>\n",
       "      <td>...</td>\n",
       "      <td>...</td>\n",
       "    </tr>\n",
       "    <tr>\n",
       "      <th>1314</th>\n",
       "      <td>1314</td>\n",
       "      <td>0.978135</td>\n",
       "    </tr>\n",
       "    <tr>\n",
       "      <th>330</th>\n",
       "      <td>330</td>\n",
       "      <td>0.979723</td>\n",
       "    </tr>\n",
       "    <tr>\n",
       "      <th>1414</th>\n",
       "      <td>1414</td>\n",
       "      <td>0.979727</td>\n",
       "    </tr>\n",
       "    <tr>\n",
       "      <th>1239</th>\n",
       "      <td>1239</td>\n",
       "      <td>0.980301</td>\n",
       "    </tr>\n",
       "    <tr>\n",
       "      <th>1312</th>\n",
       "      <td>1312</td>\n",
       "      <td>0.982019</td>\n",
       "    </tr>\n",
       "  </tbody>\n",
       "</table>\n",
       "<p>1881 rows × 2 columns</p>\n",
       "</div>"
      ],
      "text/plain": [
       "      test_index    conf_1\n",
       "1343        1343  0.035976\n",
       "1356        1356  0.044781\n",
       "969          969  0.054478\n",
       "550          550  0.060398\n",
       "1879        1879  0.067095\n",
       "...          ...       ...\n",
       "1314        1314  0.978135\n",
       "330          330  0.979723\n",
       "1414        1414  0.979727\n",
       "1239        1239  0.980301\n",
       "1312        1312  0.982019\n",
       "\n",
       "[1881 rows x 2 columns]"
      ]
     },
     "execution_count": 7,
     "metadata": {},
     "output_type": "execute_result"
    }
   ],
   "source": [
    "df_conf = df_conf.sort_values(by='conf_1')\n",
    "df_conf"
   ]
  },
  {
   "attachments": {},
   "cell_type": "markdown",
   "metadata": {},
   "source": [
    "## Propensity score"
   ]
  },
  {
   "cell_type": "code",
   "execution_count": 8,
   "metadata": {},
   "outputs": [
    {
     "name": "stdout",
     "output_type": "stream",
     "text": [
      "[0.14832535885167464, 0.19776714513556617, 0.18819776714513556]\n"
     ]
    },
    {
     "data": {
      "image/png": "[encoded data removed]",
      "text/plain": [
       "<Figure size 640x480 with 1 Axes>"
      ]
     },
     "metadata": {},
     "output_type": "display_data"
    }
   ],
   "source": [
    "num_buckets = 3\n",
    "percentages = get_percentage_winning_bucket_n_buckets(df_conf, num_buckets)\n",
    "print(percentages)\n",
    "counfounding_plot(percentages, num_buckets)"
   ]
  },
  {
   "attachments": {},
   "cell_type": "markdown",
   "metadata": {},
   "source": [
    "# Judge"
   ]
  },
  {
   "attachments": {},
   "cell_type": "markdown",
   "metadata": {},
   "source": [
    "## Gender predictor"
   ]
  },
  {
   "cell_type": "code",
   "execution_count": 9,
   "metadata": {},
   "outputs": [
    {
     "name": "stdout",
     "output_type": "stream",
     "text": [
      "Balanced accuracy mean: 0.5007656480448502\n"
     ]
    },
    {
     "data": {
      "text/html": [
       "<div>\n",
       "<style scoped>\n",
       "    .dataframe tbody tr th:only-of-type {\n",
       "        vertical-align: middle;\n",
       "    }\n",
       "\n",
       "    .dataframe tbody tr th {\n",
       "        vertical-align: top;\n",
       "    }\n",
       "\n",
       "    .dataframe thead th {\n",
       "        text-align: right;\n",
       "    }\n",
       "</style>\n",
       "<table border=\"1\" class=\"dataframe\">\n",
       "  <thead>\n",
       "    <tr style=\"text-align: right;\">\n",
       "      <th></th>\n",
       "      <th>test_index</th>\n",
       "      <th>conf_1</th>\n",
       "    </tr>\n",
       "  </thead>\n",
       "  <tbody>\n",
       "    <tr>\n",
       "      <th>0</th>\n",
       "      <td>0</td>\n",
       "      <td>0.649299</td>\n",
       "    </tr>\n",
       "    <tr>\n",
       "      <th>1</th>\n",
       "      <td>1</td>\n",
       "      <td>0.627215</td>\n",
       "    </tr>\n",
       "    <tr>\n",
       "      <th>2</th>\n",
       "      <td>2</td>\n",
       "      <td>0.655725</td>\n",
       "    </tr>\n",
       "    <tr>\n",
       "      <th>3</th>\n",
       "      <td>3</td>\n",
       "      <td>0.649831</td>\n",
       "    </tr>\n",
       "    <tr>\n",
       "      <th>4</th>\n",
       "      <td>4</td>\n",
       "      <td>0.643602</td>\n",
       "    </tr>\n",
       "  </tbody>\n",
       "</table>\n",
       "</div>"
      ],
      "text/plain": [
       "   test_index    conf_1\n",
       "0           0  0.649299\n",
       "1           1  0.627215\n",
       "2           2  0.655725\n",
       "3           3  0.649831\n",
       "4           4  0.643602"
      ]
     },
     "execution_count": 9,
     "metadata": {},
     "output_type": "execute_result"
    }
   ],
   "source": [
    "df_conf_judge = probabilities.lr_classifier_conf(df, \"JUDGE_ML\", hide_cols)\n",
    "df_conf_judge = probabilities.conf_by_index(df_conf_judge)\n",
    "df_conf_judge.head()"
   ]
  },
  {
   "cell_type": "code",
   "execution_count": 10,
   "metadata": {},
   "outputs": [
    {
     "data": {
      "text/html": [
       "<div>\n",
       "<style scoped>\n",
       "    .dataframe tbody tr th:only-of-type {\n",
       "        vertical-align: middle;\n",
       "    }\n",
       "\n",
       "    .dataframe tbody tr th {\n",
       "        vertical-align: top;\n",
       "    }\n",
       "\n",
       "    .dataframe thead th {\n",
       "        text-align: right;\n",
       "    }\n",
       "</style>\n",
       "<table border=\"1\" class=\"dataframe\">\n",
       "  <thead>\n",
       "    <tr style=\"text-align: right;\">\n",
       "      <th></th>\n",
       "      <th>test_index</th>\n",
       "      <th>conf_1</th>\n",
       "    </tr>\n",
       "  </thead>\n",
       "  <tbody>\n",
       "    <tr>\n",
       "      <th>1797</th>\n",
       "      <td>1797</td>\n",
       "      <td>0.329396</td>\n",
       "    </tr>\n",
       "    <tr>\n",
       "      <th>263</th>\n",
       "      <td>263</td>\n",
       "      <td>0.433841</td>\n",
       "    </tr>\n",
       "    <tr>\n",
       "      <th>1270</th>\n",
       "      <td>1270</td>\n",
       "      <td>0.447217</td>\n",
       "    </tr>\n",
       "    <tr>\n",
       "      <th>1408</th>\n",
       "      <td>1408</td>\n",
       "      <td>0.459943</td>\n",
       "    </tr>\n",
       "    <tr>\n",
       "      <th>1844</th>\n",
       "      <td>1844</td>\n",
       "      <td>0.461364</td>\n",
       "    </tr>\n",
       "    <tr>\n",
       "      <th>...</th>\n",
       "      <td>...</td>\n",
       "      <td>...</td>\n",
       "    </tr>\n",
       "    <tr>\n",
       "      <th>136</th>\n",
       "      <td>136</td>\n",
       "      <td>0.775646</td>\n",
       "    </tr>\n",
       "    <tr>\n",
       "      <th>1770</th>\n",
       "      <td>1770</td>\n",
       "      <td>0.778459</td>\n",
       "    </tr>\n",
       "    <tr>\n",
       "      <th>1031</th>\n",
       "      <td>1031</td>\n",
       "      <td>0.779994</td>\n",
       "    </tr>\n",
       "    <tr>\n",
       "      <th>746</th>\n",
       "      <td>746</td>\n",
       "      <td>0.807877</td>\n",
       "    </tr>\n",
       "    <tr>\n",
       "      <th>413</th>\n",
       "      <td>413</td>\n",
       "      <td>0.813207</td>\n",
       "    </tr>\n",
       "  </tbody>\n",
       "</table>\n",
       "<p>1881 rows × 2 columns</p>\n",
       "</div>"
      ],
      "text/plain": [
       "      test_index    conf_1\n",
       "1797        1797  0.329396\n",
       "263          263  0.433841\n",
       "1270        1270  0.447217\n",
       "1408        1408  0.459943\n",
       "1844        1844  0.461364\n",
       "...          ...       ...\n",
       "136          136  0.775646\n",
       "1770        1770  0.778459\n",
       "1031        1031  0.779994\n",
       "746          746  0.807877\n",
       "413          413  0.813207\n",
       "\n",
       "[1881 rows x 2 columns]"
      ]
     },
     "execution_count": 10,
     "metadata": {},
     "output_type": "execute_result"
    }
   ],
   "source": [
    "df_conf_judge = df_conf_judge.sort_values(by='conf_1')\n",
    "df_conf_judge"
   ]
  },
  {
   "attachments": {},
   "cell_type": "markdown",
   "metadata": {},
   "source": [
    "## Propensity score"
   ]
  },
  {
   "cell_type": "code",
   "execution_count": 11,
   "metadata": {},
   "outputs": [
    {
     "name": "stdout",
     "output_type": "stream",
     "text": [
      "[0.215311004784689, 0.16108452950558214, 0.15789473684210525]\n"
     ]
    },
    {
     "data": {
      "image/png": "[encoded data removed]",
      "text/plain": [
       "<Figure size 640x480 with 1 Axes>"
      ]
     },
     "metadata": {},
     "output_type": "display_data"
    }
   ],
   "source": [
    "num_buckets = 3\n",
    "percentages = get_percentage_winning_bucket_n_buckets(df_conf_judge, num_buckets)\n",
    "print(percentages)\n",
    "counfounding_plot(percentages, num_buckets)"
   ]
  },
  {
   "cell_type": "code",
   "execution_count": null,
   "metadata": {},
   "outputs": [],
   "source": []
  }
 ],
 "metadata": {
  "kernelspec": {
   "display_name": "base",
   "language": "python",
   "name": "python3"
  },
  "language_info": {
   "codemirror_mode": {
    "name": "ipython",
    "version": 3
   },
   "file_extension": ".py",
   "mimetype": "text/x-python",
   "name": "python",
   "nbconvert_exporter": "python",
   "pygments_lexer": "ipython3",
   "version": "3.8.3"
  },
  "orig_nbformat": 4,
  "vscode": {
   "interpreter": {
    "hash": "cb57b3ccfe62c6746bf3247651268e5f45d4314d13d2f08503817b1c05971834"
   }
  }
 },
 "nbformat": 4,
 "nbformat_minor": 2
}
