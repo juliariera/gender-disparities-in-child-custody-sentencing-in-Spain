{
 "cells": [
  {
   "cell_type": "markdown",
   "metadata": {},
   "source": [
    "**Imports**"
   ]
  },
  {
   "cell_type": "code",
   "execution_count": 93,
   "metadata": {},
   "outputs": [],
   "source": [
    "import pandas as pd\n",
    "import numpy as np\n",
    "import seaborn as sns\n",
    "from collections import Counter\n",
    "import matplotlib.pyplot as plt\n",
    "import json\n",
    "\n",
    "import sys  \n",
    "sys.path.append('../')\n",
    "\n",
    "import modules.exploratory_data_analysis.base_rates as base_rates\n",
    "import modules.exploratory_data_analysis.statistical_analysis as statistical_analysis\n",
    "\n",
    "import warnings\n",
    "warnings.filterwarnings('ignore')\n",
    "\n",
    "from importlib import reload\n",
    "statistical_analysis = reload(statistical_analysis)"
   ]
  },
  {
   "cell_type": "markdown",
   "metadata": {},
   "source": [
    "# Load extended dataset"
   ]
  },
  {
   "cell_type": "code",
   "execution_count": 94,
   "metadata": {},
   "outputs": [
    {
     "data": {
      "text/html": [
       "<div>\n",
       "<style scoped>\n",
       "    .dataframe tbody tr th:only-of-type {\n",
       "        vertical-align: middle;\n",
       "    }\n",
       "\n",
       "    .dataframe tbody tr th {\n",
       "        vertical-align: top;\n",
       "    }\n",
       "\n",
       "    .dataframe thead th {\n",
       "        text-align: right;\n",
       "    }\n",
       "</style>\n",
       "<table border=\"1\" class=\"dataframe\">\n",
       "  <thead>\n",
       "    <tr style=\"text-align: right;\">\n",
       "      <th></th>\n",
       "      <th>DATE</th>\n",
       "      <th>YEAR</th>\n",
       "      <th>Train</th>\n",
       "      <th>ID</th>\n",
       "      <th>URL</th>\n",
       "      <th>HQ</th>\n",
       "      <th>AUT_COMM</th>\n",
       "      <th>PLAIN_ML</th>\n",
       "      <th>PLAIN_WO</th>\n",
       "      <th>DEFEN_ML</th>\n",
       "      <th>...</th>\n",
       "      <th>FT_AG</th>\n",
       "      <th>LN_JNPREF_b</th>\n",
       "      <th>LN_JNPREF</th>\n",
       "      <th>FT_SL_IN_b</th>\n",
       "      <th>FT_JN_IN_b</th>\n",
       "      <th>FT_SL_IN</th>\n",
       "      <th>FT_JN_IN</th>\n",
       "      <th>JUDGE_ML</th>\n",
       "      <th>JUDGE_ID</th>\n",
       "      <th>Unnamed: 113</th>\n",
       "    </tr>\n",
       "  </thead>\n",
       "  <tbody>\n",
       "    <tr>\n",
       "      <th>0</th>\n",
       "      <td>43362</td>\n",
       "      <td>2018</td>\n",
       "      <td>1</td>\n",
       "      <td>APA_2018_3010</td>\n",
       "      <td>http://labje.unizar.es/sentencias/APA_2018_301...</td>\n",
       "      <td>Alicante</td>\n",
       "      <td>Comunidad Valenciana</td>\n",
       "      <td>1</td>\n",
       "      <td>0</td>\n",
       "      <td>0</td>\n",
       "      <td>...</td>\n",
       "      <td>0</td>\n",
       "      <td>0</td>\n",
       "      <td>0</td>\n",
       "      <td>3</td>\n",
       "      <td>2</td>\n",
       "      <td>5</td>\n",
       "      <td>4</td>\n",
       "      <td>1</td>\n",
       "      <td>0</td>\n",
       "      <td>NaN</td>\n",
       "    </tr>\n",
       "    <tr>\n",
       "      <th>1</th>\n",
       "      <td>43621</td>\n",
       "      <td>2019</td>\n",
       "      <td>0</td>\n",
       "      <td>APA_2019_1490</td>\n",
       "      <td>http://labje.unizar.es/sentencias/APA_2019_149...</td>\n",
       "      <td>Alicante</td>\n",
       "      <td>Comunidad Valenciana</td>\n",
       "      <td>1</td>\n",
       "      <td>0</td>\n",
       "      <td>0</td>\n",
       "      <td>...</td>\n",
       "      <td>0</td>\n",
       "      <td>0</td>\n",
       "      <td>0</td>\n",
       "      <td>1</td>\n",
       "      <td>1</td>\n",
       "      <td>1</td>\n",
       "      <td>3</td>\n",
       "      <td>1</td>\n",
       "      <td>1</td>\n",
       "      <td>NaN</td>\n",
       "    </tr>\n",
       "    <tr>\n",
       "      <th>2</th>\n",
       "      <td>43607</td>\n",
       "      <td>2019</td>\n",
       "      <td>0</td>\n",
       "      <td>APA_2019_1497</td>\n",
       "      <td>http://labje.unizar.es/sentencias/APA_2019_149...</td>\n",
       "      <td>Alicante</td>\n",
       "      <td>Comunidad Valenciana</td>\n",
       "      <td>1</td>\n",
       "      <td>0</td>\n",
       "      <td>0</td>\n",
       "      <td>...</td>\n",
       "      <td>0</td>\n",
       "      <td>0</td>\n",
       "      <td>0</td>\n",
       "      <td>4</td>\n",
       "      <td>3</td>\n",
       "      <td>8</td>\n",
       "      <td>6</td>\n",
       "      <td>1</td>\n",
       "      <td>1</td>\n",
       "      <td>NaN</td>\n",
       "    </tr>\n",
       "    <tr>\n",
       "      <th>3</th>\n",
       "      <td>43600</td>\n",
       "      <td>2019</td>\n",
       "      <td>0</td>\n",
       "      <td>APA_2019_1500</td>\n",
       "      <td>http://labje.unizar.es/sentencias/APA_2019_150...</td>\n",
       "      <td>Alicante</td>\n",
       "      <td>Comunidad Valenciana</td>\n",
       "      <td>1</td>\n",
       "      <td>0</td>\n",
       "      <td>0</td>\n",
       "      <td>...</td>\n",
       "      <td>0</td>\n",
       "      <td>0</td>\n",
       "      <td>0</td>\n",
       "      <td>2</td>\n",
       "      <td>1</td>\n",
       "      <td>3</td>\n",
       "      <td>2</td>\n",
       "      <td>0</td>\n",
       "      <td>2</td>\n",
       "      <td>NaN</td>\n",
       "    </tr>\n",
       "    <tr>\n",
       "      <th>4</th>\n",
       "      <td>43818</td>\n",
       "      <td>2019</td>\n",
       "      <td>0</td>\n",
       "      <td>APA_2019_15542</td>\n",
       "      <td>http://labje.unizar.es/sentencias/APA_2019_155...</td>\n",
       "      <td>Barcelona</td>\n",
       "      <td>Cataluña</td>\n",
       "      <td>1</td>\n",
       "      <td>0</td>\n",
       "      <td>0</td>\n",
       "      <td>...</td>\n",
       "      <td>0</td>\n",
       "      <td>0</td>\n",
       "      <td>0</td>\n",
       "      <td>2</td>\n",
       "      <td>0</td>\n",
       "      <td>3</td>\n",
       "      <td>0</td>\n",
       "      <td>1</td>\n",
       "      <td>3</td>\n",
       "      <td>NaN</td>\n",
       "    </tr>\n",
       "  </tbody>\n",
       "</table>\n",
       "<p>5 rows × 117 columns</p>\n",
       "</div>"
      ],
      "text/plain": [
       "    DATE  YEAR  Train              ID  \\\n",
       "0  43362  2018      1   APA_2018_3010   \n",
       "1  43621  2019      0   APA_2019_1490   \n",
       "2  43607  2019      0   APA_2019_1497   \n",
       "3  43600  2019      0   APA_2019_1500   \n",
       "4  43818  2019      0  APA_2019_15542   \n",
       "\n",
       "                                                 URL         HQ  \\\n",
       "0  http://labje.unizar.es/sentencias/APA_2018_301...   Alicante   \n",
       "1  http://labje.unizar.es/sentencias/APA_2019_149...   Alicante   \n",
       "2  http://labje.unizar.es/sentencias/APA_2019_149...   Alicante   \n",
       "3  http://labje.unizar.es/sentencias/APA_2019_150...   Alicante   \n",
       "4  http://labje.unizar.es/sentencias/APA_2019_155...  Barcelona   \n",
       "\n",
       "               AUT_COMM  PLAIN_ML  PLAIN_WO  DEFEN_ML  ...  FT_AG  \\\n",
       "0  Comunidad Valenciana         1         0         0  ...      0   \n",
       "1  Comunidad Valenciana         1         0         0  ...      0   \n",
       "2  Comunidad Valenciana         1         0         0  ...      0   \n",
       "3  Comunidad Valenciana         1         0         0  ...      0   \n",
       "4              Cataluña         1         0         0  ...      0   \n",
       "\n",
       "   LN_JNPREF_b  LN_JNPREF  FT_SL_IN_b  FT_JN_IN_b  FT_SL_IN  FT_JN_IN  \\\n",
       "0            0          0           3           2         5         4   \n",
       "1            0          0           1           1         1         3   \n",
       "2            0          0           4           3         8         6   \n",
       "3            0          0           2           1         3         2   \n",
       "4            0          0           2           0         3         0   \n",
       "\n",
       "   JUDGE_ML  JUDGE_ID  Unnamed: 113  \n",
       "0         1         0           NaN  \n",
       "1         1         1           NaN  \n",
       "2         1         1           NaN  \n",
       "3         0         2           NaN  \n",
       "4         1         3           NaN  \n",
       "\n",
       "[5 rows x 117 columns]"
      ]
     },
     "execution_count": 94,
     "metadata": {},
     "output_type": "execute_result"
    }
   ],
   "source": [
    "df = pd.read_csv(\"..\\..\\output\\extended_dataset.csv\", sep=\";\")\n",
    "df.head()"
   ]
  },
  {
   "attachments": {},
   "cell_type": "markdown",
   "metadata": {},
   "source": [
    "## Economic features analysis (plaintiff)"
   ]
  },
  {
   "cell_type": "markdown",
   "metadata": {},
   "source": [
    "### By type of request"
   ]
  },
  {
   "cell_type": "code",
   "execution_count": 95,
   "metadata": {},
   "outputs": [
    {
     "name": "stdout",
     "output_type": "stream",
     "text": [
      "RQ_JOINT = 0 -->  RQ_MP_AT: Counter({0: 520, 1: 333})\n",
      "\n",
      "Request sole asks for maintenance payments attribution: 39.04%\n",
      "\n",
      "RQ_JOINT = 1 -->  RQ_MP_AT: Counter({0: 1000, 1: 31})\n",
      "\n",
      "Request joint asks for maintenance payments attribution: 3.01%\n"
     ]
    }
   ],
   "source": [
    "base_rates.percentages_by_group(df, \"RQ_MP_AT\", \"RQ_JOINT\", \"Request sole asks for maintenance payments attribution\", \"Request joint asks for maintenance payments attribution\")"
   ]
  },
  {
   "cell_type": "code",
   "execution_count": 96,
   "metadata": {},
   "outputs": [
    {
     "name": "stdout",
     "output_type": "stream",
     "text": [
      "RQ_JOINT = 0 -->  RQ_MP_SP: Counter({0: 733, 1: 120})\n",
      "\n",
      "Request sole asks for maintenance payments suppression: 14.07%\n",
      "\n",
      "RQ_JOINT = 1 -->  RQ_MP_SP: Counter({1: 583, 0: 448})\n",
      "\n",
      "Request joint asks for maintenance payments suppression: 56.55%\n"
     ]
    }
   ],
   "source": [
    "base_rates.percentages_by_group(df, \"RQ_MP_SP\", \"RQ_JOINT\", \"Request sole asks for maintenance payments suppression\", \"Request joint asks for maintenance payments suppression\")"
   ]
  },
  {
   "cell_type": "code",
   "execution_count": 97,
   "metadata": {},
   "outputs": [
    {
     "name": "stdout",
     "output_type": "stream",
     "text": [
      "RQ_JOINT = 0 -->  RQ_FH_AT: Counter({0: 758, 1: 95})\n",
      "\n",
      "Request sole asks for family home attribution: 11.14%\n",
      "\n",
      "RQ_JOINT = 1 -->  RQ_FH_AT: Counter({0: 947, 1: 84})\n",
      "\n",
      "Request joint asks for family home attribution: 8.15%\n"
     ]
    }
   ],
   "source": [
    "base_rates.percentages_by_group(df, \"RQ_FH_AT\", \"RQ_JOINT\", \"Request sole asks for family home attribution\", \"Request joint asks for family home attribution\")"
   ]
  },
  {
   "cell_type": "code",
   "execution_count": 98,
   "metadata": {},
   "outputs": [
    {
     "name": "stdout",
     "output_type": "stream",
     "text": [
      "RQ_JOINT = 0 -->  RQ_FH_SP: Counter({0: 845, 1: 8})\n",
      "\n",
      "Request sole asks for family home suppression: 0.94%\n",
      "\n",
      "RQ_JOINT = 1 -->  RQ_FH_SP: Counter({0: 965, 1: 66})\n",
      "\n",
      "Request joint asks for family home suppression: 6.4%\n"
     ]
    }
   ],
   "source": [
    "base_rates.percentages_by_group(df, \"RQ_FH_SP\", \"RQ_JOINT\", \"Request sole asks for family home suppression\", \"Request joint asks for family home suppression\")"
   ]
  },
  {
   "cell_type": "markdown",
   "metadata": {},
   "source": [
    "### Maintenance payments request (attribution and suppression)"
   ]
  },
  {
   "cell_type": "code",
   "execution_count": 99,
   "metadata": {},
   "outputs": [
    {
     "name": "stdout",
     "output_type": "stream",
     "text": [
      "PLAIN_ML = 0 -->  RQ_MP_AT: Counter({0: 473, 1: 280})\n",
      "\n",
      "Female plaintiff asks for maintenance payments attribution: 37.18%\n",
      "\n",
      "PLAIN_ML = 1 -->  RQ_MP_AT: Counter({0: 1047, 1: 84})\n",
      "\n",
      "Male plaintiff asks for maintenance payments attribution: 7.43%\n"
     ]
    }
   ],
   "source": [
    "base_rates.percentages_by_group(df, \"RQ_MP_AT\", \"PLAIN_ML\", \"Female plaintiff asks for maintenance payments attribution\", \"Male plaintiff asks for maintenance payments attribution\")"
   ]
  },
  {
   "cell_type": "code",
   "execution_count": 100,
   "metadata": {},
   "outputs": [
    {
     "name": "stdout",
     "output_type": "stream",
     "text": [
      "PLAIN_ML = 0 -->  RQ_MP_SP: Counter({0: 654, 1: 99})\n",
      "\n",
      "Female plaintiff asks for maintenance payments suppression: 13.15%\n",
      "\n",
      "PLAIN_ML = 1 -->  RQ_MP_SP: Counter({1: 604, 0: 527})\n",
      "\n",
      "Male plaintiff asks for maintenance payments suppression: 53.4%\n"
     ]
    }
   ],
   "source": [
    "base_rates.percentages_by_group(df, \"RQ_MP_SP\", \"PLAIN_ML\", \"Female plaintiff asks for maintenance payments suppression\", \"Male plaintiff asks for maintenance payments suppression\")"
   ]
  },
  {
   "cell_type": "markdown",
   "metadata": {},
   "source": [
    "<div class=\"alert alert-block alert-warning col-md-12\">\n",
    "\n",
    "<p>\n",
    "The percentages between female and male plaintiffs when asking for the attribution or the suppression of maintenance payments are highly imbalanced. Females tend to ask much more than males for the attribution and males tend to ask much more than females for their suppression.</p>\n",
    "\n",
    "</div>"
   ]
  },
  {
   "cell_type": "markdown",
   "metadata": {},
   "source": [
    "#### Maintenance payments request attribution and suppression - sole custody request"
   ]
  },
  {
   "cell_type": "code",
   "execution_count": 101,
   "metadata": {},
   "outputs": [],
   "source": [
    "df_request_sole, df_request_joint = base_rates.df_by_group(df, \"RQ_JOINT\")"
   ]
  },
  {
   "cell_type": "code",
   "execution_count": 102,
   "metadata": {},
   "outputs": [
    {
     "name": "stdout",
     "output_type": "stream",
     "text": [
      "PLAIN_ML = 0 -->  RQ_MP_AT: Counter({0: 378, 1: 273})\n",
      "\n",
      "Female plaintiff asks for maintenance payments attribution: 41.94%\n",
      "\n",
      "PLAIN_ML = 1 -->  RQ_MP_AT: Counter({0: 142, 1: 60})\n",
      "\n",
      "Male plaintiff asks for maintenance payments attribution: 29.7%\n"
     ]
    }
   ],
   "source": [
    "base_rates.percentages_by_group(df_request_sole, \"RQ_MP_AT\", \"PLAIN_ML\", \"Female plaintiff asks for maintenance payments attribution\", \"Male plaintiff asks for maintenance payments attribution\")"
   ]
  },
  {
   "cell_type": "code",
   "execution_count": 103,
   "metadata": {},
   "outputs": [
    {
     "name": "stdout",
     "output_type": "stream",
     "text": [
      "PLAIN_ML = 0 -->  RQ_MP_SP: Counter({0: 594, 1: 57})\n",
      "\n",
      "Female plaintiff asks for maintenance payments suppression: 8.76%\n",
      "\n",
      "PLAIN_ML = 1 -->  RQ_MP_SP: Counter({0: 139, 1: 63})\n",
      "\n",
      "Male plaintiff asks for maintenance payments suppression: 31.19%\n"
     ]
    }
   ],
   "source": [
    "base_rates.percentages_by_group(df_request_sole, \"RQ_MP_SP\", \"PLAIN_ML\", \"Female plaintiff asks for maintenance payments suppression\", \"Male plaintiff asks for maintenance payments suppression\")"
   ]
  },
  {
   "cell_type": "markdown",
   "metadata": {},
   "source": [
    "#### Maintenance payments request attribution and suppression - joint custody request"
   ]
  },
  {
   "cell_type": "code",
   "execution_count": 104,
   "metadata": {},
   "outputs": [
    {
     "name": "stdout",
     "output_type": "stream",
     "text": [
      "PLAIN_ML = 0 -->  RQ_MP_AT: Counter({0: 95, 1: 7})\n",
      "\n",
      "Female plaintiff asks for maintenance payments attribution: 6.86%\n",
      "\n",
      "PLAIN_ML = 1 -->  RQ_MP_AT: Counter({0: 905, 1: 24})\n",
      "\n",
      "Male plaintiff asks for maintenance payments attribution: 2.58%\n"
     ]
    }
   ],
   "source": [
    "base_rates.percentages_by_group(df_request_joint, \"RQ_MP_AT\", \"PLAIN_ML\", \"Female plaintiff asks for maintenance payments attribution\", \"Male plaintiff asks for maintenance payments attribution\")"
   ]
  },
  {
   "cell_type": "code",
   "execution_count": 105,
   "metadata": {},
   "outputs": [
    {
     "name": "stdout",
     "output_type": "stream",
     "text": [
      "PLAIN_ML = 0 -->  RQ_MP_SP: Counter({0: 60, 1: 42})\n",
      "\n",
      "Female plaintiff asks for maintenance payments suppression: 41.18%\n",
      "\n",
      "PLAIN_ML = 1 -->  RQ_MP_SP: Counter({1: 541, 0: 388})\n",
      "\n",
      "Male plaintiff asks for maintenance payments suppression: 58.23%\n"
     ]
    }
   ],
   "source": [
    "base_rates.percentages_by_group(df_request_joint, \"RQ_MP_SP\", \"PLAIN_ML\", \"Female plaintiff asks for maintenance payments suppression\", \"Male plaintiff asks for maintenance payments suppression\")"
   ]
  },
  {
   "cell_type": "markdown",
   "metadata": {},
   "source": [
    "### Family home request (attribution and suppression)"
   ]
  },
  {
   "cell_type": "code",
   "execution_count": 106,
   "metadata": {},
   "outputs": [
    {
     "name": "stdout",
     "output_type": "stream",
     "text": [
      "PLAIN_ML = 0 -->  RQ_FH_AT: Counter({0: 666, 1: 87})\n",
      "\n",
      "Female plaintiff asks for family home attribution: 11.55%\n",
      "\n",
      "PLAIN_ML = 1 -->  RQ_FH_AT: Counter({0: 1039, 1: 92})\n",
      "\n",
      "Male plaintiff asks for family home attribution: 8.13%\n"
     ]
    }
   ],
   "source": [
    "base_rates.percentages_by_group(df, \"RQ_FH_AT\", \"PLAIN_ML\", \"Female plaintiff asks for family home attribution\", \"Male plaintiff asks for family home attribution\")"
   ]
  },
  {
   "cell_type": "code",
   "execution_count": 107,
   "metadata": {
    "scrolled": true
   },
   "outputs": [
    {
     "name": "stdout",
     "output_type": "stream",
     "text": [
      "PLAIN_ML = 0 -->  RQ_FH_SP: Counter({0: 744, 1: 9})\n",
      "\n",
      "Female plaintiff asks for family home suppression: 1.2%\n",
      "\n",
      "PLAIN_ML = 1 -->  RQ_FH_SP: Counter({0: 1066, 1: 65})\n",
      "\n",
      "Male plaintiff asks for family home suppression: 5.75%\n"
     ]
    }
   ],
   "source": [
    "base_rates.percentages_by_group(df, \"RQ_FH_SP\", \"PLAIN_ML\", \"Female plaintiff asks for family home suppression\", \"Male plaintiff asks for family home suppression\")"
   ]
  },
  {
   "cell_type": "markdown",
   "metadata": {},
   "source": [
    "<div class=\"alert alert-block alert-warning col-md-12\">\n",
    "\n",
    "<p>\n",
    "For the family home attribution or suppression request, we can see the same pattern as in the maintenance payments request, although the differences are not that extreme.</p>\n",
    "\n",
    "</div>"
   ]
  },
  {
   "cell_type": "markdown",
   "metadata": {},
   "source": [
    "#### Family home request (attribution and suppression) - sole custody"
   ]
  },
  {
   "cell_type": "code",
   "execution_count": 108,
   "metadata": {},
   "outputs": [
    {
     "name": "stdout",
     "output_type": "stream",
     "text": [
      "PLAIN_ML = 0 -->  RQ_FH_AT: Counter({0: 571, 1: 80})\n",
      "\n",
      "Female plaintiff asks for family home attribution: 12.29%\n",
      "\n",
      "PLAIN_ML = 1 -->  RQ_FH_AT: Counter({0: 187, 1: 15})\n",
      "\n",
      "Male plaintiff asks for family home attribution: 7.43%\n"
     ]
    }
   ],
   "source": [
    "base_rates.percentages_by_group(df_request_sole, \"RQ_FH_AT\", \"PLAIN_ML\", \"Female plaintiff asks for family home attribution\", \"Male plaintiff asks for family home attribution\")"
   ]
  },
  {
   "cell_type": "code",
   "execution_count": 109,
   "metadata": {},
   "outputs": [
    {
     "name": "stdout",
     "output_type": "stream",
     "text": [
      "PLAIN_ML = 0 -->  RQ_FH_SP: Counter({0: 647, 1: 4})\n",
      "\n",
      "Female plaintiff asks for family home suppression: 0.61%\n",
      "\n",
      "PLAIN_ML = 1 -->  RQ_FH_SP: Counter({0: 198, 1: 4})\n",
      "\n",
      "Male plaintiff asks for family home suppression: 1.98%\n"
     ]
    }
   ],
   "source": [
    "base_rates.percentages_by_group(df_request_sole, \"RQ_FH_SP\", \"PLAIN_ML\", \"Female plaintiff asks for family home suppression\", \"Male plaintiff asks for family home suppression\")"
   ]
  },
  {
   "cell_type": "markdown",
   "metadata": {},
   "source": [
    "#### Family home request (attribution and suppression) - joint custody"
   ]
  },
  {
   "cell_type": "code",
   "execution_count": 110,
   "metadata": {},
   "outputs": [
    {
     "name": "stdout",
     "output_type": "stream",
     "text": [
      "PLAIN_ML = 0 -->  RQ_FH_AT: Counter({0: 95, 1: 7})\n",
      "\n",
      "Female plaintiff asks for family home attribution: 6.86%\n",
      "\n",
      "PLAIN_ML = 1 -->  RQ_FH_AT: Counter({0: 852, 1: 77})\n",
      "\n",
      "Male plaintiff asks for family home attribution: 8.29%\n"
     ]
    }
   ],
   "source": [
    "base_rates.percentages_by_group(df_request_joint, \"RQ_FH_AT\", \"PLAIN_ML\", \"Female plaintiff asks for family home attribution\", \"Male plaintiff asks for family home attribution\")"
   ]
  },
  {
   "cell_type": "code",
   "execution_count": 111,
   "metadata": {},
   "outputs": [
    {
     "name": "stdout",
     "output_type": "stream",
     "text": [
      "PLAIN_ML = 0 -->  RQ_FH_SP: Counter({0: 97, 1: 5})\n",
      "\n",
      "Female plaintiff asks for family home suppression: 4.9%\n",
      "\n",
      "PLAIN_ML = 1 -->  RQ_FH_SP: Counter({0: 868, 1: 61})\n",
      "\n",
      "Male plaintiff asks for family home suppression: 6.57%\n"
     ]
    }
   ],
   "source": [
    "base_rates.percentages_by_group(df_request_joint, \"RQ_FH_SP\", \"PLAIN_ML\", \"Female plaintiff asks for family home suppression\", \"Male plaintiff asks for family home suppression\")"
   ]
  },
  {
   "attachments": {},
   "cell_type": "markdown",
   "metadata": {},
   "source": [
    "### Maintenance payments resolution"
   ]
  },
  {
   "cell_type": "code",
   "execution_count": 112,
   "metadata": {},
   "outputs": [],
   "source": [
    "def attribution_suppression_by_gender(df, var_attr, var_supp):\n",
    "    print(\"ATTRIBUTION\")\n",
    "    print(\"-----------\")\n",
    "    base_rates.percentages_by_group(df, var_attr, \"PLAIN_ML\", \"Female plaintiff\", \"Male plaintiff\")\n",
    "    print(\"\\n\")\n",
    "    print(\"SUPPRESSION\")\n",
    "    print(\"-----------\")\n",
    "    base_rates.percentages_by_group(df, var_supp, \"PLAIN_ML\", \"Female plaintiff\", \"Male plaintiff\")"
   ]
  },
  {
   "cell_type": "code",
   "execution_count": 113,
   "metadata": {},
   "outputs": [
    {
     "name": "stdout",
     "output_type": "stream",
     "text": [
      "ATTRIBUTION\n",
      "-----------\n",
      "PLAIN_ML = 0 -->  CD_MP_AT: Counter({0: 560, 1: 193})\n",
      "\n",
      "Female plaintiff: 25.63%\n",
      "\n",
      "PLAIN_ML = 1 -->  CD_MP_AT: Counter({0: 629, 1: 502})\n",
      "\n",
      "Male plaintiff: 44.39%\n",
      "\n",
      "\n",
      "SUPPRESSION\n",
      "-----------\n",
      "PLAIN_ML = 0 -->  CD_MP_SP: Counter({0: 525, 1: 228})\n",
      "\n",
      "Female plaintiff: 30.28%\n",
      "\n",
      "PLAIN_ML = 1 -->  CD_MP_SP: Counter({0: 881, 1: 250})\n",
      "\n",
      "Male plaintiff: 22.1%\n"
     ]
    }
   ],
   "source": [
    "attribution_suppression_by_gender(df, \"CD_MP_AT\", \"CD_MP_SP\")"
   ]
  },
  {
   "cell_type": "code",
   "execution_count": 114,
   "metadata": {},
   "outputs": [
    {
     "name": "stdout",
     "output_type": "stream",
     "text": [
      "ATTRIBUTION\n",
      "-----------\n",
      "PLAIN_ML = 0 -->  CD_MP_AT: Counter({0: 496, 1: 155})\n",
      "\n",
      "Female plaintiff: 23.81%\n",
      "\n",
      "PLAIN_ML = 1 -->  CD_MP_AT: Counter({0: 130, 1: 72})\n",
      "\n",
      "Male plaintiff: 35.64%\n",
      "\n",
      "\n",
      "SUPPRESSION\n",
      "-----------\n",
      "PLAIN_ML = 0 -->  CD_MP_SP: Counter({0: 438, 1: 213})\n",
      "\n",
      "Female plaintiff: 32.72%\n",
      "\n",
      "PLAIN_ML = 1 -->  CD_MP_SP: Counter({0: 142, 1: 60})\n",
      "\n",
      "Male plaintiff: 29.7%\n"
     ]
    }
   ],
   "source": [
    "attribution_suppression_by_gender(df_request_sole, \"CD_MP_AT\", \"CD_MP_SP\")"
   ]
  },
  {
   "cell_type": "code",
   "execution_count": 115,
   "metadata": {},
   "outputs": [
    {
     "name": "stdout",
     "output_type": "stream",
     "text": [
      "ATTRIBUTION\n",
      "-----------\n",
      "PLAIN_ML = 0 -->  CD_MP_AT: Counter({0: 64, 1: 38})\n",
      "\n",
      "Female plaintiff: 37.25%\n",
      "\n",
      "PLAIN_ML = 1 -->  CD_MP_AT: Counter({0: 499, 1: 430})\n",
      "\n",
      "Male plaintiff: 46.29%\n",
      "\n",
      "\n",
      "SUPPRESSION\n",
      "-----------\n",
      "PLAIN_ML = 0 -->  CD_MP_SP: Counter({0: 87, 1: 15})\n",
      "\n",
      "Female plaintiff: 14.71%\n",
      "\n",
      "PLAIN_ML = 1 -->  CD_MP_SP: Counter({0: 739, 1: 190})\n",
      "\n",
      "Male plaintiff: 20.45%\n"
     ]
    }
   ],
   "source": [
    "attribution_suppression_by_gender(df_request_joint, \"CD_MP_AT\", \"CD_MP_SP\")"
   ]
  },
  {
   "attachments": {},
   "cell_type": "markdown",
   "metadata": {},
   "source": [
    "### Family home resolution"
   ]
  },
  {
   "cell_type": "code",
   "execution_count": 116,
   "metadata": {},
   "outputs": [
    {
     "name": "stdout",
     "output_type": "stream",
     "text": [
      "ATTRIBUTION\n",
      "-----------\n",
      "PLAIN_ML = 0 -->  CD_FH_AT: Counter({0: 724, 1: 29})\n",
      "\n",
      "Female plaintiff: 3.85%\n",
      "\n",
      "PLAIN_ML = 1 -->  CD_FH_AT: Counter({0: 1062, 1: 69})\n",
      "\n",
      "Male plaintiff: 6.1%\n",
      "\n",
      "\n",
      "SUPPRESSION\n",
      "-----------\n",
      "PLAIN_ML = 0 -->  CD_FH_SP: Counter({0: 689, 1: 64})\n",
      "\n",
      "Female plaintiff: 8.5%\n",
      "\n",
      "PLAIN_ML = 1 -->  CD_FH_SP: Counter({0: 1044, 1: 87})\n",
      "\n",
      "Male plaintiff: 7.69%\n"
     ]
    }
   ],
   "source": [
    "attribution_suppression_by_gender(df, \"CD_FH_AT\", \"CD_FH_SP\")"
   ]
  },
  {
   "cell_type": "code",
   "execution_count": 117,
   "metadata": {},
   "outputs": [
    {
     "name": "stdout",
     "output_type": "stream",
     "text": [
      "ATTRIBUTION\n",
      "-----------\n",
      "PLAIN_ML = 0 -->  CD_FH_AT: Counter({0: 626, 1: 25})\n",
      "\n",
      "Female plaintiff: 3.84%\n",
      "\n",
      "PLAIN_ML = 1 -->  CD_FH_AT: Counter({0: 197, 1: 5})\n",
      "\n",
      "Male plaintiff: 2.48%\n",
      "\n",
      "\n",
      "SUPPRESSION\n",
      "-----------\n",
      "PLAIN_ML = 0 -->  CD_FH_SP: Counter({0: 595, 1: 56})\n",
      "\n",
      "Female plaintiff: 8.6%\n",
      "\n",
      "PLAIN_ML = 1 -->  CD_FH_SP: Counter({0: 189, 1: 13})\n",
      "\n",
      "Male plaintiff: 6.44%\n"
     ]
    }
   ],
   "source": [
    "attribution_suppression_by_gender(df_request_sole, \"CD_FH_AT\", \"CD_FH_SP\")"
   ]
  },
  {
   "cell_type": "code",
   "execution_count": 118,
   "metadata": {},
   "outputs": [
    {
     "name": "stdout",
     "output_type": "stream",
     "text": [
      "ATTRIBUTION\n",
      "-----------\n",
      "PLAIN_ML = 0 -->  CD_FH_AT: Counter({0: 98, 1: 4})\n",
      "\n",
      "Female plaintiff: 3.92%\n",
      "\n",
      "PLAIN_ML = 1 -->  CD_FH_AT: Counter({0: 865, 1: 64})\n",
      "\n",
      "Male plaintiff: 6.89%\n",
      "\n",
      "\n",
      "SUPPRESSION\n",
      "-----------\n",
      "PLAIN_ML = 0 -->  CD_FH_SP: Counter({0: 94, 1: 8})\n",
      "\n",
      "Female plaintiff: 7.84%\n",
      "\n",
      "PLAIN_ML = 1 -->  CD_FH_SP: Counter({0: 855, 1: 74})\n",
      "\n",
      "Male plaintiff: 7.97%\n"
     ]
    }
   ],
   "source": [
    "attribution_suppression_by_gender(df_request_joint, \"CD_FH_AT\", \"CD_FH_SP\")"
   ]
  },
  {
   "attachments": {},
   "cell_type": "markdown",
   "metadata": {},
   "source": [
    "# Parallel plot"
   ]
  },
  {
   "cell_type": "code",
   "execution_count": 119,
   "metadata": {},
   "outputs": [
    {
     "data": {
      "text/html": [
       "<div>\n",
       "<style scoped>\n",
       "    .dataframe tbody tr th:only-of-type {\n",
       "        vertical-align: middle;\n",
       "    }\n",
       "\n",
       "    .dataframe tbody tr th {\n",
       "        vertical-align: top;\n",
       "    }\n",
       "\n",
       "    .dataframe thead th {\n",
       "        text-align: right;\n",
       "    }\n",
       "</style>\n",
       "<table border=\"1\" class=\"dataframe\">\n",
       "  <thead>\n",
       "    <tr style=\"text-align: right;\">\n",
       "      <th></th>\n",
       "      <th>DATE</th>\n",
       "      <th>YEAR</th>\n",
       "      <th>Train</th>\n",
       "      <th>ID</th>\n",
       "      <th>URL</th>\n",
       "      <th>HQ</th>\n",
       "      <th>AUT_COMM</th>\n",
       "      <th>PLAIN_ML</th>\n",
       "      <th>PLAIN_WO</th>\n",
       "      <th>DEFEN_ML</th>\n",
       "      <th>...</th>\n",
       "      <th>FT_AG</th>\n",
       "      <th>LN_JNPREF_b</th>\n",
       "      <th>LN_JNPREF</th>\n",
       "      <th>FT_SL_IN_b</th>\n",
       "      <th>FT_JN_IN_b</th>\n",
       "      <th>FT_SL_IN</th>\n",
       "      <th>FT_JN_IN</th>\n",
       "      <th>JUDGE_ML</th>\n",
       "      <th>JUDGE_ID</th>\n",
       "      <th>Unnamed: 113</th>\n",
       "    </tr>\n",
       "  </thead>\n",
       "  <tbody>\n",
       "    <tr>\n",
       "      <th>0</th>\n",
       "      <td>43362</td>\n",
       "      <td>2018</td>\n",
       "      <td>1</td>\n",
       "      <td>APA_2018_3010</td>\n",
       "      <td>http://labje.unizar.es/sentencias/APA_2018_301...</td>\n",
       "      <td>Alicante</td>\n",
       "      <td>Comunidad Valenciana</td>\n",
       "      <td>1</td>\n",
       "      <td>0</td>\n",
       "      <td>0</td>\n",
       "      <td>...</td>\n",
       "      <td>0</td>\n",
       "      <td>0</td>\n",
       "      <td>0</td>\n",
       "      <td>3</td>\n",
       "      <td>2</td>\n",
       "      <td>5</td>\n",
       "      <td>4</td>\n",
       "      <td>1</td>\n",
       "      <td>0</td>\n",
       "      <td>NaN</td>\n",
       "    </tr>\n",
       "    <tr>\n",
       "      <th>1</th>\n",
       "      <td>43621</td>\n",
       "      <td>2019</td>\n",
       "      <td>0</td>\n",
       "      <td>APA_2019_1490</td>\n",
       "      <td>http://labje.unizar.es/sentencias/APA_2019_149...</td>\n",
       "      <td>Alicante</td>\n",
       "      <td>Comunidad Valenciana</td>\n",
       "      <td>1</td>\n",
       "      <td>0</td>\n",
       "      <td>0</td>\n",
       "      <td>...</td>\n",
       "      <td>0</td>\n",
       "      <td>0</td>\n",
       "      <td>0</td>\n",
       "      <td>1</td>\n",
       "      <td>1</td>\n",
       "      <td>1</td>\n",
       "      <td>3</td>\n",
       "      <td>1</td>\n",
       "      <td>1</td>\n",
       "      <td>NaN</td>\n",
       "    </tr>\n",
       "    <tr>\n",
       "      <th>2</th>\n",
       "      <td>43607</td>\n",
       "      <td>2019</td>\n",
       "      <td>0</td>\n",
       "      <td>APA_2019_1497</td>\n",
       "      <td>http://labje.unizar.es/sentencias/APA_2019_149...</td>\n",
       "      <td>Alicante</td>\n",
       "      <td>Comunidad Valenciana</td>\n",
       "      <td>1</td>\n",
       "      <td>0</td>\n",
       "      <td>0</td>\n",
       "      <td>...</td>\n",
       "      <td>0</td>\n",
       "      <td>0</td>\n",
       "      <td>0</td>\n",
       "      <td>4</td>\n",
       "      <td>3</td>\n",
       "      <td>8</td>\n",
       "      <td>6</td>\n",
       "      <td>1</td>\n",
       "      <td>1</td>\n",
       "      <td>NaN</td>\n",
       "    </tr>\n",
       "    <tr>\n",
       "      <th>3</th>\n",
       "      <td>43600</td>\n",
       "      <td>2019</td>\n",
       "      <td>0</td>\n",
       "      <td>APA_2019_1500</td>\n",
       "      <td>http://labje.unizar.es/sentencias/APA_2019_150...</td>\n",
       "      <td>Alicante</td>\n",
       "      <td>Comunidad Valenciana</td>\n",
       "      <td>1</td>\n",
       "      <td>0</td>\n",
       "      <td>0</td>\n",
       "      <td>...</td>\n",
       "      <td>0</td>\n",
       "      <td>0</td>\n",
       "      <td>0</td>\n",
       "      <td>2</td>\n",
       "      <td>1</td>\n",
       "      <td>3</td>\n",
       "      <td>2</td>\n",
       "      <td>0</td>\n",
       "      <td>2</td>\n",
       "      <td>NaN</td>\n",
       "    </tr>\n",
       "    <tr>\n",
       "      <th>4</th>\n",
       "      <td>43818</td>\n",
       "      <td>2019</td>\n",
       "      <td>0</td>\n",
       "      <td>APA_2019_15542</td>\n",
       "      <td>http://labje.unizar.es/sentencias/APA_2019_155...</td>\n",
       "      <td>Barcelona</td>\n",
       "      <td>Cataluña</td>\n",
       "      <td>1</td>\n",
       "      <td>0</td>\n",
       "      <td>0</td>\n",
       "      <td>...</td>\n",
       "      <td>0</td>\n",
       "      <td>0</td>\n",
       "      <td>0</td>\n",
       "      <td>2</td>\n",
       "      <td>0</td>\n",
       "      <td>3</td>\n",
       "      <td>0</td>\n",
       "      <td>1</td>\n",
       "      <td>3</td>\n",
       "      <td>NaN</td>\n",
       "    </tr>\n",
       "  </tbody>\n",
       "</table>\n",
       "<p>5 rows × 117 columns</p>\n",
       "</div>"
      ],
      "text/plain": [
       "    DATE  YEAR  Train              ID  \\\n",
       "0  43362  2018      1   APA_2018_3010   \n",
       "1  43621  2019      0   APA_2019_1490   \n",
       "2  43607  2019      0   APA_2019_1497   \n",
       "3  43600  2019      0   APA_2019_1500   \n",
       "4  43818  2019      0  APA_2019_15542   \n",
       "\n",
       "                                                 URL         HQ  \\\n",
       "0  http://labje.unizar.es/sentencias/APA_2018_301...   Alicante   \n",
       "1  http://labje.unizar.es/sentencias/APA_2019_149...   Alicante   \n",
       "2  http://labje.unizar.es/sentencias/APA_2019_149...   Alicante   \n",
       "3  http://labje.unizar.es/sentencias/APA_2019_150...   Alicante   \n",
       "4  http://labje.unizar.es/sentencias/APA_2019_155...  Barcelona   \n",
       "\n",
       "               AUT_COMM  PLAIN_ML  PLAIN_WO  DEFEN_ML  ...  FT_AG  \\\n",
       "0  Comunidad Valenciana         1         0         0  ...      0   \n",
       "1  Comunidad Valenciana         1         0         0  ...      0   \n",
       "2  Comunidad Valenciana         1         0         0  ...      0   \n",
       "3  Comunidad Valenciana         1         0         0  ...      0   \n",
       "4              Cataluña         1         0         0  ...      0   \n",
       "\n",
       "   LN_JNPREF_b  LN_JNPREF  FT_SL_IN_b  FT_JN_IN_b  FT_SL_IN  FT_JN_IN  \\\n",
       "0            0          0           3           2         5         4   \n",
       "1            0          0           1           1         1         3   \n",
       "2            0          0           4           3         8         6   \n",
       "3            0          0           2           1         3         2   \n",
       "4            0          0           2           0         3         0   \n",
       "\n",
       "   JUDGE_ML  JUDGE_ID  Unnamed: 113  \n",
       "0         1         0           NaN  \n",
       "1         1         1           NaN  \n",
       "2         1         1           NaN  \n",
       "3         0         2           NaN  \n",
       "4         1         3           NaN  \n",
       "\n",
       "[5 rows x 117 columns]"
      ]
     },
     "execution_count": 119,
     "metadata": {},
     "output_type": "execute_result"
    }
   ],
   "source": [
    "df.head()"
   ]
  },
  {
   "cell_type": "code",
   "execution_count": 120,
   "metadata": {},
   "outputs": [],
   "source": [
    "def generate_value_counts(df, gender):\n",
    "    rq_mp_at_cd__mp_at = df[df[\"PLAIN_ML\"] == gender][df[\"RQ_MP_AT\"] == 1][df[\"CD_MP_AT\"] == 1].shape[0]\n",
    "    rq_mp_sp_cd__mp_sp = df[df[\"PLAIN_ML\"] == gender][df[\"RQ_MP_SP\"] == 1][df[\"CD_MP_SP\"] == 1].shape[0]\n",
    "    rq_fh_at_cd__fh_at = df[df[\"PLAIN_ML\"] == gender][df[\"RQ_FH_AT\"] == 1][df[\"CD_FH_AT\"] == 1].shape[0]\n",
    "    rq_fh_sp_cd__fh_sp = df[df[\"PLAIN_ML\"] == gender][df[\"RQ_FH_SP\"] == 1][df[\"CD_FH_SP\"] == 1].shape[0]\n",
    "    rq_mp_at_cd__mp_at_0 = df[df[\"PLAIN_ML\"] == gender][df[\"RQ_MP_AT\"] == 1][df[\"CD_MP_AT\"] == 0].shape[0]\n",
    "    rq_mp_sp_cd__mp_sp_0 = df[df[\"PLAIN_ML\"] == gender][df[\"RQ_MP_SP\"] == 1][df[\"CD_MP_SP\"] == 0].shape[0]\n",
    "    rq_fh_at_cd__fh_at_0 = df[df[\"PLAIN_ML\"] == gender][df[\"RQ_FH_AT\"] == 1][df[\"CD_FH_AT\"] == 0].shape[0]\n",
    "    rq_fh_sp_cd__fh_sp_0 = df[df[\"PLAIN_ML\"] == gender][df[\"RQ_FH_SP\"] == 1][df[\"CD_FH_SP\"] == 0].shape[0]\n",
    "\n",
    "    value_counts = [rq_mp_at_cd__mp_at, rq_mp_at_cd__mp_at_0, rq_mp_sp_cd__mp_sp, rq_mp_sp_cd__mp_sp_0, rq_fh_at_cd__fh_at, rq_fh_at_cd__fh_at_0, rq_fh_sp_cd__fh_sp, rq_fh_sp_cd__fh_sp_0]\n",
    "\n",
    "    return value_counts"
   ]
  },
  {
   "cell_type": "code",
   "execution_count": 121,
   "metadata": {},
   "outputs": [
    {
     "data": {
      "text/plain": [
       "[43, 41, 205, 399, 34, 58, 30, 35]"
      ]
     },
     "execution_count": 121,
     "metadata": {},
     "output_type": "execute_result"
    }
   ],
   "source": [
    "value_counts_male = generate_value_counts(df, 1)\n",
    "value_counts_male"
   ]
  },
  {
   "cell_type": "code",
   "execution_count": 122,
   "metadata": {},
   "outputs": [
    {
     "data": {
      "text/plain": [
       "[129, 151, 41, 58, 25, 62, 4, 5]"
      ]
     },
     "execution_count": 122,
     "metadata": {},
     "output_type": "execute_result"
    }
   ],
   "source": [
    "value_counts_female = generate_value_counts(df, 0)\n",
    "value_counts_female"
   ]
  },
  {
   "cell_type": "code",
   "execution_count": 123,
   "metadata": {},
   "outputs": [
    {
     "data": {
      "text/plain": [
       "[129, 151, 41, 58, 25, 62, 4, 5, 43, 41, 205, 399, 34, 58, 30, 35]"
      ]
     },
     "execution_count": 123,
     "metadata": {},
     "output_type": "execute_result"
    }
   ],
   "source": [
    "value_counts = value_counts_female + value_counts_male\n",
    "value_counts"
   ]
  },
  {
   "cell_type": "code",
   "execution_count": 124,
   "metadata": {},
   "outputs": [
    {
     "name": "stdout",
     "output_type": "stream",
     "text": [
      "[0, 0, 0, 0, 0, 0, 0, 0, 1, 1, 1, 1, 1, 1, 1, 1]\n"
     ]
    }
   ],
   "source": [
    "female_list = [0] * 8\n",
    "male_list = [1] * 8\n",
    "gender_list = female_list + male_list\n",
    "print(gender_list)"
   ]
  },
  {
   "cell_type": "code",
   "execution_count": 125,
   "metadata": {},
   "outputs": [],
   "source": [
    "#combinations_list_request_one_gender = ['RQ_MP_AT', 'RQ_MP_AT', 'RQ_MP_SP', 'RQ_MP_SP', 'RQ_FH_AT', 'RQ_FH_AT', 'RQ_FH_SP', 'RQ_FH_SP']\n",
    "combinations_list_request_one_gender = ['Maintainance payments attr.', 'Maintainance payments attr.', 'Maintainance payments supp.', 'Maintainance payments supp.', 'Family home attr.', 'Family home attr.', 'Family home supp.', 'Family home supp.']\n",
    "combinations_list_request = combinations_list_request_one_gender + combinations_list_request_one_gender"
   ]
  },
  {
   "cell_type": "code",
   "execution_count": 126,
   "metadata": {},
   "outputs": [],
   "source": [
    "#combinations_list_resolution_one_gender = ['CD_MP_AT', 'RQ_MP_AT_0', 'CD_MP_SP', 'RQ_MP_SP_0', 'CD_FH_AT', 'RQ_FH_AT_0', 'CD_FH_SP', 'RQ_FH_SP_0']\n",
    "combinations_list_resolution_one_gender = ['MP Attr.', 'MP Not Attr.', 'MP Supp.', 'MP Not Supp.', 'FH Attr.', 'FH Not Attr.', 'FH Supp.', 'FH Not Supp.']\n",
    "combinations_list_resolution = combinations_list_resolution_one_gender + combinations_list_resolution_one_gender"
   ]
  },
  {
   "cell_type": "code",
   "execution_count": 127,
   "metadata": {},
   "outputs": [
    {
     "data": {
      "application/vnd.plotly.v1+json": {
       "config": {
        "plotlyServerURL": "https://plot.ly"
       },
       "data": [
        {
         "counts": [
          129,
          151,
          41,
          58,
          25,
          62,
          4,
          5,
          43,
          41,
          205,
          399,
          34,
          58,
          30,
          35
         ],
         "dimensions": [
          {
           "label": "Gender",
           "values": [
            0,
            0,
            0,
            0,
            0,
            0,
            0,
            0,
            1,
            1,
            1,
            1,
            1,
            1,
            1,
            1
           ]
          },
          {
           "label": "Request",
           "values": [
            "Maintainance payments attr.",
            "Maintainance payments attr.",
            "Maintainance payments supp.",
            "Maintainance payments supp.",
            "Family home attr.",
            "Family home attr.",
            "Family home supp.",
            "Family home supp.",
            "Maintainance payments attr.",
            "Maintainance payments attr.",
            "Maintainance payments supp.",
            "Maintainance payments supp.",
            "Family home attr.",
            "Family home attr.",
            "Family home supp.",
            "Family home supp."
           ]
          },
          {
           "label": "Resolution",
           "values": [
            "MP Attr.",
            "MP Not Attr.",
            "MP Supp.",
            "MP Not Supp.",
            "FH Attr.",
            "FH Not Attr.",
            "FH Supp.",
            "FH Not Supp.",
            "MP Attr.",
            "MP Not Attr.",
            "MP Supp.",
            "MP Not Supp.",
            "FH Attr.",
            "FH Not Attr.",
            "FH Supp.",
            "FH Not Supp."
           ]
          }
         ],
         "line": {
          "color": [
           0,
           0,
           0,
           0,
           0,
           0,
           0,
           0,
           1,
           1,
           1,
           1,
           1,
           1,
           1,
           1
          ],
          "colorscale": [
           [
            0,
            "rgb(90,180,172,0.1)"
           ],
           [
            1,
            "rgba(216,179,101,0.8)"
           ]
          ]
         },
         "type": "parcats"
        }
       ],
       "layout": {
        "autosize": true,
        "font": {
         "size": 18
        },
        "height": 500,
        "margin": {
         "b": 20,
         "l": 0,
         "r": 65,
         "t": 30
        },
        "template": {
         "data": {
          "bar": [
           {
            "error_x": {
             "color": "#2a3f5f"
            },
            "error_y": {
             "color": "#2a3f5f"
            },
            "marker": {
             "line": {
              "color": "#E5ECF6",
              "width": 0.5
             },
             "pattern": {
              "fillmode": "overlay",
              "size": 10,
              "solidity": 0.2
             }
            },
            "type": "bar"
           }
          ],
          "barpolar": [
           {
            "marker": {
             "line": {
              "color": "#E5ECF6",
              "width": 0.5
             },
             "pattern": {
              "fillmode": "overlay",
              "size": 10,
              "solidity": 0.2
             }
            },
            "type": "barpolar"
           }
          ],
          "carpet": [
           {
            "aaxis": {
             "endlinecolor": "#2a3f5f",
             "gridcolor": "white",
             "linecolor": "white",
             "minorgridcolor": "white",
             "startlinecolor": "#2a3f5f"
            },
            "baxis": {
             "endlinecolor": "#2a3f5f",
             "gridcolor": "white",
             "linecolor": "white",
             "minorgridcolor": "white",
             "startlinecolor": "#2a3f5f"
            },
            "type": "carpet"
           }
          ],
          "choropleth": [
           {
            "colorbar": {
             "outlinewidth": 0,
             "ticks": ""
            },
            "type": "choropleth"
           }
          ],
          "contour": [
           {
            "colorbar": {
             "outlinewidth": 0,
             "ticks": ""
            },
            "colorscale": [
             [
              0,
              "#0d0887"
             ],
             [
              0.1111111111111111,
              "#46039f"
             ],
             [
              0.2222222222222222,
              "#7201a8"
             ],
             [
              0.3333333333333333,
              "#9c179e"
             ],
             [
              0.4444444444444444,
              "#bd3786"
             ],
             [
              0.5555555555555556,
              "#d8576b"
             ],
             [
              0.6666666666666666,
              "#ed7953"
             ],
             [
              0.7777777777777778,
              "#fb9f3a"
             ],
             [
              0.8888888888888888,
              "#fdca26"
             ],
             [
              1,
              "#f0f921"
             ]
            ],
            "type": "contour"
           }
          ],
          "contourcarpet": [
           {
            "colorbar": {
             "outlinewidth": 0,
             "ticks": ""
            },
            "type": "contourcarpet"
           }
          ],
          "heatmap": [
           {
            "colorbar": {
             "outlinewidth": 0,
             "ticks": ""
            },
            "colorscale": [
             [
              0,
              "#0d0887"
             ],
             [
              0.1111111111111111,
              "#46039f"
             ],
             [
              0.2222222222222222,
              "#7201a8"
             ],
             [
              0.3333333333333333,
              "#9c179e"
             ],
             [
              0.4444444444444444,
              "#bd3786"
             ],
             [
              0.5555555555555556,
              "#d8576b"
             ],
             [
              0.6666666666666666,
              "#ed7953"
             ],
             [
              0.7777777777777778,
              "#fb9f3a"
             ],
             [
              0.8888888888888888,
              "#fdca26"
             ],
             [
              1,
              "#f0f921"
             ]
            ],
            "type": "heatmap"
           }
          ],
          "heatmapgl": [
           {
            "colorbar": {
             "outlinewidth": 0,
             "ticks": ""
            },
            "colorscale": [
             [
              0,
              "#0d0887"
             ],
             [
              0.1111111111111111,
              "#46039f"
             ],
             [
              0.2222222222222222,
              "#7201a8"
             ],
             [
              0.3333333333333333,
              "#9c179e"
             ],
             [
              0.4444444444444444,
              "#bd3786"
             ],
             [
              0.5555555555555556,
              "#d8576b"
             ],
             [
              0.6666666666666666,
              "#ed7953"
             ],
             [
              0.7777777777777778,
              "#fb9f3a"
             ],
             [
              0.8888888888888888,
              "#fdca26"
             ],
             [
              1,
              "#f0f921"
             ]
            ],
            "type": "heatmapgl"
           }
          ],
          "histogram": [
           {
            "marker": {
             "pattern": {
              "fillmode": "overlay",
              "size": 10,
              "solidity": 0.2
             }
            },
            "type": "histogram"
           }
          ],
          "histogram2d": [
           {
            "colorbar": {
             "outlinewidth": 0,
             "ticks": ""
            },
            "colorscale": [
             [
              0,
              "#0d0887"
             ],
             [
              0.1111111111111111,
              "#46039f"
             ],
             [
              0.2222222222222222,
              "#7201a8"
             ],
             [
              0.3333333333333333,
              "#9c179e"
             ],
             [
              0.4444444444444444,
              "#bd3786"
             ],
             [
              0.5555555555555556,
              "#d8576b"
             ],
             [
              0.6666666666666666,
              "#ed7953"
             ],
             [
              0.7777777777777778,
              "#fb9f3a"
             ],
             [
              0.8888888888888888,
              "#fdca26"
             ],
             [
              1,
              "#f0f921"
             ]
            ],
            "type": "histogram2d"
           }
          ],
          "histogram2dcontour": [
           {
            "colorbar": {
             "outlinewidth": 0,
             "ticks": ""
            },
            "colorscale": [
             [
              0,
              "#0d0887"
             ],
             [
              0.1111111111111111,
              "#46039f"
             ],
             [
              0.2222222222222222,
              "#7201a8"
             ],
             [
              0.3333333333333333,
              "#9c179e"
             ],
             [
              0.4444444444444444,
              "#bd3786"
             ],
             [
              0.5555555555555556,
              "#d8576b"
             ],
             [
              0.6666666666666666,
              "#ed7953"
             ],
             [
              0.7777777777777778,
              "#fb9f3a"
             ],
             [
              0.8888888888888888,
              "#fdca26"
             ],
             [
              1,
              "#f0f921"
             ]
            ],
            "type": "histogram2dcontour"
           }
          ],
          "mesh3d": [
           {
            "colorbar": {
             "outlinewidth": 0,
             "ticks": ""
            },
            "type": "mesh3d"
           }
          ],
          "parcoords": [
           {
            "line": {
             "colorbar": {
              "outlinewidth": 0,
              "ticks": ""
             }
            },
            "type": "parcoords"
           }
          ],
          "pie": [
           {
            "automargin": true,
            "type": "pie"
           }
          ],
          "scatter": [
           {
            "marker": {
             "colorbar": {
              "outlinewidth": 0,
              "ticks": ""
             }
            },
            "type": "scatter"
           }
          ],
          "scatter3d": [
           {
            "line": {
             "colorbar": {
              "outlinewidth": 0,
              "ticks": ""
             }
            },
            "marker": {
             "colorbar": {
              "outlinewidth": 0,
              "ticks": ""
             }
            },
            "type": "scatter3d"
           }
          ],
          "scattercarpet": [
           {
            "marker": {
             "colorbar": {
              "outlinewidth": 0,
              "ticks": ""
             }
            },
            "type": "scattercarpet"
           }
          ],
          "scattergeo": [
           {
            "marker": {
             "colorbar": {
              "outlinewidth": 0,
              "ticks": ""
             }
            },
            "type": "scattergeo"
           }
          ],
          "scattergl": [
           {
            "marker": {
             "colorbar": {
              "outlinewidth": 0,
              "ticks": ""
             }
            },
            "type": "scattergl"
           }
          ],
          "scattermapbox": [
           {
            "marker": {
             "colorbar": {
              "outlinewidth": 0,
              "ticks": ""
             }
            },
            "type": "scattermapbox"
           }
          ],
          "scatterpolar": [
           {
            "marker": {
             "colorbar": {
              "outlinewidth": 0,
              "ticks": ""
             }
            },
            "type": "scatterpolar"
           }
          ],
          "scatterpolargl": [
           {
            "marker": {
             "colorbar": {
              "outlinewidth": 0,
              "ticks": ""
             }
            },
            "type": "scatterpolargl"
           }
          ],
          "scatterternary": [
           {
            "marker": {
             "colorbar": {
              "outlinewidth": 0,
              "ticks": ""
             }
            },
            "type": "scatterternary"
           }
          ],
          "surface": [
           {
            "colorbar": {
             "outlinewidth": 0,
             "ticks": ""
            },
            "colorscale": [
             [
              0,
              "#0d0887"
             ],
             [
              0.1111111111111111,
              "#46039f"
             ],
             [
              0.2222222222222222,
              "#7201a8"
             ],
             [
              0.3333333333333333,
              "#9c179e"
             ],
             [
              0.4444444444444444,
              "#bd3786"
             ],
             [
              0.5555555555555556,
              "#d8576b"
             ],
             [
              0.6666666666666666,
              "#ed7953"
             ],
             [
              0.7777777777777778,
              "#fb9f3a"
             ],
             [
              0.8888888888888888,
              "#fdca26"
             ],
             [
              1,
              "#f0f921"
             ]
            ],
            "type": "surface"
           }
          ],
          "table": [
           {
            "cells": {
             "fill": {
              "color": "#EBF0F8"
             },
             "line": {
              "color": "white"
             }
            },
            "header": {
             "fill": {
              "color": "#C8D4E3"
             },
             "line": {
              "color": "white"
             }
            },
            "type": "table"
           }
          ]
         },
         "layout": {
          "annotationdefaults": {
           "arrowcolor": "#2a3f5f",
           "arrowhead": 0,
           "arrowwidth": 1
          },
          "autotypenumbers": "strict",
          "coloraxis": {
           "colorbar": {
            "outlinewidth": 0,
            "ticks": ""
           }
          },
          "colorscale": {
           "diverging": [
            [
             0,
             "#8e0152"
            ],
            [
             0.1,
             "#c51b7d"
            ],
            [
             0.2,
             "#de77ae"
            ],
            [
             0.3,
             "#f1b6da"
            ],
            [
             0.4,
             "#fde0ef"
            ],
            [
             0.5,
             "#f7f7f7"
            ],
            [
             0.6,
             "#e6f5d0"
            ],
            [
             0.7,
             "#b8e186"
            ],
            [
             0.8,
             "#7fbc41"
            ],
            [
             0.9,
             "#4d9221"
            ],
            [
             1,
             "#276419"
            ]
           ],
           "sequential": [
            [
             0,
             "#0d0887"
            ],
            [
             0.1111111111111111,
             "#46039f"
            ],
            [
             0.2222222222222222,
             "#7201a8"
            ],
            [
             0.3333333333333333,
             "#9c179e"
            ],
            [
             0.4444444444444444,
             "#bd3786"
            ],
            [
             0.5555555555555556,
             "#d8576b"
            ],
            [
             0.6666666666666666,
             "#ed7953"
            ],
            [
             0.7777777777777778,
             "#fb9f3a"
            ],
            [
             0.8888888888888888,
             "#fdca26"
            ],
            [
             1,
             "#f0f921"
            ]
           ],
           "sequentialminus": [
            [
             0,
             "#0d0887"
            ],
            [
             0.1111111111111111,
             "#46039f"
            ],
            [
             0.2222222222222222,
             "#7201a8"
            ],
            [
             0.3333333333333333,
             "#9c179e"
            ],
            [
             0.4444444444444444,
             "#bd3786"
            ],
            [
             0.5555555555555556,
             "#d8576b"
            ],
            [
             0.6666666666666666,
             "#ed7953"
            ],
            [
             0.7777777777777778,
             "#fb9f3a"
            ],
            [
             0.8888888888888888,
             "#fdca26"
            ],
            [
             1,
             "#f0f921"
            ]
           ]
          },
          "colorway": [
           "#636efa",
           "#EF553B",
           "#00cc96",
           "#ab63fa",
           "#FFA15A",
           "#19d3f3",
           "#FF6692",
           "#B6E880",
           "#FF97FF",
           "#FECB52"
          ],
          "font": {
           "color": "#2a3f5f"
          },
          "geo": {
           "bgcolor": "white",
           "lakecolor": "white",
           "landcolor": "#E5ECF6",
           "showlakes": true,
           "showland": true,
           "subunitcolor": "white"
          },
          "hoverlabel": {
           "align": "left"
          },
          "hovermode": "closest",
          "mapbox": {
           "style": "light"
          },
          "paper_bgcolor": "white",
          "plot_bgcolor": "#E5ECF6",
          "polar": {
           "angularaxis": {
            "gridcolor": "white",
            "linecolor": "white",
            "ticks": ""
           },
           "bgcolor": "#E5ECF6",
           "radialaxis": {
            "gridcolor": "white",
            "linecolor": "white",
            "ticks": ""
           }
          },
          "scene": {
           "xaxis": {
            "backgroundcolor": "#E5ECF6",
            "gridcolor": "white",
            "gridwidth": 2,
            "linecolor": "white",
            "showbackground": true,
            "ticks": "",
            "zerolinecolor": "white"
           },
           "yaxis": {
            "backgroundcolor": "#E5ECF6",
            "gridcolor": "white",
            "gridwidth": 2,
            "linecolor": "white",
            "showbackground": true,
            "ticks": "",
            "zerolinecolor": "white"
           },
           "zaxis": {
            "backgroundcolor": "#E5ECF6",
            "gridcolor": "white",
            "gridwidth": 2,
            "linecolor": "white",
            "showbackground": true,
            "ticks": "",
            "zerolinecolor": "white"
           }
          },
          "shapedefaults": {
           "line": {
            "color": "#2a3f5f"
           }
          },
          "ternary": {
           "aaxis": {
            "gridcolor": "white",
            "linecolor": "white",
            "ticks": ""
           },
           "baxis": {
            "gridcolor": "white",
            "linecolor": "white",
            "ticks": ""
           },
           "bgcolor": "#E5ECF6",
           "caxis": {
            "gridcolor": "white",
            "linecolor": "white",
            "ticks": ""
           }
          },
          "title": {
           "x": 0.05
          },
          "xaxis": {
           "automargin": true,
           "gridcolor": "white",
           "linecolor": "white",
           "ticks": "",
           "title": {
            "standoff": 15
           },
           "zerolinecolor": "white",
           "zerolinewidth": 2
          },
          "yaxis": {
           "automargin": true,
           "gridcolor": "white",
           "linecolor": "white",
           "ticks": "",
           "title": {
            "standoff": 15
           },
           "zerolinecolor": "white",
           "zerolinewidth": 2
          }
         }
        },
        "width": 800
       }
      }
     },
     "metadata": {},
     "output_type": "display_data"
    }
   ],
   "source": [
    "import plotly.graph_objects as go\n",
    "\n",
    "color = gender_list\n",
    "colorscale = [[0, 'rgb(90,180,172,0.1)'], [1, 'rgba(216,179,101,0.8)']]\n",
    "\n",
    "fig = go.Figure(go.Parcats(\n",
    "    dimensions=[\n",
    "        {'label': 'Gender',\n",
    "         'values': gender_list},\n",
    "        {'label': 'Request',\n",
    "         'values': combinations_list_request},\n",
    "        {'label': 'Resolution',\n",
    "         'values': combinations_list_resolution}],\n",
    "    counts=value_counts, \n",
    "    line={'color': color, 'colorscale': colorscale}\n",
    "    ))\n",
    "\n",
    "fig.update_layout(\n",
    "    autosize=True,\n",
    "    width=800,\n",
    "    height=500,\n",
    "    margin=dict(\n",
    "        l=0,\n",
    "        r=65,\n",
    "        b=20,\n",
    "        t=30\n",
    "    ),\n",
    "    font=dict(\n",
    "        size=18\n",
    "    ))\n",
    "\n",
    "fig.write_image('economic_features.pdf', format='pdf')\n",
    "\n",
    "fig.show()"
   ]
  }
 ],
 "metadata": {
  "kernelspec": {
   "display_name": "Python 3.8.3 ('base')",
   "language": "python",
   "name": "python3"
  },
  "language_info": {
   "codemirror_mode": {
    "name": "ipython",
    "version": 3
   },
   "file_extension": ".py",
   "mimetype": "text/x-python",
   "name": "python",
   "nbconvert_exporter": "python",
   "pygments_lexer": "ipython3",
   "version": "3.8.3"
  },
  "toc": {
   "base_numbering": 1,
   "nav_menu": {},
   "number_sections": true,
   "sideBar": true,
   "skip_h1_title": false,
   "title_cell": "Table of Contents",
   "title_sidebar": "Contents",
   "toc_cell": false,
   "toc_position": {
    "height": "calc(100% - 180px)",
    "left": "10px",
    "top": "150px",
    "width": "284px"
   },
   "toc_section_display": true,
   "toc_window_display": true
  },
  "vscode": {
   "interpreter": {
    "hash": "cb57b3ccfe62c6746bf3247651268e5f45d4314d13d2f08503817b1c05971834"
   }
  }
 },
 "nbformat": 4,
 "nbformat_minor": 2
}
