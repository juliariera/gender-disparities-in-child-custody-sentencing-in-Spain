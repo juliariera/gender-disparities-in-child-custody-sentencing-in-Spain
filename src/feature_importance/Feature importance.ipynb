{
 "cells": [
  {
   "cell_type": "code",
   "execution_count": 2,
   "metadata": {},
   "outputs": [],
   "source": [
    "import pandas as pd\n",
    "\n",
    "import sys  \n",
    "sys.path.append('../')\n",
    "\n",
    "import modules.exploratory_data_analysis.base_rates as base_rates\n",
    "\n",
    "import modules.data_wrangling.feature_selection as feature_selection\n",
    "\n",
    "import modules.classification.classifiers as classifiers\n",
    "import modules.classification.classifiers_comparison as classifiers_comparison\n",
    "import modules.classification.disparity_score as disparity_score\n",
    "import modules.classification.disparity_score_by_category as disparity_score_by_category\n",
    "import modules.classification.probabilities as probabilities\n",
    "\n",
    "from importlib import reload\n",
    "classifiers = reload(classifiers) "
   ]
  },
  {
   "cell_type": "markdown",
   "metadata": {},
   "source": [
    "# Load data"
   ]
  },
  {
   "cell_type": "code",
   "execution_count": 4,
   "metadata": {
    "scrolled": true
   },
   "outputs": [
    {
     "data": {
      "text/html": [
       "<div>\n",
       "<style scoped>\n",
       "    .dataframe tbody tr th:only-of-type {\n",
       "        vertical-align: middle;\n",
       "    }\n",
       "\n",
       "    .dataframe tbody tr th {\n",
       "        vertical-align: top;\n",
       "    }\n",
       "\n",
       "    .dataframe thead th {\n",
       "        text-align: right;\n",
       "    }\n",
       "</style>\n",
       "<table border=\"1\" class=\"dataframe\">\n",
       "  <thead>\n",
       "    <tr style=\"text-align: right;\">\n",
       "      <th></th>\n",
       "      <th>ID</th>\n",
       "      <th>URL</th>\n",
       "      <th>DATE</th>\n",
       "      <th>YEAR</th>\n",
       "      <th>HQ</th>\n",
       "      <th>AUT_COMM</th>\n",
       "      <th>JUDGE_ID</th>\n",
       "      <th>JUDGE_ML</th>\n",
       "      <th>PLAIN_ML</th>\n",
       "      <th>DEFEN_ML</th>\n",
       "      <th>...</th>\n",
       "      <th>LN_JNPREF_b</th>\n",
       "      <th>LN_JNPREF</th>\n",
       "      <th>CD_JOINT</th>\n",
       "      <th>CD_JO_CF</th>\n",
       "      <th>WIN_SL</th>\n",
       "      <th>WINWIN</th>\n",
       "      <th>CD_FH_AT</th>\n",
       "      <th>CD_FH_SP</th>\n",
       "      <th>CD_MP_AT</th>\n",
       "      <th>CD_MP_SP</th>\n",
       "    </tr>\n",
       "  </thead>\n",
       "  <tbody>\n",
       "    <tr>\n",
       "      <th>0</th>\n",
       "      <td>APA_2018_3010</td>\n",
       "      <td>http://labje.unizar.es/sentencias/APA_2018_301...</td>\n",
       "      <td>43362</td>\n",
       "      <td>2018</td>\n",
       "      <td>Alicante</td>\n",
       "      <td>Comunidad Valenciana</td>\n",
       "      <td>0</td>\n",
       "      <td>1</td>\n",
       "      <td>1</td>\n",
       "      <td>0</td>\n",
       "      <td>...</td>\n",
       "      <td>0</td>\n",
       "      <td>0.0</td>\n",
       "      <td>0</td>\n",
       "      <td>0</td>\n",
       "      <td>0</td>\n",
       "      <td>0</td>\n",
       "      <td>0</td>\n",
       "      <td>0</td>\n",
       "      <td>1</td>\n",
       "      <td>0</td>\n",
       "    </tr>\n",
       "    <tr>\n",
       "      <th>1</th>\n",
       "      <td>APA_2019_1490</td>\n",
       "      <td>http://labje.unizar.es/sentencias/APA_2019_149...</td>\n",
       "      <td>43621</td>\n",
       "      <td>2019</td>\n",
       "      <td>Alicante</td>\n",
       "      <td>Comunidad Valenciana</td>\n",
       "      <td>1</td>\n",
       "      <td>1</td>\n",
       "      <td>1</td>\n",
       "      <td>0</td>\n",
       "      <td>...</td>\n",
       "      <td>0</td>\n",
       "      <td>0.0</td>\n",
       "      <td>0</td>\n",
       "      <td>0</td>\n",
       "      <td>0</td>\n",
       "      <td>0</td>\n",
       "      <td>0</td>\n",
       "      <td>0</td>\n",
       "      <td>0</td>\n",
       "      <td>0</td>\n",
       "    </tr>\n",
       "    <tr>\n",
       "      <th>2</th>\n",
       "      <td>APA_2019_1497</td>\n",
       "      <td>http://labje.unizar.es/sentencias/APA_2019_149...</td>\n",
       "      <td>43607</td>\n",
       "      <td>2019</td>\n",
       "      <td>Alicante</td>\n",
       "      <td>Comunidad Valenciana</td>\n",
       "      <td>1</td>\n",
       "      <td>1</td>\n",
       "      <td>1</td>\n",
       "      <td>0</td>\n",
       "      <td>...</td>\n",
       "      <td>0</td>\n",
       "      <td>0.0</td>\n",
       "      <td>0</td>\n",
       "      <td>0</td>\n",
       "      <td>0</td>\n",
       "      <td>0</td>\n",
       "      <td>1</td>\n",
       "      <td>0</td>\n",
       "      <td>1</td>\n",
       "      <td>0</td>\n",
       "    </tr>\n",
       "    <tr>\n",
       "      <th>3</th>\n",
       "      <td>APA_2019_1500</td>\n",
       "      <td>http://labje.unizar.es/sentencias/APA_2019_150...</td>\n",
       "      <td>43600</td>\n",
       "      <td>2019</td>\n",
       "      <td>Alicante</td>\n",
       "      <td>Comunidad Valenciana</td>\n",
       "      <td>2</td>\n",
       "      <td>0</td>\n",
       "      <td>1</td>\n",
       "      <td>0</td>\n",
       "      <td>...</td>\n",
       "      <td>0</td>\n",
       "      <td>0.0</td>\n",
       "      <td>0</td>\n",
       "      <td>0</td>\n",
       "      <td>0</td>\n",
       "      <td>0</td>\n",
       "      <td>0</td>\n",
       "      <td>0</td>\n",
       "      <td>1</td>\n",
       "      <td>0</td>\n",
       "    </tr>\n",
       "    <tr>\n",
       "      <th>4</th>\n",
       "      <td>APA_2019_15542</td>\n",
       "      <td>http://labje.unizar.es/sentencias/APA_2019_155...</td>\n",
       "      <td>43818</td>\n",
       "      <td>2019</td>\n",
       "      <td>Barcelona</td>\n",
       "      <td>Cataluña</td>\n",
       "      <td>3</td>\n",
       "      <td>1</td>\n",
       "      <td>1</td>\n",
       "      <td>0</td>\n",
       "      <td>...</td>\n",
       "      <td>0</td>\n",
       "      <td>0.0</td>\n",
       "      <td>0</td>\n",
       "      <td>0</td>\n",
       "      <td>0</td>\n",
       "      <td>0</td>\n",
       "      <td>0</td>\n",
       "      <td>0</td>\n",
       "      <td>0</td>\n",
       "      <td>0</td>\n",
       "    </tr>\n",
       "  </tbody>\n",
       "</table>\n",
       "<p>5 rows × 49 columns</p>\n",
       "</div>"
      ],
      "text/plain": [
       "               ID                                                URL   DATE  \\\n",
       "0   APA_2018_3010  http://labje.unizar.es/sentencias/APA_2018_301...  43362   \n",
       "1   APA_2019_1490  http://labje.unizar.es/sentencias/APA_2019_149...  43621   \n",
       "2   APA_2019_1497  http://labje.unizar.es/sentencias/APA_2019_149...  43607   \n",
       "3   APA_2019_1500  http://labje.unizar.es/sentencias/APA_2019_150...  43600   \n",
       "4  APA_2019_15542  http://labje.unizar.es/sentencias/APA_2019_155...  43818   \n",
       "\n",
       "   YEAR         HQ              AUT_COMM  JUDGE_ID  JUDGE_ML  PLAIN_ML  \\\n",
       "0  2018   Alicante  Comunidad Valenciana         0         1         1   \n",
       "1  2019   Alicante  Comunidad Valenciana         1         1         1   \n",
       "2  2019   Alicante  Comunidad Valenciana         1         1         1   \n",
       "3  2019   Alicante  Comunidad Valenciana         2         0         1   \n",
       "4  2019  Barcelona              Cataluña         3         1         1   \n",
       "\n",
       "   DEFEN_ML  ...  LN_JNPREF_b  LN_JNPREF  CD_JOINT  CD_JO_CF  WIN_SL  WINWIN  \\\n",
       "0         0  ...            0        0.0         0         0       0       0   \n",
       "1         0  ...            0        0.0         0         0       0       0   \n",
       "2         0  ...            0        0.0         0         0       0       0   \n",
       "3         0  ...            0        0.0         0         0       0       0   \n",
       "4         0  ...            0        0.0         0         0       0       0   \n",
       "\n",
       "   CD_FH_AT  CD_FH_SP  CD_MP_AT  CD_MP_SP  \n",
       "0         0         0         1         0  \n",
       "1         0         0         0         0  \n",
       "2         1         0         1         0  \n",
       "3         0         0         1         0  \n",
       "4         0         0         0         0  \n",
       "\n",
       "[5 rows x 49 columns]"
      ]
     },
     "execution_count": 4,
     "metadata": {},
     "output_type": "execute_result"
    }
   ],
   "source": [
    "df = pd.read_csv(\"..\\..\\output\\df_cleaned.csv\", sep=\";\")\n",
    "df.head()"
   ]
  },
  {
   "cell_type": "markdown",
   "metadata": {},
   "source": [
    "## Load extra info"
   ]
  },
  {
   "cell_type": "code",
   "execution_count": 5,
   "metadata": {},
   "outputs": [
    {
     "data": {
      "text/plain": [
       "Group\n",
       "Court decisions            [CD_JOINT, CD_JO_CF, WIN_SL, WINWIN, CD_FH_AT,...\n",
       "Defendants's gender                                               [DEFEN_ML]\n",
       "Facts                      [FT_RP_b, FT_RP, FT_CW_b, FT_CW, FT_CC_b, FT_C...\n",
       "Facts detail               [FT_RP_SL_b, FT_RP_SL, FT_RP_JN_b, FT_RP_JN, F...\n",
       "Facts index                     [FT_SL_IN_b, FT_JN_IN_b, FT_SL_IN, FT_JN_IN]\n",
       "Judge gender                                                      [JUDGE_ML]\n",
       "Judicial resolution                                    [ID, URL, DATE, YEAR]\n",
       "Legal norms                                         [LN_JNPREF_b, LN_JNPREF]\n",
       "Legal principles           [LP_BI_b, LP_BI, LP_PE_b, LP_PE, LP_RA_b, LP_R...\n",
       "Legal principles detail    [LP_BI_SL_b, LP_BI_SL, LP_BI_JN_b, LP_BI_JN, L...\n",
       "Plainfiff's gender                                                [PLAIN_ML]\n",
       "Plainfiff's requests       [RQ_JOINT, RQ_FH_AT, RQ_FH_SP, RQ_MP_AT, RQ_MP...\n",
       "Name: Short name, dtype: object"
      ]
     },
     "execution_count": 5,
     "metadata": {},
     "output_type": "execute_result"
    }
   ],
   "source": [
    "features_classification_lists = feature_selection.features_classification_lists(file_name = r\"..\\..\\data\\features_classification.csv\")\n",
    "features_classification_lists"
   ]
  },
  {
   "cell_type": "code",
   "execution_count": 6,
   "metadata": {},
   "outputs": [],
   "source": [
    "added_features_list = [\"HQ\", \"AUT_COMM\",\"JUDGE_ID\"]\n",
    "categorical_features = features_classification_lists[\"Judicial resolution\"] + added_features_list"
   ]
  },
  {
   "cell_type": "markdown",
   "metadata": {},
   "source": [
    "# Classification models"
   ]
  },
  {
   "cell_type": "markdown",
   "metadata": {},
   "source": [
    "## Judicial decision prediction model"
   ]
  },
  {
   "cell_type": "markdown",
   "metadata": {},
   "source": [
    "<div>\n",
    "\n",
    "<p>\n",
    "The judicial decision is represented by the \"WINWIN\" attribute which corresponds to the court decision with respect to the sole/joint custody request. Is is 1 when the court decides sole custody or joint custody as the plaintiff has requested, and 0 if it decides the opposite as the plaintiff requested. </p>\n",
    "\n",
    "</div>"
   ]
  },
  {
   "cell_type": "code",
   "execution_count": 7,
   "metadata": {},
   "outputs": [],
   "source": [
    "hide_cols = categorical_features + [\"DEFEN_ML\"] + features_classification_lists[\"Court decisions\"]"
   ]
  },
  {
   "cell_type": "code",
   "execution_count": 6,
   "metadata": {},
   "outputs": [
    {
     "name": "stdout",
     "output_type": "stream",
     "text": [
      "LogReg - 0.567\n",
      "RandomForest - 0.881\n",
      "SVM linear - 0.614\n",
      "SVM RBF kernel - 0.597\n",
      "AdaBoost - 0.557\n"
     ]
    }
   ],
   "source": [
    "classifiers_comparison.model_comparison(df, \"WINWIN\", hide_cols)"
   ]
  },
  {
   "cell_type": "code",
   "execution_count": 7,
   "metadata": {},
   "outputs": [
    {
     "name": "stdout",
     "output_type": "stream",
     "text": [
      "Balanced accuracy mean: 0.8817904682662479\n"
     ]
    },
    {
     "data": {
      "image/png": "[encoded data removed]",
      "text/plain": [
       "<Figure size 640x480 with 2 Axes>"
      ]
     },
     "metadata": {},
     "output_type": "display_data"
    }
   ],
   "source": [
    "feature_importances_winwin = classifiers.rf_classifier(df, \"WINWIN\", hide_cols)"
   ]
  },
  {
   "cell_type": "code",
   "execution_count": 8,
   "metadata": {
    "scrolled": true
   },
   "outputs": [
    {
     "data": {
      "text/html": [
       "<div>\n",
       "<style scoped>\n",
       "    .dataframe tbody tr th:only-of-type {\n",
       "        vertical-align: middle;\n",
       "    }\n",
       "\n",
       "    .dataframe tbody tr th {\n",
       "        vertical-align: top;\n",
       "    }\n",
       "\n",
       "    .dataframe thead th {\n",
       "        text-align: right;\n",
       "    }\n",
       "</style>\n",
       "<table border=\"1\" class=\"dataframe\">\n",
       "  <thead>\n",
       "    <tr style=\"text-align: right;\">\n",
       "      <th></th>\n",
       "      <th>features</th>\n",
       "      <th>coefficients</th>\n",
       "      <th>std</th>\n",
       "    </tr>\n",
       "  </thead>\n",
       "  <tbody>\n",
       "    <tr>\n",
       "      <th>0</th>\n",
       "      <td>RQ_JOINT</td>\n",
       "      <td>0.191533</td>\n",
       "      <td>0.006265</td>\n",
       "    </tr>\n",
       "    <tr>\n",
       "      <th>1</th>\n",
       "      <td>FT_RA</td>\n",
       "      <td>0.080875</td>\n",
       "      <td>0.002393</td>\n",
       "    </tr>\n",
       "    <tr>\n",
       "      <th>2</th>\n",
       "      <td>LP_BI</td>\n",
       "      <td>0.073319</td>\n",
       "      <td>0.003235</td>\n",
       "    </tr>\n",
       "    <tr>\n",
       "      <th>3</th>\n",
       "      <td>FT_RD</td>\n",
       "      <td>0.068486</td>\n",
       "      <td>0.002009</td>\n",
       "    </tr>\n",
       "    <tr>\n",
       "      <th>4</th>\n",
       "      <td>FT_CC</td>\n",
       "      <td>0.063560</td>\n",
       "      <td>0.002852</td>\n",
       "    </tr>\n",
       "    <tr>\n",
       "      <th>5</th>\n",
       "      <td>PLAIN_ML</td>\n",
       "      <td>0.060000</td>\n",
       "      <td>0.004264</td>\n",
       "    </tr>\n",
       "    <tr>\n",
       "      <th>6</th>\n",
       "      <td>LP_BI_b</td>\n",
       "      <td>0.055127</td>\n",
       "      <td>0.001842</td>\n",
       "    </tr>\n",
       "    <tr>\n",
       "      <th>7</th>\n",
       "      <td>FT_CC_b</td>\n",
       "      <td>0.049354</td>\n",
       "      <td>0.001585</td>\n",
       "    </tr>\n",
       "    <tr>\n",
       "      <th>8</th>\n",
       "      <td>FT_RA_b</td>\n",
       "      <td>0.035978</td>\n",
       "      <td>0.002743</td>\n",
       "    </tr>\n",
       "    <tr>\n",
       "      <th>9</th>\n",
       "      <td>RQ_MP_SP</td>\n",
       "      <td>0.032747</td>\n",
       "      <td>0.002079</td>\n",
       "    </tr>\n",
       "  </tbody>\n",
       "</table>\n",
       "</div>"
      ],
      "text/plain": [
       "   features  coefficients       std\n",
       "0  RQ_JOINT      0.191533  0.006265\n",
       "1     FT_RA      0.080875  0.002393\n",
       "2     LP_BI      0.073319  0.003235\n",
       "3     FT_RD      0.068486  0.002009\n",
       "4     FT_CC      0.063560  0.002852\n",
       "5  PLAIN_ML      0.060000  0.004264\n",
       "6   LP_BI_b      0.055127  0.001842\n",
       "7   FT_CC_b      0.049354  0.001585\n",
       "8   FT_RA_b      0.035978  0.002743\n",
       "9  RQ_MP_SP      0.032747  0.002079"
      ]
     },
     "execution_count": 8,
     "metadata": {},
     "output_type": "execute_result"
    }
   ],
   "source": [
    "feature_importances_winwin = classifiers.sort_feature_importances(feature_importances_winwin)\n",
    "feature_importances_winwin.head(10)"
   ]
  },
  {
   "cell_type": "code",
   "execution_count": null,
   "metadata": {},
   "outputs": [],
   "source": []
  },
  {
   "cell_type": "code",
   "execution_count": 9,
   "metadata": {},
   "outputs": [
    {
     "data": {
      "text/html": [
       "<div>\n",
       "<style scoped>\n",
       "    .dataframe tbody tr th:only-of-type {\n",
       "        vertical-align: middle;\n",
       "    }\n",
       "\n",
       "    .dataframe tbody tr th {\n",
       "        vertical-align: top;\n",
       "    }\n",
       "\n",
       "    .dataframe thead th {\n",
       "        text-align: right;\n",
       "    }\n",
       "</style>\n",
       "<table border=\"1\" class=\"dataframe\">\n",
       "  <thead>\n",
       "    <tr style=\"text-align: right;\">\n",
       "      <th></th>\n",
       "      <th>features</th>\n",
       "      <th>coefficients</th>\n",
       "      <th>std</th>\n",
       "    </tr>\n",
       "  </thead>\n",
       "  <tbody>\n",
       "    <tr>\n",
       "      <th>0</th>\n",
       "      <td>RQ_JOINT</td>\n",
       "      <td>0.191533</td>\n",
       "      <td>0.006265</td>\n",
       "    </tr>\n",
       "    <tr>\n",
       "      <th>1</th>\n",
       "      <td>FT_RA</td>\n",
       "      <td>0.080875</td>\n",
       "      <td>0.002393</td>\n",
       "    </tr>\n",
       "    <tr>\n",
       "      <th>2</th>\n",
       "      <td>LP_BI</td>\n",
       "      <td>0.073319</td>\n",
       "      <td>0.003235</td>\n",
       "    </tr>\n",
       "    <tr>\n",
       "      <th>3</th>\n",
       "      <td>FT_RD</td>\n",
       "      <td>0.068486</td>\n",
       "      <td>0.002009</td>\n",
       "    </tr>\n",
       "    <tr>\n",
       "      <th>4</th>\n",
       "      <td>FT_CC</td>\n",
       "      <td>0.063560</td>\n",
       "      <td>0.002852</td>\n",
       "    </tr>\n",
       "    <tr>\n",
       "      <th>5</th>\n",
       "      <td>PLAIN_ML</td>\n",
       "      <td>0.060000</td>\n",
       "      <td>0.004264</td>\n",
       "    </tr>\n",
       "    <tr>\n",
       "      <th>6</th>\n",
       "      <td>LP_BI_b</td>\n",
       "      <td>0.055127</td>\n",
       "      <td>0.001842</td>\n",
       "    </tr>\n",
       "    <tr>\n",
       "      <th>7</th>\n",
       "      <td>FT_CC_b</td>\n",
       "      <td>0.049354</td>\n",
       "      <td>0.001585</td>\n",
       "    </tr>\n",
       "    <tr>\n",
       "      <th>8</th>\n",
       "      <td>FT_RA_b</td>\n",
       "      <td>0.035978</td>\n",
       "      <td>0.002743</td>\n",
       "    </tr>\n",
       "    <tr>\n",
       "      <th>9</th>\n",
       "      <td>RQ_MP_SP</td>\n",
       "      <td>0.032747</td>\n",
       "      <td>0.002079</td>\n",
       "    </tr>\n",
       "    <tr>\n",
       "      <th>10</th>\n",
       "      <td>RQ_MP_AT</td>\n",
       "      <td>0.030620</td>\n",
       "      <td>0.001148</td>\n",
       "    </tr>\n",
       "    <tr>\n",
       "      <th>11</th>\n",
       "      <td>FT_CW</td>\n",
       "      <td>0.028401</td>\n",
       "      <td>0.001178</td>\n",
       "    </tr>\n",
       "    <tr>\n",
       "      <th>12</th>\n",
       "      <td>FT_RD_b</td>\n",
       "      <td>0.023945</td>\n",
       "      <td>0.001633</td>\n",
       "    </tr>\n",
       "    <tr>\n",
       "      <th>13</th>\n",
       "      <td>FT_PD</td>\n",
       "      <td>0.023770</td>\n",
       "      <td>0.000519</td>\n",
       "    </tr>\n",
       "    <tr>\n",
       "      <th>14</th>\n",
       "      <td>FT_CR</td>\n",
       "      <td>0.021924</td>\n",
       "      <td>0.000721</td>\n",
       "    </tr>\n",
       "    <tr>\n",
       "      <th>15</th>\n",
       "      <td>FT_RP</td>\n",
       "      <td>0.020100</td>\n",
       "      <td>0.000815</td>\n",
       "    </tr>\n",
       "    <tr>\n",
       "      <th>16</th>\n",
       "      <td>FT_PD_b</td>\n",
       "      <td>0.016045</td>\n",
       "      <td>0.000476</td>\n",
       "    </tr>\n",
       "    <tr>\n",
       "      <th>17</th>\n",
       "      <td>FT_CW_b</td>\n",
       "      <td>0.015815</td>\n",
       "      <td>0.000210</td>\n",
       "    </tr>\n",
       "    <tr>\n",
       "      <th>18</th>\n",
       "      <td>FT_RP_b</td>\n",
       "      <td>0.013098</td>\n",
       "      <td>0.001067</td>\n",
       "    </tr>\n",
       "    <tr>\n",
       "      <th>19</th>\n",
       "      <td>FT_CR_b</td>\n",
       "      <td>0.012702</td>\n",
       "      <td>0.000171</td>\n",
       "    </tr>\n",
       "    <tr>\n",
       "      <th>20</th>\n",
       "      <td>JUDGE_ML</td>\n",
       "      <td>0.012156</td>\n",
       "      <td>0.000791</td>\n",
       "    </tr>\n",
       "    <tr>\n",
       "      <th>21</th>\n",
       "      <td>LP_RA</td>\n",
       "      <td>0.010595</td>\n",
       "      <td>0.001159</td>\n",
       "    </tr>\n",
       "    <tr>\n",
       "      <th>22</th>\n",
       "      <td>FT_AG</td>\n",
       "      <td>0.009430</td>\n",
       "      <td>0.000762</td>\n",
       "    </tr>\n",
       "    <tr>\n",
       "      <th>23</th>\n",
       "      <td>LP_RA_b</td>\n",
       "      <td>0.008139</td>\n",
       "      <td>0.000669</td>\n",
       "    </tr>\n",
       "    <tr>\n",
       "      <th>24</th>\n",
       "      <td>FT_AG_b</td>\n",
       "      <td>0.007945</td>\n",
       "      <td>0.000574</td>\n",
       "    </tr>\n",
       "    <tr>\n",
       "      <th>25</th>\n",
       "      <td>RQ_FH_AT</td>\n",
       "      <td>0.007528</td>\n",
       "      <td>0.001001</td>\n",
       "    </tr>\n",
       "    <tr>\n",
       "      <th>26</th>\n",
       "      <td>LN_JNPREF</td>\n",
       "      <td>0.006155</td>\n",
       "      <td>0.001286</td>\n",
       "    </tr>\n",
       "    <tr>\n",
       "      <th>27</th>\n",
       "      <td>RQ_FH_SP</td>\n",
       "      <td>0.005523</td>\n",
       "      <td>0.001099</td>\n",
       "    </tr>\n",
       "    <tr>\n",
       "      <th>28</th>\n",
       "      <td>LP_PE</td>\n",
       "      <td>0.004697</td>\n",
       "      <td>0.000372</td>\n",
       "    </tr>\n",
       "    <tr>\n",
       "      <th>29</th>\n",
       "      <td>LP_PE_b</td>\n",
       "      <td>0.004025</td>\n",
       "      <td>0.000402</td>\n",
       "    </tr>\n",
       "    <tr>\n",
       "      <th>30</th>\n",
       "      <td>LP_RJ_b</td>\n",
       "      <td>0.003795</td>\n",
       "      <td>0.000240</td>\n",
       "    </tr>\n",
       "    <tr>\n",
       "      <th>31</th>\n",
       "      <td>LP_RJ</td>\n",
       "      <td>0.003568</td>\n",
       "      <td>0.000321</td>\n",
       "    </tr>\n",
       "    <tr>\n",
       "      <th>32</th>\n",
       "      <td>LN_JNPREF_b</td>\n",
       "      <td>0.002766</td>\n",
       "      <td>0.000385</td>\n",
       "    </tr>\n",
       "  </tbody>\n",
       "</table>\n",
       "</div>"
      ],
      "text/plain": [
       "       features  coefficients       std\n",
       "0      RQ_JOINT      0.191533  0.006265\n",
       "1         FT_RA      0.080875  0.002393\n",
       "2         LP_BI      0.073319  0.003235\n",
       "3         FT_RD      0.068486  0.002009\n",
       "4         FT_CC      0.063560  0.002852\n",
       "5      PLAIN_ML      0.060000  0.004264\n",
       "6       LP_BI_b      0.055127  0.001842\n",
       "7       FT_CC_b      0.049354  0.001585\n",
       "8       FT_RA_b      0.035978  0.002743\n",
       "9      RQ_MP_SP      0.032747  0.002079\n",
       "10     RQ_MP_AT      0.030620  0.001148\n",
       "11        FT_CW      0.028401  0.001178\n",
       "12      FT_RD_b      0.023945  0.001633\n",
       "13        FT_PD      0.023770  0.000519\n",
       "14        FT_CR      0.021924  0.000721\n",
       "15        FT_RP      0.020100  0.000815\n",
       "16      FT_PD_b      0.016045  0.000476\n",
       "17      FT_CW_b      0.015815  0.000210\n",
       "18      FT_RP_b      0.013098  0.001067\n",
       "19      FT_CR_b      0.012702  0.000171\n",
       "20     JUDGE_ML      0.012156  0.000791\n",
       "21        LP_RA      0.010595  0.001159\n",
       "22        FT_AG      0.009430  0.000762\n",
       "23      LP_RA_b      0.008139  0.000669\n",
       "24      FT_AG_b      0.007945  0.000574\n",
       "25     RQ_FH_AT      0.007528  0.001001\n",
       "26    LN_JNPREF      0.006155  0.001286\n",
       "27     RQ_FH_SP      0.005523  0.001099\n",
       "28        LP_PE      0.004697  0.000372\n",
       "29      LP_PE_b      0.004025  0.000402\n",
       "30      LP_RJ_b      0.003795  0.000240\n",
       "31        LP_RJ      0.003568  0.000321\n",
       "32  LN_JNPREF_b      0.002766  0.000385"
      ]
     },
     "execution_count": 43,
     "metadata": {},
     "output_type": "execute_result"
    }
   ],
   "source": [
    "feature_importances_winwin"
   ]
  },
  {
   "cell_type": "code",
   "execution_count": 10,
   "metadata": {},
   "outputs": [
    {
     "name": "stdout",
     "output_type": "stream",
     "text": [
      "['RQ_JOINT', 'FT_RA', 'LP_BI', 'FT_RD', 'FT_CC', 'PLAIN_ML', 'LP_BI_b', 'FT_CC_b', 'FT_RA_b', 'RQ_MP_SP', 'RQ_MP_AT', 'FT_CW', 'FT_RD_b', 'FT_PD', 'FT_CR', 'FT_RP', 'FT_PD_b', 'FT_CW_b', 'FT_RP_b', 'FT_CR_b', 'JUDGE_ML', 'LP_RA', 'FT_AG', 'LP_RA_b', 'FT_AG_b', 'RQ_FH_AT', 'LN_JNPREF', 'RQ_FH_SP', 'LP_PE', 'LP_PE_b', 'LP_RJ_b', 'LP_RJ', 'LN_JNPREF_b']\n"
     ]
    }
   ],
   "source": [
    "print(feature_importances_winwin['features'].to_list())"
   ]
  },
  {
   "cell_type": "code",
   "execution_count": 11,
   "metadata": {},
   "outputs": [
    {
     "name": "stdout",
     "output_type": "stream",
     "text": [
      "[0.19153341937194562, 0.08087460405713365, 0.07331899080512075, 0.0684861681380746, 0.06355989729329779, 0.06000002071131096, 0.05512691095949846, 0.04935436069083849, 0.03597750276978979, 0.032747256121583114, 0.03062024148188076, 0.028400573761974444, 0.02394548802779918, 0.023770257884209955, 0.021923860756904574, 0.02010013121728283, 0.016045330384165085, 0.01581513686625872, 0.01309825498580869, 0.012701663805358558, 0.012156053090317033, 0.010594728939702988, 0.009430012742184656, 0.008138637260480058, 0.007945205621726684, 0.0075279201416635945, 0.006154809579197631, 0.00552306721394635, 0.004696745192670966, 0.004025277749852578, 0.0037953352180547634, 0.0035682255324143144, 0.0027659441762789266]\n"
     ]
    }
   ],
   "source": [
    "print(feature_importances_winwin['coefficients'].to_list())"
   ]
  },
  {
   "cell_type": "markdown",
   "metadata": {},
   "source": [
    "### Judicial decision prediction model - no plaintiff gender"
   ]
  },
  {
   "cell_type": "code",
   "execution_count": 12,
   "metadata": {},
   "outputs": [],
   "source": [
    "hide_cols_plaitiff_gender = hide_cols + [\"PLAIN_ML\"]"
   ]
  },
  {
   "cell_type": "code",
   "execution_count": 13,
   "metadata": {},
   "outputs": [
    {
     "name": "stdout",
     "output_type": "stream",
     "text": [
      "Balanced accuracy mean: 0.8817883803656319\n"
     ]
    },
    {
     "data": {
      "image/png": "[encoded data removed]",
      "text/plain": [
       "<Figure size 432x288 with 2 Axes>"
      ]
     },
     "metadata": {
      "needs_background": "light"
     },
     "output_type": "display_data"
    }
   ],
   "source": [
    "feature_importances_winwin_no_plaintiff_gender = classifiers.rf_classifier(df, \"WINWIN\", hide_cols_plaitiff_gender)"
   ]
  },
  {
   "cell_type": "markdown",
   "metadata": {},
   "source": [
    "### Judicial decision prediction model - no judge gender"
   ]
  },
  {
   "cell_type": "code",
   "execution_count": 14,
   "metadata": {},
   "outputs": [],
   "source": [
    "hide_cols_judge_gender = hide_cols + [\"JUDGE_ML\"]"
   ]
  },
  {
   "cell_type": "code",
   "execution_count": 15,
   "metadata": {},
   "outputs": [
    {
     "name": "stdout",
     "output_type": "stream",
     "text": [
      "Balanced accuracy mean: 0.8799753503076537\n"
     ]
    },
    {
     "data": {
      "image/png": "[encoded data removed]",
      "text/plain": [
       "<Figure size 432x288 with 2 Axes>"
      ]
     },
     "metadata": {
      "needs_background": "light"
     },
     "output_type": "display_data"
    }
   ],
   "source": [
    "feature_importances_winwin_no_judge_gender = classifiers.rf_classifier(df, \"WINWIN\", hide_cols_judge_gender)"
   ]
  },
  {
   "cell_type": "markdown",
   "metadata": {},
   "source": [
    "## Plaintiff gender prediction model"
   ]
  },
  {
   "cell_type": "code",
   "execution_count": 16,
   "metadata": {},
   "outputs": [
    {
     "name": "stdout",
     "output_type": "stream",
     "text": [
      "LogReg - 0.850\n",
      "RandomForest - 0.824\n",
      "SVM linear - 0.843\n",
      "SVM RBF kernel - 0.843\n",
      "AdaBoost - 0.802\n"
     ]
    }
   ],
   "source": [
    "classifiers_comparison.model_comparison(df, \"PLAIN_ML\", hide_cols)"
   ]
  },
  {
   "cell_type": "code",
   "execution_count": 17,
   "metadata": {},
   "outputs": [
    {
     "name": "stdout",
     "output_type": "stream",
     "text": [
      "Balanced accuracy mean: 0.8504044546671345\n"
     ]
    },
    {
     "data": {
      "image/png": "[encoded data removed]",
      "text/plain": [
       "<Figure size 640x480 with 2 Axes>"
      ]
     },
     "metadata": {},
     "output_type": "display_data"
    }
   ],
   "source": [
    "feature_importances_plain = classifiers.lr_classifier(df, \"PLAIN_ML\", hide_cols)"
   ]
  },
  {
   "cell_type": "code",
   "execution_count": 18,
   "metadata": {},
   "outputs": [
    {
     "name": "stdout",
     "output_type": "stream",
     "text": [
      "   features  coefficients       std\n",
      "0  RQ_JOINT      2.874478  0.100822\n",
      "1  RQ_MP_SP      0.957701  0.106847\n",
      "2   FT_PD_b      0.893988  0.122781\n",
      "3     FT_CR      0.702986  0.213482\n",
      "4  RQ_FH_SP      0.434315  0.037296\n",
      "       features  coefficients       std\n",
      "27        FT_RD     -0.460916  0.218647\n",
      "28     RQ_MP_AT     -0.480660  0.050144\n",
      "29  LN_JNPREF_b     -0.531718  0.066109\n",
      "30      FT_RD_b     -0.535645  0.117530\n",
      "31        LP_BI     -0.907910  0.235982\n"
     ]
    }
   ],
   "source": [
    "feature_importances_plain = classifiers.sort_feature_importances(feature_importances_plain)\n",
    "print(feature_importances_plain.head())\n",
    "print(feature_importances_plain.tail())"
   ]
  },
  {
   "cell_type": "markdown",
   "metadata": {},
   "source": [
    "### Plaintiff gender prediction model - sole custody"
   ]
  },
  {
   "cell_type": "code",
   "execution_count": 8,
   "metadata": {},
   "outputs": [],
   "source": [
    "df_request_sole, df_request_joint = base_rates.df_by_group(df, \"RQ_JOINT\")"
   ]
  },
  {
   "cell_type": "code",
   "execution_count": 20,
   "metadata": {},
   "outputs": [
    {
     "name": "stdout",
     "output_type": "stream",
     "text": [
      "LogReg - 0.587\n",
      "RandomForest - 0.585\n",
      "SVM linear - 0.572\n",
      "SVM RBF kernel - 0.500\n",
      "AdaBoost - 0.588\n"
     ]
    }
   ],
   "source": [
    "classifiers_comparison.model_comparison(df_request_sole, \"PLAIN_ML\", hide_cols)"
   ]
  },
  {
   "cell_type": "code",
   "execution_count": 21,
   "metadata": {},
   "outputs": [
    {
     "name": "stdout",
     "output_type": "stream",
     "text": [
      "Balanced accuracy mean: 0.5881780400541036\n"
     ]
    },
    {
     "data": {
      "image/png": "[encoded data removed]",
      "text/plain": [
       "<Figure size 432x288 with 2 Axes>"
      ]
     },
     "metadata": {
      "needs_background": "light"
     },
     "output_type": "display_data"
    }
   ],
   "source": [
    "feature_importances_plain_sole = classifiers.ab_classifier(df_request_sole, \"PLAIN_ML\", hide_cols)"
   ]
  },
  {
   "cell_type": "code",
   "execution_count": 22,
   "metadata": {},
   "outputs": [
    {
     "data": {
      "text/html": [
       "<div>\n",
       "<style scoped>\n",
       "    .dataframe tbody tr th:only-of-type {\n",
       "        vertical-align: middle;\n",
       "    }\n",
       "\n",
       "    .dataframe tbody tr th {\n",
       "        vertical-align: top;\n",
       "    }\n",
       "\n",
       "    .dataframe thead th {\n",
       "        text-align: right;\n",
       "    }\n",
       "</style>\n",
       "<table border=\"1\" class=\"dataframe\">\n",
       "  <thead>\n",
       "    <tr style=\"text-align: right;\">\n",
       "      <th></th>\n",
       "      <th>features</th>\n",
       "      <th>coefficients</th>\n",
       "      <th>std</th>\n",
       "    </tr>\n",
       "  </thead>\n",
       "  <tbody>\n",
       "    <tr>\n",
       "      <th>0</th>\n",
       "      <td>FT_RD</td>\n",
       "      <td>0.261</td>\n",
       "      <td>0.053169</td>\n",
       "    </tr>\n",
       "    <tr>\n",
       "      <th>1</th>\n",
       "      <td>FT_RA</td>\n",
       "      <td>0.137</td>\n",
       "      <td>0.032701</td>\n",
       "    </tr>\n",
       "    <tr>\n",
       "      <th>2</th>\n",
       "      <td>FT_PD</td>\n",
       "      <td>0.115</td>\n",
       "      <td>0.022357</td>\n",
       "    </tr>\n",
       "    <tr>\n",
       "      <th>3</th>\n",
       "      <td>FT_CC</td>\n",
       "      <td>0.109</td>\n",
       "      <td>0.045137</td>\n",
       "    </tr>\n",
       "    <tr>\n",
       "      <th>4</th>\n",
       "      <td>LP_BI</td>\n",
       "      <td>0.076</td>\n",
       "      <td>0.006524</td>\n",
       "    </tr>\n",
       "  </tbody>\n",
       "</table>\n",
       "</div>"
      ],
      "text/plain": [
       "  features  coefficients       std\n",
       "0    FT_RD         0.261  0.053169\n",
       "1    FT_RA         0.137  0.032701\n",
       "2    FT_PD         0.115  0.022357\n",
       "3    FT_CC         0.109  0.045137\n",
       "4    LP_BI         0.076  0.006524"
      ]
     },
     "execution_count": 19,
     "metadata": {},
     "output_type": "execute_result"
    }
   ],
   "source": [
    "feature_importances_plain_sole = classifiers.sort_feature_importances(feature_importances_plain_sole)\n",
    "feature_importances_plain_sole.head()"
   ]
  },
  {
   "cell_type": "markdown",
   "metadata": {},
   "source": [
    "### Plaintiff gender prediction model - joint custody"
   ]
  },
  {
   "cell_type": "code",
   "execution_count": 23,
   "metadata": {},
   "outputs": [
    {
     "name": "stdout",
     "output_type": "stream",
     "text": [
      "LogReg - 0.500\n",
      "RandomForest - 0.502\n",
      "SVM linear - 0.500\n",
      "SVM RBF kernel - 0.500\n",
      "AdaBoost - 0.505\n"
     ]
    }
   ],
   "source": [
    "classifiers_comparison.model_comparison(df_request_joint, \"PLAIN_ML\", hide_cols)"
   ]
  },
  {
   "cell_type": "code",
   "execution_count": 24,
   "metadata": {},
   "outputs": [
    {
     "name": "stdout",
     "output_type": "stream",
     "text": [
      "Balanced accuracy mean: 0.505165857101341\n"
     ]
    },
    {
     "data": {
      "image/png": "[encoded data removed]",
      "text/plain": [
       "<Figure size 432x288 with 2 Axes>"
      ]
     },
     "metadata": {
      "needs_background": "light"
     },
     "output_type": "display_data"
    }
   ],
   "source": [
    "feature_importances_plain_joint = classifiers.ab_classifier(df_request_joint, \"PLAIN_ML\", hide_cols)"
   ]
  },
  {
   "cell_type": "code",
   "execution_count": 25,
   "metadata": {},
   "outputs": [
    {
     "data": {
      "text/html": [
       "<div>\n",
       "<style scoped>\n",
       "    .dataframe tbody tr th:only-of-type {\n",
       "        vertical-align: middle;\n",
       "    }\n",
       "\n",
       "    .dataframe tbody tr th {\n",
       "        vertical-align: top;\n",
       "    }\n",
       "\n",
       "    .dataframe thead th {\n",
       "        text-align: right;\n",
       "    }\n",
       "</style>\n",
       "<table border=\"1\" class=\"dataframe\">\n",
       "  <thead>\n",
       "    <tr style=\"text-align: right;\">\n",
       "      <th></th>\n",
       "      <th>features</th>\n",
       "      <th>coefficients</th>\n",
       "      <th>std</th>\n",
       "    </tr>\n",
       "  </thead>\n",
       "  <tbody>\n",
       "    <tr>\n",
       "      <th>0</th>\n",
       "      <td>LP_BI</td>\n",
       "      <td>0.248</td>\n",
       "      <td>0.052930</td>\n",
       "    </tr>\n",
       "    <tr>\n",
       "      <th>1</th>\n",
       "      <td>FT_RD</td>\n",
       "      <td>0.207</td>\n",
       "      <td>0.056357</td>\n",
       "    </tr>\n",
       "    <tr>\n",
       "      <th>2</th>\n",
       "      <td>FT_RA</td>\n",
       "      <td>0.181</td>\n",
       "      <td>0.032699</td>\n",
       "    </tr>\n",
       "    <tr>\n",
       "      <th>3</th>\n",
       "      <td>FT_CW</td>\n",
       "      <td>0.092</td>\n",
       "      <td>0.021266</td>\n",
       "    </tr>\n",
       "    <tr>\n",
       "      <th>4</th>\n",
       "      <td>FT_CC</td>\n",
       "      <td>0.060</td>\n",
       "      <td>0.014926</td>\n",
       "    </tr>\n",
       "  </tbody>\n",
       "</table>\n",
       "</div>"
      ],
      "text/plain": [
       "  features  coefficients       std\n",
       "0    LP_BI         0.248  0.052930\n",
       "1    FT_RD         0.207  0.056357\n",
       "2    FT_RA         0.181  0.032699\n",
       "3    FT_CW         0.092  0.021266\n",
       "4    FT_CC         0.060  0.014926"
      ]
     },
     "execution_count": 22,
     "metadata": {},
     "output_type": "execute_result"
    }
   ],
   "source": [
    "feature_importances_plain_joint = classifiers.sort_feature_importances(feature_importances_plain_joint)\n",
    "feature_importances_plain_joint.head()"
   ]
  },
  {
   "cell_type": "markdown",
   "metadata": {},
   "source": [
    "## Judge gender prediction model"
   ]
  },
  {
   "cell_type": "markdown",
   "metadata": {},
   "source": [
    "<div class=\"alert alert-block alert-info col-md-12\">\n",
    "\n",
    "<p>\n",
    "Can we predict the gender of the judge based on the sentence features with sufficient accuracy?\n",
    "</p>\n",
    "\n",
    "</div>"
   ]
  },
  {
   "cell_type": "code",
   "execution_count": 26,
   "metadata": {},
   "outputs": [
    {
     "name": "stdout",
     "output_type": "stream",
     "text": [
      "LogReg - 0.501\n",
      "RandomForest - 0.510\n",
      "SVM linear - 0.500\n",
      "SVM RBF kernel - 0.500\n",
      "AdaBoost - 0.516\n"
     ]
    }
   ],
   "source": [
    "classifiers_comparison.model_comparison(df, \"JUDGE_ML\", hide_cols)"
   ]
  },
  {
   "cell_type": "code",
   "execution_count": 27,
   "metadata": {},
   "outputs": [
    {
     "name": "stdout",
     "output_type": "stream",
     "text": [
      "Balanced accuracy mean: 0.5163837765214347\n"
     ]
    },
    {
     "data": {
      "image/png": "[encoded data removed]",
      "text/plain": [
       "<Figure size 432x288 with 2 Axes>"
      ]
     },
     "metadata": {
      "needs_background": "light"
     },
     "output_type": "display_data"
    }
   ],
   "source": [
    "feature_importances_judge = classifiers.ab_classifier(df, \"JUDGE_ML\", hide_cols)"
   ]
  },
  {
   "cell_type": "code",
   "execution_count": 28,
   "metadata": {},
   "outputs": [
    {
     "data": {
      "text/html": [
       "<div>\n",
       "<style scoped>\n",
       "    .dataframe tbody tr th:only-of-type {\n",
       "        vertical-align: middle;\n",
       "    }\n",
       "\n",
       "    .dataframe tbody tr th {\n",
       "        vertical-align: top;\n",
       "    }\n",
       "\n",
       "    .dataframe thead th {\n",
       "        text-align: right;\n",
       "    }\n",
       "</style>\n",
       "<table border=\"1\" class=\"dataframe\">\n",
       "  <thead>\n",
       "    <tr style=\"text-align: right;\">\n",
       "      <th></th>\n",
       "      <th>features</th>\n",
       "      <th>coefficients</th>\n",
       "      <th>std</th>\n",
       "    </tr>\n",
       "  </thead>\n",
       "  <tbody>\n",
       "    <tr>\n",
       "      <th>0</th>\n",
       "      <td>FT_RD</td>\n",
       "      <td>0.270</td>\n",
       "      <td>0.038962</td>\n",
       "    </tr>\n",
       "    <tr>\n",
       "      <th>1</th>\n",
       "      <td>FT_RA</td>\n",
       "      <td>0.220</td>\n",
       "      <td>0.033518</td>\n",
       "    </tr>\n",
       "    <tr>\n",
       "      <th>2</th>\n",
       "      <td>LP_BI</td>\n",
       "      <td>0.159</td>\n",
       "      <td>0.023404</td>\n",
       "    </tr>\n",
       "    <tr>\n",
       "      <th>3</th>\n",
       "      <td>FT_CR</td>\n",
       "      <td>0.113</td>\n",
       "      <td>0.028849</td>\n",
       "    </tr>\n",
       "    <tr>\n",
       "      <th>4</th>\n",
       "      <td>FT_CC</td>\n",
       "      <td>0.059</td>\n",
       "      <td>0.011214</td>\n",
       "    </tr>\n",
       "  </tbody>\n",
       "</table>\n",
       "</div>"
      ],
      "text/plain": [
       "  features  coefficients       std\n",
       "0    FT_RD         0.270  0.038962\n",
       "1    FT_RA         0.220  0.033518\n",
       "2    LP_BI         0.159  0.023404\n",
       "3    FT_CR         0.113  0.028849\n",
       "4    FT_CC         0.059  0.011214"
      ]
     },
     "execution_count": 28,
     "metadata": {},
     "output_type": "execute_result"
    }
   ],
   "source": [
    "feature_importances_judge = classifiers.sort_feature_importances(feature_importances_judge)\n",
    "feature_importances_judge.head()"
   ]
  },
  {
   "cell_type": "markdown",
   "metadata": {},
   "source": [
    "### Judge gender prediction model - sole custody"
   ]
  },
  {
   "cell_type": "code",
   "execution_count": 29,
   "metadata": {},
   "outputs": [
    {
     "name": "stdout",
     "output_type": "stream",
     "text": [
      "LogReg - 0.497\n",
      "RandomForest - 0.541\n",
      "SVM linear - 0.500\n",
      "SVM RBF kernel - 0.500\n",
      "AdaBoost - 0.531\n"
     ]
    }
   ],
   "source": [
    "classifiers_comparison.model_comparison(df_request_sole, \"JUDGE_ML\", hide_cols)"
   ]
  },
  {
   "cell_type": "code",
   "execution_count": 30,
   "metadata": {},
   "outputs": [
    {
     "name": "stdout",
     "output_type": "stream",
     "text": [
      "Balanced accuracy mean: 0.5305459647276753\n"
     ]
    },
    {
     "data": {
      "image/png": "[encoded data removed]",
      "text/plain": [
       "<Figure size 432x288 with 2 Axes>"
      ]
     },
     "metadata": {
      "needs_background": "light"
     },
     "output_type": "display_data"
    }
   ],
   "source": [
    "feature_importances_judge_sole = classifiers.ab_classifier(df_request_sole, \"JUDGE_ML\", hide_cols)"
   ]
  },
  {
   "cell_type": "code",
   "execution_count": 31,
   "metadata": {},
   "outputs": [
    {
     "data": {
      "text/html": [
       "<div>\n",
       "<style scoped>\n",
       "    .dataframe tbody tr th:only-of-type {\n",
       "        vertical-align: middle;\n",
       "    }\n",
       "\n",
       "    .dataframe tbody tr th {\n",
       "        vertical-align: top;\n",
       "    }\n",
       "\n",
       "    .dataframe thead th {\n",
       "        text-align: right;\n",
       "    }\n",
       "</style>\n",
       "<table border=\"1\" class=\"dataframe\">\n",
       "  <thead>\n",
       "    <tr style=\"text-align: right;\">\n",
       "      <th></th>\n",
       "      <th>features</th>\n",
       "      <th>coefficients</th>\n",
       "      <th>std</th>\n",
       "    </tr>\n",
       "  </thead>\n",
       "  <tbody>\n",
       "    <tr>\n",
       "      <th>0</th>\n",
       "      <td>FT_RD</td>\n",
       "      <td>0.377</td>\n",
       "      <td>0.063294</td>\n",
       "    </tr>\n",
       "    <tr>\n",
       "      <th>1</th>\n",
       "      <td>FT_RA</td>\n",
       "      <td>0.155</td>\n",
       "      <td>0.017095</td>\n",
       "    </tr>\n",
       "    <tr>\n",
       "      <th>2</th>\n",
       "      <td>FT_CR</td>\n",
       "      <td>0.087</td>\n",
       "      <td>0.026234</td>\n",
       "    </tr>\n",
       "    <tr>\n",
       "      <th>3</th>\n",
       "      <td>LP_BI</td>\n",
       "      <td>0.078</td>\n",
       "      <td>0.014959</td>\n",
       "    </tr>\n",
       "    <tr>\n",
       "      <th>4</th>\n",
       "      <td>FT_CC</td>\n",
       "      <td>0.073</td>\n",
       "      <td>0.027332</td>\n",
       "    </tr>\n",
       "  </tbody>\n",
       "</table>\n",
       "</div>"
      ],
      "text/plain": [
       "  features  coefficients       std\n",
       "0    FT_RD         0.377  0.063294\n",
       "1    FT_RA         0.155  0.017095\n",
       "2    FT_CR         0.087  0.026234\n",
       "3    LP_BI         0.078  0.014959\n",
       "4    FT_CC         0.073  0.027332"
      ]
     },
     "execution_count": 28,
     "metadata": {},
     "output_type": "execute_result"
    }
   ],
   "source": [
    "feature_importances_judge_sole = classifiers.sort_feature_importances(feature_importances_judge_sole)\n",
    "feature_importances_judge_sole.head()"
   ]
  },
  {
   "cell_type": "markdown",
   "metadata": {},
   "source": [
    "### Judge gender prediction model - joint custody"
   ]
  },
  {
   "cell_type": "code",
   "execution_count": 32,
   "metadata": {},
   "outputs": [
    {
     "name": "stdout",
     "output_type": "stream",
     "text": [
      "LogReg - 0.493\n",
      "RandomForest - 0.486\n",
      "SVM linear - 0.500\n",
      "SVM RBF kernel - 0.500\n",
      "AdaBoost - 0.484\n"
     ]
    }
   ],
   "source": [
    "classifiers_comparison.model_comparison(df_request_joint, \"JUDGE_ML\", hide_cols)"
   ]
  },
  {
   "cell_type": "code",
   "execution_count": 33,
   "metadata": {},
   "outputs": [
    {
     "name": "stdout",
     "output_type": "stream",
     "text": [
      "Balanced accuracy mean: 0.4836280660547434\n"
     ]
    },
    {
     "data": {
      "image/png": "[encoded data removed]",
      "text/plain": [
       "<Figure size 432x288 with 2 Axes>"
      ]
     },
     "metadata": {
      "needs_background": "light"
     },
     "output_type": "display_data"
    }
   ],
   "source": [
    "feature_importances_judge_joint = classifiers.ab_classifier(df_request_joint, \"JUDGE_ML\", hide_cols)"
   ]
  },
  {
   "cell_type": "code",
   "execution_count": 34,
   "metadata": {},
   "outputs": [
    {
     "data": {
      "text/html": [
       "<div>\n",
       "<style scoped>\n",
       "    .dataframe tbody tr th:only-of-type {\n",
       "        vertical-align: middle;\n",
       "    }\n",
       "\n",
       "    .dataframe tbody tr th {\n",
       "        vertical-align: top;\n",
       "    }\n",
       "\n",
       "    .dataframe thead th {\n",
       "        text-align: right;\n",
       "    }\n",
       "</style>\n",
       "<table border=\"1\" class=\"dataframe\">\n",
       "  <thead>\n",
       "    <tr style=\"text-align: right;\">\n",
       "      <th></th>\n",
       "      <th>features</th>\n",
       "      <th>coefficients</th>\n",
       "      <th>std</th>\n",
       "    </tr>\n",
       "  </thead>\n",
       "  <tbody>\n",
       "    <tr>\n",
       "      <th>0</th>\n",
       "      <td>FT_RD</td>\n",
       "      <td>0.296</td>\n",
       "      <td>0.063808</td>\n",
       "    </tr>\n",
       "    <tr>\n",
       "      <th>1</th>\n",
       "      <td>FT_RA</td>\n",
       "      <td>0.219</td>\n",
       "      <td>0.063323</td>\n",
       "    </tr>\n",
       "    <tr>\n",
       "      <th>2</th>\n",
       "      <td>LP_BI</td>\n",
       "      <td>0.196</td>\n",
       "      <td>0.051080</td>\n",
       "    </tr>\n",
       "    <tr>\n",
       "      <th>3</th>\n",
       "      <td>FT_PD</td>\n",
       "      <td>0.116</td>\n",
       "      <td>0.034753</td>\n",
       "    </tr>\n",
       "    <tr>\n",
       "      <th>4</th>\n",
       "      <td>FT_CR</td>\n",
       "      <td>0.038</td>\n",
       "      <td>0.009368</td>\n",
       "    </tr>\n",
       "  </tbody>\n",
       "</table>\n",
       "</div>"
      ],
      "text/plain": [
       "  features  coefficients       std\n",
       "0    FT_RD         0.296  0.063808\n",
       "1    FT_RA         0.219  0.063323\n",
       "2    LP_BI         0.196  0.051080\n",
       "3    FT_PD         0.116  0.034753\n",
       "4    FT_CR         0.038  0.009368"
      ]
     },
     "execution_count": 31,
     "metadata": {},
     "output_type": "execute_result"
    }
   ],
   "source": [
    "feature_importances_judge_joint = classifiers.sort_feature_importances(feature_importances_judge_joint)\n",
    "feature_importances_judge_joint.head()"
   ]
  },
  {
   "cell_type": "markdown",
   "metadata": {},
   "source": [
    "## Plaintiff gender disparities"
   ]
  },
  {
   "cell_type": "markdown",
   "metadata": {},
   "source": [
    "<div class=\"alert alert-block alert-info col-md-12\">\n",
    "\n",
    "<p>\n",
    "\n",
    "What are the differences between female and male plaintiffs when predicting the winning chances?\n",
    "\n",
    "</p>\n",
    "\n",
    "</div>"
   ]
  },
  {
   "cell_type": "code",
   "execution_count": 35,
   "metadata": {},
   "outputs": [],
   "source": [
    "df_female_plaintiff, df_male_plaintiff = base_rates.df_by_group(df, \"PLAIN_ML\")"
   ]
  },
  {
   "cell_type": "code",
   "execution_count": 36,
   "metadata": {},
   "outputs": [
    {
     "name": "stdout",
     "output_type": "stream",
     "text": [
      "Balanced accuracy mean: 0.8261944087888855\n"
     ]
    },
    {
     "data": {
      "image/png": "[encoded data removed]",
      "text/plain": [
       "<Figure size 432x288 with 2 Axes>"
      ]
     },
     "metadata": {
      "needs_background": "light"
     },
     "output_type": "display_data"
    }
   ],
   "source": [
    "feature_importances_plain_female = classifiers.rf_classifier(df_female_plaintiff, \"WINWIN\", hide_cols)"
   ]
  },
  {
   "cell_type": "code",
   "execution_count": 37,
   "metadata": {},
   "outputs": [
    {
     "name": "stdout",
     "output_type": "stream",
     "text": [
      "Balanced accuracy mean: 0.8762445618811221\n"
     ]
    },
    {
     "data": {
      "image/png": "[encoded data removed]",
      "text/plain": [
       "<Figure size 432x288 with 2 Axes>"
      ]
     },
     "metadata": {
      "needs_background": "light"
     },
     "output_type": "display_data"
    }
   ],
   "source": [
    "feature_importances_plain_male = classifiers.rf_classifier(df_male_plaintiff, \"WINWIN\", hide_cols)"
   ]
  },
  {
   "cell_type": "code",
   "execution_count": 38,
   "metadata": {},
   "outputs": [
    {
     "data": {
      "text/html": [
       "<div>\n",
       "<style scoped>\n",
       "    .dataframe tbody tr th:only-of-type {\n",
       "        vertical-align: middle;\n",
       "    }\n",
       "\n",
       "    .dataframe tbody tr th {\n",
       "        vertical-align: top;\n",
       "    }\n",
       "\n",
       "    .dataframe thead th {\n",
       "        text-align: right;\n",
       "    }\n",
       "</style>\n",
       "<table border=\"1\" class=\"dataframe\">\n",
       "  <thead>\n",
       "    <tr style=\"text-align: right;\">\n",
       "      <th></th>\n",
       "      <th>features</th>\n",
       "      <th>coefficients_x</th>\n",
       "      <th>coefficients_y</th>\n",
       "      <th>disp_score</th>\n",
       "    </tr>\n",
       "  </thead>\n",
       "  <tbody>\n",
       "    <tr>\n",
       "      <th>2</th>\n",
       "      <td>RQ_MP_AT</td>\n",
       "      <td>0.040490</td>\n",
       "      <td>0.019112</td>\n",
       "      <td>0.021378</td>\n",
       "    </tr>\n",
       "    <tr>\n",
       "      <th>3</th>\n",
       "      <td>FT_PD</td>\n",
       "      <td>0.039927</td>\n",
       "      <td>0.020338</td>\n",
       "      <td>0.019589</td>\n",
       "    </tr>\n",
       "    <tr>\n",
       "      <th>4</th>\n",
       "      <td>LP_BI</td>\n",
       "      <td>0.090195</td>\n",
       "      <td>0.072577</td>\n",
       "      <td>0.017618</td>\n",
       "    </tr>\n",
       "    <tr>\n",
       "      <th>5</th>\n",
       "      <td>FT_CC</td>\n",
       "      <td>0.078306</td>\n",
       "      <td>0.060900</td>\n",
       "      <td>0.017406</td>\n",
       "    </tr>\n",
       "    <tr>\n",
       "      <th>7</th>\n",
       "      <td>FT_CC_b</td>\n",
       "      <td>0.063842</td>\n",
       "      <td>0.047445</td>\n",
       "      <td>0.016397</td>\n",
       "    </tr>\n",
       "    <tr>\n",
       "      <th>8</th>\n",
       "      <td>FT_RD</td>\n",
       "      <td>0.098830</td>\n",
       "      <td>0.082892</td>\n",
       "      <td>0.015939</td>\n",
       "    </tr>\n",
       "    <tr>\n",
       "      <th>9</th>\n",
       "      <td>FT_PD_b</td>\n",
       "      <td>0.028032</td>\n",
       "      <td>0.014699</td>\n",
       "      <td>0.013333</td>\n",
       "    </tr>\n",
       "  </tbody>\n",
       "</table>\n",
       "</div>"
      ],
      "text/plain": [
       "   features  coefficients_x  coefficients_y  disp_score\n",
       "2  RQ_MP_AT        0.040490        0.019112    0.021378\n",
       "3     FT_PD        0.039927        0.020338    0.019589\n",
       "4     LP_BI        0.090195        0.072577    0.017618\n",
       "5     FT_CC        0.078306        0.060900    0.017406\n",
       "7   FT_CC_b        0.063842        0.047445    0.016397\n",
       "8     FT_RD        0.098830        0.082892    0.015939\n",
       "9   FT_PD_b        0.028032        0.014699    0.013333"
      ]
     },
     "execution_count": 35,
     "metadata": {},
     "output_type": "execute_result"
    }
   ],
   "source": [
    "df_disp_score_plain = disparity_score.disp_score_feature_importance(feature_importances_plain_female, feature_importances_plain_male)\n",
    "df_disp_score_plain_above_thres = disparity_score.disp_score_feature_importance_show_above_threshold(df_disp_score_plain)\n",
    "df_disp_score_plain_above_thres"
   ]
  },
  {
   "cell_type": "code",
   "execution_count": 39,
   "metadata": {},
   "outputs": [
    {
     "data": {
      "text/html": [
       "<div>\n",
       "<style scoped>\n",
       "    .dataframe tbody tr th:only-of-type {\n",
       "        vertical-align: middle;\n",
       "    }\n",
       "\n",
       "    .dataframe tbody tr th {\n",
       "        vertical-align: top;\n",
       "    }\n",
       "\n",
       "    .dataframe thead th {\n",
       "        text-align: right;\n",
       "    }\n",
       "</style>\n",
       "<table border=\"1\" class=\"dataframe\">\n",
       "  <thead>\n",
       "    <tr style=\"text-align: right;\">\n",
       "      <th></th>\n",
       "      <th>category</th>\n",
       "      <th>coefficients_x_mean</th>\n",
       "      <th>coefficients_y_mean</th>\n",
       "      <th>disp_score_mean</th>\n",
       "    </tr>\n",
       "  </thead>\n",
       "  <tbody>\n",
       "    <tr>\n",
       "      <th>0</th>\n",
       "      <td>Procesal (economia del procedimiento)</td>\n",
       "      <td>0.070433</td>\n",
       "      <td>0.055816</td>\n",
       "      <td>0.014616</td>\n",
       "    </tr>\n",
       "    <tr>\n",
       "      <th>1</th>\n",
       "      <td>Legal principles (general)</td>\n",
       "      <td>0.032750</td>\n",
       "      <td>0.040834</td>\n",
       "      <td>-0.008085</td>\n",
       "    </tr>\n",
       "    <tr>\n",
       "      <th>2</th>\n",
       "      <td>Economical aspects</td>\n",
       "      <td>0.037553</td>\n",
       "      <td>0.033395</td>\n",
       "      <td>0.004158</td>\n",
       "    </tr>\n",
       "    <tr>\n",
       "      <th>3</th>\n",
       "      <td>Subjectivity (children)</td>\n",
       "      <td>0.021531</td>\n",
       "      <td>0.019335</td>\n",
       "      <td>0.002196</td>\n",
       "    </tr>\n",
       "    <tr>\n",
       "      <th>4</th>\n",
       "      <td>Personal circumstances (parents, children)</td>\n",
       "      <td>0.038853</td>\n",
       "      <td>0.036996</td>\n",
       "      <td>0.001857</td>\n",
       "    </tr>\n",
       "    <tr>\n",
       "      <th>5</th>\n",
       "      <td>Personal circumstances (children)</td>\n",
       "      <td>0.002138</td>\n",
       "      <td>0.003950</td>\n",
       "      <td>-0.001812</td>\n",
       "    </tr>\n",
       "    <tr>\n",
       "      <th>6</th>\n",
       "      <td>Subjectivity (parents)</td>\n",
       "      <td>0.017688</td>\n",
       "      <td>0.016524</td>\n",
       "      <td>0.001164</td>\n",
       "    </tr>\n",
       "  </tbody>\n",
       "</table>\n",
       "</div>"
      ],
      "text/plain": [
       "                                     category  coefficients_x_mean  \\\n",
       "0       Procesal (economia del procedimiento)             0.070433   \n",
       "1                  Legal principles (general)             0.032750   \n",
       "2                          Economical aspects             0.037553   \n",
       "3                     Subjectivity (children)             0.021531   \n",
       "4  Personal circumstances (parents, children)             0.038853   \n",
       "5           Personal circumstances (children)             0.002138   \n",
       "6                      Subjectivity (parents)             0.017688   \n",
       "\n",
       "   coefficients_y_mean  disp_score_mean  \n",
       "0             0.055816         0.014616  \n",
       "1             0.040834        -0.008085  \n",
       "2             0.033395         0.004158  \n",
       "3             0.019335         0.002196  \n",
       "4             0.036996         0.001857  \n",
       "5             0.003950        -0.001812  \n",
       "6             0.016524         0.001164  "
      ]
     },
     "execution_count": 39,
     "metadata": {},
     "output_type": "execute_result"
    }
   ],
   "source": [
    "df_disp_score_by_category_plain = disparity_score_by_category.create_categories_score_df(df_disp_score_plain, file_name=r\"..\\..\\data\\feature_category.csv\")\n",
    "df_disp_score_by_category_plain"
   ]
  },
  {
   "cell_type": "markdown",
   "metadata": {},
   "source": [
    "### Plaintiff gender disparities - sole custody"
   ]
  },
  {
   "cell_type": "code",
   "execution_count": 40,
   "metadata": {},
   "outputs": [],
   "source": [
    "df_female_plaintiff_sole, df_male_plaintiff_sole = base_rates.df_by_group(df_request_sole, \"PLAIN_ML\")"
   ]
  },
  {
   "cell_type": "code",
   "execution_count": 41,
   "metadata": {},
   "outputs": [
    {
     "name": "stdout",
     "output_type": "stream",
     "text": [
      "Balanced accuracy mean: 0.8894506818848924\n"
     ]
    },
    {
     "data": {
      "image/png": "[encoded data removed]",
      "text/plain": [
       "<Figure size 640x480 with 2 Axes>"
      ]
     },
     "metadata": {},
     "output_type": "display_data"
    }
   ],
   "source": [
    "feature_importances_plain_female_sole = classifiers.rf_classifier(df_female_plaintiff_sole, \"WINWIN\", hide_cols)"
   ]
  },
  {
   "cell_type": "code",
   "execution_count": 42,
   "metadata": {},
   "outputs": [
    {
     "name": "stdout",
     "output_type": "stream",
     "text": [
      "Balanced accuracy mean: 0.8288095238095238\n"
     ]
    },
    {
     "data": {
      "image/png": "[encoded data removed]",
      "text/plain": [
       "<Figure size 640x480 with 2 Axes>"
      ]
     },
     "metadata": {},
     "output_type": "display_data"
    }
   ],
   "source": [
    "feature_importances_plain_male_sole = classifiers.rf_classifier(df_male_plaintiff_sole, \"WINWIN\", hide_cols)"
   ]
  },
  {
   "cell_type": "code",
   "execution_count": 43,
   "metadata": {},
   "outputs": [
    {
     "data": {
      "text/html": [
       "<div>\n",
       "<style scoped>\n",
       "    .dataframe tbody tr th:only-of-type {\n",
       "        vertical-align: middle;\n",
       "    }\n",
       "\n",
       "    .dataframe tbody tr th {\n",
       "        vertical-align: top;\n",
       "    }\n",
       "\n",
       "    .dataframe thead th {\n",
       "        text-align: right;\n",
       "    }\n",
       "</style>\n",
       "<table border=\"1\" class=\"dataframe\">\n",
       "  <thead>\n",
       "    <tr style=\"text-align: right;\">\n",
       "      <th></th>\n",
       "      <th>features</th>\n",
       "      <th>coefficients_x</th>\n",
       "      <th>coefficients_y</th>\n",
       "      <th>disp_score</th>\n",
       "    </tr>\n",
       "  </thead>\n",
       "  <tbody>\n",
       "    <tr>\n",
       "      <th>0</th>\n",
       "      <td>LP_BI_b</td>\n",
       "      <td>0.121971</td>\n",
       "      <td>0.068586</td>\n",
       "      <td>0.053386</td>\n",
       "    </tr>\n",
       "    <tr>\n",
       "      <th>1</th>\n",
       "      <td>LP_BI</td>\n",
       "      <td>0.142503</td>\n",
       "      <td>0.095299</td>\n",
       "      <td>0.047203</td>\n",
       "    </tr>\n",
       "    <tr>\n",
       "      <th>3</th>\n",
       "      <td>FT_RD</td>\n",
       "      <td>0.079708</td>\n",
       "      <td>0.053252</td>\n",
       "      <td>0.026456</td>\n",
       "    </tr>\n",
       "  </tbody>\n",
       "</table>\n",
       "</div>"
      ],
      "text/plain": [
       "  features  coefficients_x  coefficients_y  disp_score\n",
       "0  LP_BI_b        0.121971        0.068586    0.053386\n",
       "1    LP_BI        0.142503        0.095299    0.047203\n",
       "3    FT_RD        0.079708        0.053252    0.026456"
      ]
     },
     "execution_count": 43,
     "metadata": {},
     "output_type": "execute_result"
    }
   ],
   "source": [
    "df_disp_score_plain_sole = disparity_score.disp_score_feature_importance(feature_importances_plain_female_sole, feature_importances_plain_male_sole)\n",
    "df_disp_score_plain_sole_above_thres = disparity_score.disp_score_feature_importance_show_above_threshold(df_disp_score_plain_sole)\n",
    "df_disp_score_plain_sole_above_thres"
   ]
  },
  {
   "cell_type": "code",
   "execution_count": 44,
   "metadata": {},
   "outputs": [
    {
     "data": {
      "text/html": [
       "<div>\n",
       "<style scoped>\n",
       "    .dataframe tbody tr th:only-of-type {\n",
       "        vertical-align: middle;\n",
       "    }\n",
       "\n",
       "    .dataframe tbody tr th {\n",
       "        vertical-align: top;\n",
       "    }\n",
       "\n",
       "    .dataframe thead th {\n",
       "        text-align: right;\n",
       "    }\n",
       "</style>\n",
       "<table border=\"1\" class=\"dataframe\">\n",
       "  <thead>\n",
       "    <tr style=\"text-align: right;\">\n",
       "      <th></th>\n",
       "      <th>category</th>\n",
       "      <th>coefficients_x_mean</th>\n",
       "      <th>coefficients_y_mean</th>\n",
       "      <th>disp_score_mean</th>\n",
       "    </tr>\n",
       "  </thead>\n",
       "  <tbody>\n",
       "    <tr>\n",
       "      <th>0</th>\n",
       "      <td>Legal principles (general)</td>\n",
       "      <td>0.066705</td>\n",
       "      <td>0.042980</td>\n",
       "      <td>0.023725</td>\n",
       "    </tr>\n",
       "    <tr>\n",
       "      <th>1</th>\n",
       "      <td>Economical aspects</td>\n",
       "      <td>0.018804</td>\n",
       "      <td>0.036754</td>\n",
       "      <td>-0.017950</td>\n",
       "    </tr>\n",
       "    <tr>\n",
       "      <th>2</th>\n",
       "      <td>Procesal (economia del procedimiento)</td>\n",
       "      <td>0.031254</td>\n",
       "      <td>0.023572</td>\n",
       "      <td>0.007682</td>\n",
       "    </tr>\n",
       "    <tr>\n",
       "      <th>3</th>\n",
       "      <td>Personal circumstances (parents, children)</td>\n",
       "      <td>0.032847</td>\n",
       "      <td>0.039432</td>\n",
       "      <td>-0.006585</td>\n",
       "    </tr>\n",
       "    <tr>\n",
       "      <th>4</th>\n",
       "      <td>Personal circumstances (children)</td>\n",
       "      <td>0.016314</td>\n",
       "      <td>0.011579</td>\n",
       "      <td>0.004734</td>\n",
       "    </tr>\n",
       "    <tr>\n",
       "      <th>5</th>\n",
       "      <td>Subjectivity (children)</td>\n",
       "      <td>0.121269</td>\n",
       "      <td>0.121733</td>\n",
       "      <td>-0.000463</td>\n",
       "    </tr>\n",
       "    <tr>\n",
       "      <th>6</th>\n",
       "      <td>Subjectivity (parents)</td>\n",
       "      <td>0.001780</td>\n",
       "      <td>0.002235</td>\n",
       "      <td>-0.000455</td>\n",
       "    </tr>\n",
       "  </tbody>\n",
       "</table>\n",
       "</div>"
      ],
      "text/plain": [
       "                                     category  coefficients_x_mean  \\\n",
       "0                  Legal principles (general)             0.066705   \n",
       "1                          Economical aspects             0.018804   \n",
       "2       Procesal (economia del procedimiento)             0.031254   \n",
       "3  Personal circumstances (parents, children)             0.032847   \n",
       "4           Personal circumstances (children)             0.016314   \n",
       "5                     Subjectivity (children)             0.121269   \n",
       "6                      Subjectivity (parents)             0.001780   \n",
       "\n",
       "   coefficients_y_mean  disp_score_mean  \n",
       "0             0.042980         0.023725  \n",
       "1             0.036754        -0.017950  \n",
       "2             0.023572         0.007682  \n",
       "3             0.039432        -0.006585  \n",
       "4             0.011579         0.004734  \n",
       "5             0.121733        -0.000463  \n",
       "6             0.002235        -0.000455  "
      ]
     },
     "execution_count": 44,
     "metadata": {},
     "output_type": "execute_result"
    }
   ],
   "source": [
    "df_disp_score_by_category_plain_sole = disparity_score_by_category.create_categories_score_df(df_disp_score_plain_sole, file_name=r\"..\\..\\data\\feature_category.csv\")\n",
    "df_disp_score_by_category_plain_sole"
   ]
  },
  {
   "cell_type": "markdown",
   "metadata": {},
   "source": [
    "### Plaintiff gender disparities - joint custody"
   ]
  },
  {
   "cell_type": "code",
   "execution_count": 45,
   "metadata": {},
   "outputs": [],
   "source": [
    "df_female_plaintiff_joint, df_male_plaintiff_joint = base_rates.df_by_group(df_request_joint, \"PLAIN_ML\")"
   ]
  },
  {
   "cell_type": "code",
   "execution_count": 46,
   "metadata": {},
   "outputs": [
    {
     "name": "stdout",
     "output_type": "stream",
     "text": [
      "Balanced accuracy mean: 0.8691176470588236\n"
     ]
    },
    {
     "data": {
      "image/png": "[encoded data removed]",
      "text/plain": [
       "<Figure size 640x480 with 2 Axes>"
      ]
     },
     "metadata": {},
     "output_type": "display_data"
    }
   ],
   "source": [
    "feature_importances_plain_female_joint = classifiers.rf_classifier(df_female_plaintiff_joint, \"WINWIN\", hide_cols)"
   ]
  },
  {
   "cell_type": "code",
   "execution_count": 47,
   "metadata": {},
   "outputs": [
    {
     "name": "stdout",
     "output_type": "stream",
     "text": [
      "Balanced accuracy mean: 0.9331917577796467\n"
     ]
    },
    {
     "data": {
      "image/png": "[encoded data removed]",
      "text/plain": [
       "<Figure size 640x480 with 2 Axes>"
      ]
     },
     "metadata": {},
     "output_type": "display_data"
    }
   ],
   "source": [
    "feature_importances_plain_male_joint = classifiers.rf_classifier(df_male_plaintiff_joint, \"WINWIN\", hide_cols)"
   ]
  },
  {
   "cell_type": "code",
   "execution_count": 48,
   "metadata": {},
   "outputs": [
    {
     "data": {
      "text/html": [
       "<div>\n",
       "<style scoped>\n",
       "    .dataframe tbody tr th:only-of-type {\n",
       "        vertical-align: middle;\n",
       "    }\n",
       "\n",
       "    .dataframe tbody tr th {\n",
       "        vertical-align: top;\n",
       "    }\n",
       "\n",
       "    .dataframe thead th {\n",
       "        text-align: right;\n",
       "    }\n",
       "</style>\n",
       "<table border=\"1\" class=\"dataframe\">\n",
       "  <thead>\n",
       "    <tr style=\"text-align: right;\">\n",
       "      <th></th>\n",
       "      <th>features</th>\n",
       "      <th>coefficients_x</th>\n",
       "      <th>coefficients_y</th>\n",
       "      <th>disp_score</th>\n",
       "    </tr>\n",
       "  </thead>\n",
       "  <tbody>\n",
       "    <tr>\n",
       "      <th>2</th>\n",
       "      <td>FT_RA</td>\n",
       "      <td>0.191250</td>\n",
       "      <td>0.137541</td>\n",
       "      <td>0.053709</td>\n",
       "    </tr>\n",
       "    <tr>\n",
       "      <th>3</th>\n",
       "      <td>FT_CR</td>\n",
       "      <td>0.048126</td>\n",
       "      <td>0.018698</td>\n",
       "      <td>0.029428</td>\n",
       "    </tr>\n",
       "    <tr>\n",
       "      <th>4</th>\n",
       "      <td>FT_CR_b</td>\n",
       "      <td>0.041132</td>\n",
       "      <td>0.013538</td>\n",
       "      <td>0.027594</td>\n",
       "    </tr>\n",
       "    <tr>\n",
       "      <th>5</th>\n",
       "      <td>LP_PE_b</td>\n",
       "      <td>0.021282</td>\n",
       "      <td>0.002165</td>\n",
       "      <td>0.019118</td>\n",
       "    </tr>\n",
       "    <tr>\n",
       "      <th>6</th>\n",
       "      <td>LP_PE</td>\n",
       "      <td>0.020621</td>\n",
       "      <td>0.002697</td>\n",
       "      <td>0.017924</td>\n",
       "    </tr>\n",
       "    <tr>\n",
       "      <th>7</th>\n",
       "      <td>FT_RD</td>\n",
       "      <td>0.072494</td>\n",
       "      <td>0.058289</td>\n",
       "      <td>0.014204</td>\n",
       "    </tr>\n",
       "    <tr>\n",
       "      <th>10</th>\n",
       "      <td>LP_RA_b</td>\n",
       "      <td>0.015426</td>\n",
       "      <td>0.004160</td>\n",
       "      <td>0.011266</td>\n",
       "    </tr>\n",
       "  </tbody>\n",
       "</table>\n",
       "</div>"
      ],
      "text/plain": [
       "   features  coefficients_x  coefficients_y  disp_score\n",
       "2     FT_RA        0.191250        0.137541    0.053709\n",
       "3     FT_CR        0.048126        0.018698    0.029428\n",
       "4   FT_CR_b        0.041132        0.013538    0.027594\n",
       "5   LP_PE_b        0.021282        0.002165    0.019118\n",
       "6     LP_PE        0.020621        0.002697    0.017924\n",
       "7     FT_RD        0.072494        0.058289    0.014204\n",
       "10  LP_RA_b        0.015426        0.004160    0.011266"
      ]
     },
     "execution_count": 48,
     "metadata": {},
     "output_type": "execute_result"
    }
   ],
   "source": [
    "df_disp_score_plain_joint = disparity_score.disp_score_feature_importance(feature_importances_plain_female_joint, feature_importances_plain_male_joint)\n",
    "df_disp_score_plain_joint_above_thres = disparity_score.disp_score_feature_importance_show_above_threshold(df_disp_score_plain_joint)\n",
    "df_disp_score_plain_joint_above_thres"
   ]
  },
  {
   "cell_type": "code",
   "execution_count": 50,
   "metadata": {},
   "outputs": [
    {
     "data": {
      "text/html": [
       "<div>\n",
       "<style scoped>\n",
       "    .dataframe tbody tr th:only-of-type {\n",
       "        vertical-align: middle;\n",
       "    }\n",
       "\n",
       "    .dataframe tbody tr th {\n",
       "        vertical-align: top;\n",
       "    }\n",
       "\n",
       "    .dataframe thead th {\n",
       "        text-align: right;\n",
       "    }\n",
       "</style>\n",
       "<table border=\"1\" class=\"dataframe\">\n",
       "  <thead>\n",
       "    <tr style=\"text-align: right;\">\n",
       "      <th></th>\n",
       "      <th>category</th>\n",
       "      <th>coefficients_x_mean</th>\n",
       "      <th>coefficients_y_mean</th>\n",
       "      <th>disp_score_mean</th>\n",
       "    </tr>\n",
       "  </thead>\n",
       "  <tbody>\n",
       "    <tr>\n",
       "      <th>0</th>\n",
       "      <td>Legal principles (general)</td>\n",
       "      <td>0.044425</td>\n",
       "      <td>0.105100</td>\n",
       "      <td>-0.060675</td>\n",
       "    </tr>\n",
       "    <tr>\n",
       "      <th>1</th>\n",
       "      <td>Procesal (economia del procedimiento)</td>\n",
       "      <td>0.033738</td>\n",
       "      <td>0.017475</td>\n",
       "      <td>0.016263</td>\n",
       "    </tr>\n",
       "    <tr>\n",
       "      <th>2</th>\n",
       "      <td>Subjectivity (children)</td>\n",
       "      <td>0.035878</td>\n",
       "      <td>0.025813</td>\n",
       "      <td>0.010065</td>\n",
       "    </tr>\n",
       "    <tr>\n",
       "      <th>3</th>\n",
       "      <td>Economical aspects</td>\n",
       "      <td>0.046315</td>\n",
       "      <td>0.040893</td>\n",
       "      <td>0.005423</td>\n",
       "    </tr>\n",
       "    <tr>\n",
       "      <th>4</th>\n",
       "      <td>Subjectivity (parents)</td>\n",
       "      <td>0.000438</td>\n",
       "      <td>0.003401</td>\n",
       "      <td>-0.002963</td>\n",
       "    </tr>\n",
       "    <tr>\n",
       "      <th>5</th>\n",
       "      <td>Personal circumstances (parents, children)</td>\n",
       "      <td>0.080374</td>\n",
       "      <td>0.077475</td>\n",
       "      <td>0.002899</td>\n",
       "    </tr>\n",
       "    <tr>\n",
       "      <th>6</th>\n",
       "      <td>Personal circumstances (children)</td>\n",
       "      <td>0.013160</td>\n",
       "      <td>0.014069</td>\n",
       "      <td>-0.000909</td>\n",
       "    </tr>\n",
       "  </tbody>\n",
       "</table>\n",
       "</div>"
      ],
      "text/plain": [
       "                                     category  coefficients_x_mean  \\\n",
       "0                  Legal principles (general)             0.044425   \n",
       "1       Procesal (economia del procedimiento)             0.033738   \n",
       "2                     Subjectivity (children)             0.035878   \n",
       "3                          Economical aspects             0.046315   \n",
       "4                      Subjectivity (parents)             0.000438   \n",
       "5  Personal circumstances (parents, children)             0.080374   \n",
       "6           Personal circumstances (children)             0.013160   \n",
       "\n",
       "   coefficients_y_mean  disp_score_mean  \n",
       "0             0.105100        -0.060675  \n",
       "1             0.017475         0.016263  \n",
       "2             0.025813         0.010065  \n",
       "3             0.040893         0.005423  \n",
       "4             0.003401        -0.002963  \n",
       "5             0.077475         0.002899  \n",
       "6             0.014069        -0.000909  "
      ]
     },
     "execution_count": 50,
     "metadata": {},
     "output_type": "execute_result"
    }
   ],
   "source": [
    "df_disp_score_by_category_plain_joint = disparity_score_by_category.create_categories_score_df(df_disp_score_plain_joint, file_name=r\"..\\..\\data\\feature_category.csv\")\n",
    "df_disp_score_by_category_plain_joint"
   ]
  },
  {
   "cell_type": "markdown",
   "metadata": {},
   "source": [
    "## Judge gender disparities"
   ]
  },
  {
   "cell_type": "code",
   "execution_count": 51,
   "metadata": {},
   "outputs": [],
   "source": [
    "df_female_judge, df_male_judge = base_rates.df_by_group(df, \"JUDGE_ML\")"
   ]
  },
  {
   "cell_type": "code",
   "execution_count": 52,
   "metadata": {},
   "outputs": [
    {
     "name": "stdout",
     "output_type": "stream",
     "text": [
      "Balanced accuracy mean: 0.8813693471981988\n"
     ]
    },
    {
     "data": {
      "image/png": "[encoded data removed]",
      "text/plain": [
       "<Figure size 640x480 with 2 Axes>"
      ]
     },
     "metadata": {},
     "output_type": "display_data"
    }
   ],
   "source": [
    "feature_importances_judge_female = classifiers.rf_classifier(df_female_judge, \"WINWIN\", hide_cols)"
   ]
  },
  {
   "cell_type": "code",
   "execution_count": 53,
   "metadata": {},
   "outputs": [
    {
     "name": "stdout",
     "output_type": "stream",
     "text": [
      "Balanced accuracy mean: 0.8304996982212005\n"
     ]
    },
    {
     "data": {
      "image/png": "[encoded data removed]",
      "text/plain": [
       "<Figure size 640x480 with 2 Axes>"
      ]
     },
     "metadata": {},
     "output_type": "display_data"
    }
   ],
   "source": [
    "feature_importances_judge_male = classifiers.rf_classifier(df_male_judge, \"WINWIN\", hide_cols)"
   ]
  },
  {
   "cell_type": "code",
   "execution_count": 54,
   "metadata": {},
   "outputs": [
    {
     "data": {
      "text/html": [
       "<div>\n",
       "<style scoped>\n",
       "    .dataframe tbody tr th:only-of-type {\n",
       "        vertical-align: middle;\n",
       "    }\n",
       "\n",
       "    .dataframe tbody tr th {\n",
       "        vertical-align: top;\n",
       "    }\n",
       "\n",
       "    .dataframe thead th {\n",
       "        text-align: right;\n",
       "    }\n",
       "</style>\n",
       "<table border=\"1\" class=\"dataframe\">\n",
       "  <thead>\n",
       "    <tr style=\"text-align: right;\">\n",
       "      <th></th>\n",
       "      <th>features</th>\n",
       "      <th>coefficients_x</th>\n",
       "      <th>coefficients_y</th>\n",
       "      <th>disp_score</th>\n",
       "    </tr>\n",
       "  </thead>\n",
       "  <tbody>\n",
       "    <tr>\n",
       "      <th>0</th>\n",
       "      <td>FT_CC</td>\n",
       "      <td>0.070523</td>\n",
       "      <td>0.056329</td>\n",
       "      <td>0.014194</td>\n",
       "    </tr>\n",
       "    <tr>\n",
       "      <th>3</th>\n",
       "      <td>RQ_MP_AT</td>\n",
       "      <td>0.035786</td>\n",
       "      <td>0.027196</td>\n",
       "      <td>0.008590</td>\n",
       "    </tr>\n",
       "    <tr>\n",
       "      <th>4</th>\n",
       "      <td>FT_PD</td>\n",
       "      <td>0.030807</td>\n",
       "      <td>0.022528</td>\n",
       "      <td>0.008279</td>\n",
       "    </tr>\n",
       "    <tr>\n",
       "      <th>6</th>\n",
       "      <td>FT_CR</td>\n",
       "      <td>0.029718</td>\n",
       "      <td>0.022237</td>\n",
       "      <td>0.007480</td>\n",
       "    </tr>\n",
       "    <tr>\n",
       "      <th>8</th>\n",
       "      <td>FT_AG</td>\n",
       "      <td>0.014673</td>\n",
       "      <td>0.007594</td>\n",
       "      <td>0.007079</td>\n",
       "    </tr>\n",
       "    <tr>\n",
       "      <th>9</th>\n",
       "      <td>FT_PD_b</td>\n",
       "      <td>0.020530</td>\n",
       "      <td>0.014494</td>\n",
       "      <td>0.006036</td>\n",
       "    </tr>\n",
       "    <tr>\n",
       "      <th>10</th>\n",
       "      <td>FT_CC_b</td>\n",
       "      <td>0.049987</td>\n",
       "      <td>0.044205</td>\n",
       "      <td>0.005781</td>\n",
       "    </tr>\n",
       "    <tr>\n",
       "      <th>11</th>\n",
       "      <td>FT_AG_b</td>\n",
       "      <td>0.012127</td>\n",
       "      <td>0.006793</td>\n",
       "      <td>0.005333</td>\n",
       "    </tr>\n",
       "  </tbody>\n",
       "</table>\n",
       "</div>"
      ],
      "text/plain": [
       "    features  coefficients_x  coefficients_y  disp_score\n",
       "0      FT_CC        0.070523        0.056329    0.014194\n",
       "3   RQ_MP_AT        0.035786        0.027196    0.008590\n",
       "4      FT_PD        0.030807        0.022528    0.008279\n",
       "6      FT_CR        0.029718        0.022237    0.007480\n",
       "8      FT_AG        0.014673        0.007594    0.007079\n",
       "9    FT_PD_b        0.020530        0.014494    0.006036\n",
       "10   FT_CC_b        0.049987        0.044205    0.005781\n",
       "11   FT_AG_b        0.012127        0.006793    0.005333"
      ]
     },
     "execution_count": 54,
     "metadata": {},
     "output_type": "execute_result"
    }
   ],
   "source": [
    "df_disp_score_judge = disparity_score.disp_score_feature_importance(feature_importances_judge_female, feature_importances_judge_male)\n",
    "df_disp_score_judge_above_thres = disparity_score.disp_score_feature_importance_show_above_threshold(df_disp_score_judge, threshold = 0.005)\n",
    "df_disp_score_judge_above_thres"
   ]
  },
  {
   "cell_type": "code",
   "execution_count": 56,
   "metadata": {},
   "outputs": [
    {
     "data": {
      "text/html": [
       "<div>\n",
       "<style scoped>\n",
       "    .dataframe tbody tr th:only-of-type {\n",
       "        vertical-align: middle;\n",
       "    }\n",
       "\n",
       "    .dataframe tbody tr th {\n",
       "        vertical-align: top;\n",
       "    }\n",
       "\n",
       "    .dataframe thead th {\n",
       "        text-align: right;\n",
       "    }\n",
       "</style>\n",
       "<table border=\"1\" class=\"dataframe\">\n",
       "  <thead>\n",
       "    <tr style=\"text-align: right;\">\n",
       "      <th></th>\n",
       "      <th>category</th>\n",
       "      <th>coefficients_x_mean</th>\n",
       "      <th>coefficients_y_mean</th>\n",
       "      <th>disp_score_mean</th>\n",
       "    </tr>\n",
       "  </thead>\n",
       "  <tbody>\n",
       "    <tr>\n",
       "      <th>0</th>\n",
       "      <td>Legal principles (general)</td>\n",
       "      <td>0.060255</td>\n",
       "      <td>0.050267</td>\n",
       "      <td>0.009988</td>\n",
       "    </tr>\n",
       "    <tr>\n",
       "      <th>1</th>\n",
       "      <td>Procesal (economia del procedimiento)</td>\n",
       "      <td>0.029347</td>\n",
       "      <td>0.032496</td>\n",
       "      <td>-0.003149</td>\n",
       "    </tr>\n",
       "    <tr>\n",
       "      <th>2</th>\n",
       "      <td>Economical aspects</td>\n",
       "      <td>0.032289</td>\n",
       "      <td>0.030145</td>\n",
       "      <td>0.002145</td>\n",
       "    </tr>\n",
       "    <tr>\n",
       "      <th>3</th>\n",
       "      <td>Subjectivity (parents)</td>\n",
       "      <td>0.003074</td>\n",
       "      <td>0.004970</td>\n",
       "      <td>-0.001895</td>\n",
       "    </tr>\n",
       "    <tr>\n",
       "      <th>4</th>\n",
       "      <td>Personal circumstances (children)</td>\n",
       "      <td>0.032590</td>\n",
       "      <td>0.034385</td>\n",
       "      <td>-0.001795</td>\n",
       "    </tr>\n",
       "    <tr>\n",
       "      <th>5</th>\n",
       "      <td>Personal circumstances (parents, children)</td>\n",
       "      <td>0.023263</td>\n",
       "      <td>0.021634</td>\n",
       "      <td>0.001629</td>\n",
       "    </tr>\n",
       "    <tr>\n",
       "      <th>6</th>\n",
       "      <td>Subjectivity (children)</td>\n",
       "      <td>0.018551</td>\n",
       "      <td>0.018576</td>\n",
       "      <td>-0.000025</td>\n",
       "    </tr>\n",
       "  </tbody>\n",
       "</table>\n",
       "</div>"
      ],
      "text/plain": [
       "                                     category  coefficients_x_mean  \\\n",
       "0                  Legal principles (general)             0.060255   \n",
       "1       Procesal (economia del procedimiento)             0.029347   \n",
       "2                          Economical aspects             0.032289   \n",
       "3                      Subjectivity (parents)             0.003074   \n",
       "4           Personal circumstances (children)             0.032590   \n",
       "5  Personal circumstances (parents, children)             0.023263   \n",
       "6                     Subjectivity (children)             0.018551   \n",
       "\n",
       "   coefficients_y_mean  disp_score_mean  \n",
       "0             0.050267         0.009988  \n",
       "1             0.032496        -0.003149  \n",
       "2             0.030145         0.002145  \n",
       "3             0.004970        -0.001895  \n",
       "4             0.034385        -0.001795  \n",
       "5             0.021634         0.001629  \n",
       "6             0.018576        -0.000025  "
      ]
     },
     "execution_count": 56,
     "metadata": {},
     "output_type": "execute_result"
    }
   ],
   "source": [
    "df_disp_score_by_category_judge = disparity_score_by_category.create_categories_score_df(df_disp_score_judge, file_name=r\"..\\..\\data\\feature_category.csv\")\n",
    "df_disp_score_by_category_judge"
   ]
  },
  {
   "attachments": {},
   "cell_type": "markdown",
   "metadata": {},
   "source": [
    "### Judge gender disparities - sole custody"
   ]
  },
  {
   "cell_type": "code",
   "execution_count": 9,
   "metadata": {},
   "outputs": [],
   "source": [
    "df_female_judge_sole, df_male_judge_sole = base_rates.df_by_group(df_request_sole, \"JUDGE_ML\")"
   ]
  },
  {
   "cell_type": "code",
   "execution_count": 10,
   "metadata": {},
   "outputs": [
    {
     "name": "stdout",
     "output_type": "stream",
     "text": [
      "Balanced accuracy mean: 0.9258686411627588\n"
     ]
    },
    {
     "data": {
      "image/png": "[encoded data removed]",
      "text/plain": [
       "<Figure size 640x480 with 2 Axes>"
      ]
     },
     "metadata": {},
     "output_type": "display_data"
    }
   ],
   "source": [
    "feature_importances_judge_female_sole = classifiers.rf_classifier(df_female_judge_sole, \"WINWIN\", hide_cols)"
   ]
  },
  {
   "cell_type": "code",
   "execution_count": 11,
   "metadata": {},
   "outputs": [
    {
     "name": "stdout",
     "output_type": "stream",
     "text": [
      "Balanced accuracy mean: 0.8477378542510122\n"
     ]
    },
    {
     "data": {
      "image/png": "[encoded data removed]",
      "text/plain": [
       "<Figure size 640x480 with 2 Axes>"
      ]
     },
     "metadata": {},
     "output_type": "display_data"
    }
   ],
   "source": [
    "feature_importances_judge_male_sole = classifiers.rf_classifier(df_male_judge_sole, \"WINWIN\", hide_cols)"
   ]
  },
  {
   "cell_type": "code",
   "execution_count": 12,
   "metadata": {},
   "outputs": [
    {
     "data": {
      "text/html": [
       "<div>\n",
       "<style scoped>\n",
       "    .dataframe tbody tr th:only-of-type {\n",
       "        vertical-align: middle;\n",
       "    }\n",
       "\n",
       "    .dataframe tbody tr th {\n",
       "        vertical-align: top;\n",
       "    }\n",
       "\n",
       "    .dataframe thead th {\n",
       "        text-align: right;\n",
       "    }\n",
       "</style>\n",
       "<table border=\"1\" class=\"dataframe\">\n",
       "  <thead>\n",
       "    <tr style=\"text-align: right;\">\n",
       "      <th></th>\n",
       "      <th>features</th>\n",
       "      <th>coefficients_x</th>\n",
       "      <th>coefficients_y</th>\n",
       "      <th>disp_score</th>\n",
       "    </tr>\n",
       "  </thead>\n",
       "  <tbody>\n",
       "    <tr>\n",
       "      <th>1</th>\n",
       "      <td>FT_CC</td>\n",
       "      <td>0.147616</td>\n",
       "      <td>0.110802</td>\n",
       "      <td>0.036814</td>\n",
       "    </tr>\n",
       "    <tr>\n",
       "      <th>4</th>\n",
       "      <td>FT_CC_b</td>\n",
       "      <td>0.125038</td>\n",
       "      <td>0.106858</td>\n",
       "      <td>0.018180</td>\n",
       "    </tr>\n",
       "    <tr>\n",
       "      <th>5</th>\n",
       "      <td>LP_BI_b</td>\n",
       "      <td>0.115485</td>\n",
       "      <td>0.099582</td>\n",
       "      <td>0.015903</td>\n",
       "    </tr>\n",
       "  </tbody>\n",
       "</table>\n",
       "</div>"
      ],
      "text/plain": [
       "  features  coefficients_x  coefficients_y  disp_score\n",
       "1    FT_CC        0.147616        0.110802    0.036814\n",
       "4  FT_CC_b        0.125038        0.106858    0.018180\n",
       "5  LP_BI_b        0.115485        0.099582    0.015903"
      ]
     },
     "execution_count": 12,
     "metadata": {},
     "output_type": "execute_result"
    }
   ],
   "source": [
    "df_disp_score_judge_sole = disparity_score.disp_score_feature_importance(feature_importances_judge_female_sole, feature_importances_judge_male_sole)\n",
    "df_disp_score_judge_sole_above_thres = disparity_score.disp_score_feature_importance_show_above_threshold(df_disp_score_judge_sole)\n",
    "df_disp_score_judge_sole_above_thres"
   ]
  },
  {
   "cell_type": "code",
   "execution_count": 13,
   "metadata": {},
   "outputs": [
    {
     "data": {
      "text/html": [
       "<div>\n",
       "<style scoped>\n",
       "    .dataframe tbody tr th:only-of-type {\n",
       "        vertical-align: middle;\n",
       "    }\n",
       "\n",
       "    .dataframe tbody tr th {\n",
       "        vertical-align: top;\n",
       "    }\n",
       "\n",
       "    .dataframe thead th {\n",
       "        text-align: right;\n",
       "    }\n",
       "</style>\n",
       "<table border=\"1\" class=\"dataframe\">\n",
       "  <thead>\n",
       "    <tr style=\"text-align: right;\">\n",
       "      <th></th>\n",
       "      <th>category</th>\n",
       "      <th>coefficients_x_mean</th>\n",
       "      <th>coefficients_y_mean</th>\n",
       "      <th>disp_score_mean</th>\n",
       "    </tr>\n",
       "  </thead>\n",
       "  <tbody>\n",
       "    <tr>\n",
       "      <th>0</th>\n",
       "      <td>Economical aspects</td>\n",
       "      <td>0.136327</td>\n",
       "      <td>0.108830</td>\n",
       "      <td>0.027497</td>\n",
       "    </tr>\n",
       "    <tr>\n",
       "      <th>1</th>\n",
       "      <td>Legal principles (general)</td>\n",
       "      <td>0.023774</td>\n",
       "      <td>0.037263</td>\n",
       "      <td>-0.013489</td>\n",
       "    </tr>\n",
       "    <tr>\n",
       "      <th>2</th>\n",
       "      <td>Personal circumstances (parents, children)</td>\n",
       "      <td>0.064205</td>\n",
       "      <td>0.058356</td>\n",
       "      <td>0.005849</td>\n",
       "    </tr>\n",
       "    <tr>\n",
       "      <th>3</th>\n",
       "      <td>Personal circumstances (children)</td>\n",
       "      <td>0.017390</td>\n",
       "      <td>0.013189</td>\n",
       "      <td>0.004201</td>\n",
       "    </tr>\n",
       "    <tr>\n",
       "      <th>4</th>\n",
       "      <td>Subjectivity (parents)</td>\n",
       "      <td>0.001012</td>\n",
       "      <td>0.003715</td>\n",
       "      <td>-0.002703</td>\n",
       "    </tr>\n",
       "    <tr>\n",
       "      <th>5</th>\n",
       "      <td>Subjectivity (children)</td>\n",
       "      <td>0.024207</td>\n",
       "      <td>0.022750</td>\n",
       "      <td>0.001457</td>\n",
       "    </tr>\n",
       "    <tr>\n",
       "      <th>6</th>\n",
       "      <td>Procesal (economia del procedimiento)</td>\n",
       "      <td>0.035475</td>\n",
       "      <td>0.035073</td>\n",
       "      <td>0.000401</td>\n",
       "    </tr>\n",
       "  </tbody>\n",
       "</table>\n",
       "</div>"
      ],
      "text/plain": [
       "                                     category  coefficients_x_mean  \\\n",
       "0                          Economical aspects             0.136327   \n",
       "1                  Legal principles (general)             0.023774   \n",
       "2  Personal circumstances (parents, children)             0.064205   \n",
       "3           Personal circumstances (children)             0.017390   \n",
       "4                      Subjectivity (parents)             0.001012   \n",
       "5                     Subjectivity (children)             0.024207   \n",
       "6       Procesal (economia del procedimiento)             0.035475   \n",
       "\n",
       "   coefficients_y_mean  disp_score_mean  \n",
       "0             0.108830         0.027497  \n",
       "1             0.037263        -0.013489  \n",
       "2             0.058356         0.005849  \n",
       "3             0.013189         0.004201  \n",
       "4             0.003715        -0.002703  \n",
       "5             0.022750         0.001457  \n",
       "6             0.035073         0.000401  "
      ]
     },
     "execution_count": 13,
     "metadata": {},
     "output_type": "execute_result"
    }
   ],
   "source": [
    "df_disp_score_by_category_judge_sole = disparity_score_by_category.create_categories_score_df(df_disp_score_judge_sole, file_name=r\"..\\..\\data\\feature_category.csv\")\n",
    "df_disp_score_by_category_judge_sole"
   ]
  },
  {
   "attachments": {},
   "cell_type": "markdown",
   "metadata": {},
   "source": [
    "### Judge gender disparities - joint custody"
   ]
  },
  {
   "cell_type": "code",
   "execution_count": 14,
   "metadata": {},
   "outputs": [],
   "source": [
    "df_female_judge_joint, df_male_judge_joint, = base_rates.df_by_group(df_request_joint, \"JUDGE_ML\")"
   ]
  },
  {
   "cell_type": "code",
   "execution_count": 15,
   "metadata": {},
   "outputs": [
    {
     "name": "stdout",
     "output_type": "stream",
     "text": [
      "Balanced accuracy mean: 0.9486590038314177\n"
     ]
    },
    {
     "data": {
      "image/png": "[encoded data removed]",
      "text/plain": [
       "<Figure size 640x480 with 2 Axes>"
      ]
     },
     "metadata": {},
     "output_type": "display_data"
    }
   ],
   "source": [
    "feature_importances_judge_female_joint = classifiers.rf_classifier(df_female_judge_joint, \"WINWIN\", hide_cols)"
   ]
  },
  {
   "cell_type": "code",
   "execution_count": 16,
   "metadata": {},
   "outputs": [
    {
     "name": "stdout",
     "output_type": "stream",
     "text": [
      "Balanced accuracy mean: 0.924065934065934\n"
     ]
    },
    {
     "data": {
      "image/png": "[encoded data removed]",
      "text/plain": [
       "<Figure size 640x480 with 2 Axes>"
      ]
     },
     "metadata": {},
     "output_type": "display_data"
    }
   ],
   "source": [
    "feature_importances_judge_male_joint = classifiers.rf_classifier(df_male_judge_joint, \"WINWIN\", hide_cols)"
   ]
  },
  {
   "cell_type": "code",
   "execution_count": 17,
   "metadata": {},
   "outputs": [
    {
     "data": {
      "text/html": [
       "<div>\n",
       "<style scoped>\n",
       "    .dataframe tbody tr th:only-of-type {\n",
       "        vertical-align: middle;\n",
       "    }\n",
       "\n",
       "    .dataframe tbody tr th {\n",
       "        vertical-align: top;\n",
       "    }\n",
       "\n",
       "    .dataframe thead th {\n",
       "        text-align: right;\n",
       "    }\n",
       "</style>\n",
       "<table border=\"1\" class=\"dataframe\">\n",
       "  <thead>\n",
       "    <tr style=\"text-align: right;\">\n",
       "      <th></th>\n",
       "      <th>features</th>\n",
       "      <th>coefficients_x</th>\n",
       "      <th>coefficients_y</th>\n",
       "      <th>disp_score</th>\n",
       "    </tr>\n",
       "  </thead>\n",
       "  <tbody>\n",
       "    <tr>\n",
       "      <th>0</th>\n",
       "      <td>FT_CC_b</td>\n",
       "      <td>0.126029</td>\n",
       "      <td>0.075980</td>\n",
       "      <td>0.050049</td>\n",
       "    </tr>\n",
       "    <tr>\n",
       "      <th>1</th>\n",
       "      <td>FT_CC</td>\n",
       "      <td>0.124227</td>\n",
       "      <td>0.081907</td>\n",
       "      <td>0.042320</td>\n",
       "    </tr>\n",
       "  </tbody>\n",
       "</table>\n",
       "</div>"
      ],
      "text/plain": [
       "  features  coefficients_x  coefficients_y  disp_score\n",
       "0  FT_CC_b        0.126029        0.075980    0.050049\n",
       "1    FT_CC        0.124227        0.081907    0.042320"
      ]
     },
     "execution_count": 17,
     "metadata": {},
     "output_type": "execute_result"
    }
   ],
   "source": [
    "df_disp_score_judge_joint = disparity_score.disp_score_feature_importance(feature_importances_judge_female_joint, feature_importances_judge_male_joint)\n",
    "df_disp_score_judge_joint_above_thres = disparity_score.disp_score_feature_importance_show_above_threshold(df_disp_score_judge_joint)\n",
    "df_disp_score_judge_joint_above_thres"
   ]
  },
  {
   "cell_type": "code",
   "execution_count": 18,
   "metadata": {},
   "outputs": [
    {
     "data": {
      "text/html": [
       "<div>\n",
       "<style scoped>\n",
       "    .dataframe tbody tr th:only-of-type {\n",
       "        vertical-align: middle;\n",
       "    }\n",
       "\n",
       "    .dataframe tbody tr th {\n",
       "        vertical-align: top;\n",
       "    }\n",
       "\n",
       "    .dataframe thead th {\n",
       "        text-align: right;\n",
       "    }\n",
       "</style>\n",
       "<table border=\"1\" class=\"dataframe\">\n",
       "  <thead>\n",
       "    <tr style=\"text-align: right;\">\n",
       "      <th></th>\n",
       "      <th>category</th>\n",
       "      <th>coefficients_x_mean</th>\n",
       "      <th>coefficients_y_mean</th>\n",
       "      <th>disp_score_mean</th>\n",
       "    </tr>\n",
       "  </thead>\n",
       "  <tbody>\n",
       "    <tr>\n",
       "      <th>0</th>\n",
       "      <td>Legal principles (general)</td>\n",
       "      <td>0.125128</td>\n",
       "      <td>0.078944</td>\n",
       "      <td>0.046184</td>\n",
       "    </tr>\n",
       "    <tr>\n",
       "      <th>1</th>\n",
       "      <td>Procesal (economia del procedimiento)</td>\n",
       "      <td>0.074073</td>\n",
       "      <td>0.081307</td>\n",
       "      <td>-0.007234</td>\n",
       "    </tr>\n",
       "    <tr>\n",
       "      <th>2</th>\n",
       "      <td>Personal circumstances (parents, children)</td>\n",
       "      <td>0.017077</td>\n",
       "      <td>0.021621</td>\n",
       "      <td>-0.004544</td>\n",
       "    </tr>\n",
       "    <tr>\n",
       "      <th>3</th>\n",
       "      <td>Subjectivity (children)</td>\n",
       "      <td>0.024557</td>\n",
       "      <td>0.029080</td>\n",
       "      <td>-0.004523</td>\n",
       "    </tr>\n",
       "    <tr>\n",
       "      <th>4</th>\n",
       "      <td>Personal circumstances (children)</td>\n",
       "      <td>0.001508</td>\n",
       "      <td>0.005422</td>\n",
       "      <td>-0.003913</td>\n",
       "    </tr>\n",
       "    <tr>\n",
       "      <th>5</th>\n",
       "      <td>Subjectivity (parents)</td>\n",
       "      <td>0.015252</td>\n",
       "      <td>0.012612</td>\n",
       "      <td>0.002640</td>\n",
       "    </tr>\n",
       "    <tr>\n",
       "      <th>6</th>\n",
       "      <td>Economical aspects</td>\n",
       "      <td>0.040534</td>\n",
       "      <td>0.042662</td>\n",
       "      <td>-0.002127</td>\n",
       "    </tr>\n",
       "  </tbody>\n",
       "</table>\n",
       "</div>"
      ],
      "text/plain": [
       "                                     category  coefficients_x_mean  \\\n",
       "0                  Legal principles (general)             0.125128   \n",
       "1       Procesal (economia del procedimiento)             0.074073   \n",
       "2  Personal circumstances (parents, children)             0.017077   \n",
       "3                     Subjectivity (children)             0.024557   \n",
       "4           Personal circumstances (children)             0.001508   \n",
       "5                      Subjectivity (parents)             0.015252   \n",
       "6                          Economical aspects             0.040534   \n",
       "\n",
       "   coefficients_y_mean  disp_score_mean  \n",
       "0             0.078944         0.046184  \n",
       "1             0.081307        -0.007234  \n",
       "2             0.021621        -0.004544  \n",
       "3             0.029080        -0.004523  \n",
       "4             0.005422        -0.003913  \n",
       "5             0.012612         0.002640  \n",
       "6             0.042662        -0.002127  "
      ]
     },
     "execution_count": 18,
     "metadata": {},
     "output_type": "execute_result"
    }
   ],
   "source": [
    "df_disp_score_by_category_judge_joint = disparity_score_by_category.create_categories_score_df(df_disp_score_judge_joint, file_name=r\"..\\..\\data\\feature_category.csv\")\n",
    "df_disp_score_by_category_judge_joint"
   ]
  },
  {
   "cell_type": "code",
   "execution_count": null,
   "metadata": {},
   "outputs": [],
   "source": []
  }
 ],
 "metadata": {
  "kernelspec": {
   "display_name": "base",
   "language": "python",
   "name": "python3"
  },
  "language_info": {
   "codemirror_mode": {
    "name": "ipython",
    "version": 3
   },
   "file_extension": ".py",
   "mimetype": "text/x-python",
   "name": "python",
   "nbconvert_exporter": "python",
   "pygments_lexer": "ipython3",
   "version": "3.8.3"
  },
  "toc": {
   "base_numbering": 1,
   "nav_menu": {},
   "number_sections": true,
   "sideBar": true,
   "skip_h1_title": false,
   "title_cell": "Table of Contents",
   "title_sidebar": "Contents",
   "toc_cell": false,
   "toc_position": {
    "height": "calc(100% - 180px)",
    "left": "10px",
    "top": "150px",
    "width": "340px"
   },
   "toc_section_display": true,
   "toc_window_display": true
  },
  "vscode": {
   "interpreter": {
    "hash": "cb57b3ccfe62c6746bf3247651268e5f45d4314d13d2f08503817b1c05971834"
   }
  }
 },
 "nbformat": 4,
 "nbformat_minor": 2
}
