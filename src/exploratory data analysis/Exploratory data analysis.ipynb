{
 "cells": [
  {
   "cell_type": "markdown",
   "metadata": {},
   "source": [
    "**Legend** <br>\n",
    "<div class=\"alert alert-block col-md-7 alert-info\">Question</div>\n",
    "<div class=\"alert alert-block col-md-7 alert-warning\">Partial conclusions</div> \n",
    "<div class=\"alert alert-block col-md-7 alert-success\">Conclusion</div>"
   ]
  },
  {
   "cell_type": "markdown",
   "metadata": {},
   "source": [
    "**Imports**"
   ]
  },
  {
   "cell_type": "code",
   "execution_count": 115,
   "metadata": {},
   "outputs": [],
   "source": [
    "import pandas as pd\n",
    "import numpy as np\n",
    "import seaborn as sns\n",
    "from collections import Counter\n",
    "import matplotlib.pyplot as plt\n",
    "import json\n",
    "\n",
    "import sys  \n",
    "sys.path.append('../')\n",
    "\n",
    "import modules.exploratory_data_analysis.base_rates as base_rates\n",
    "import modules.exploratory_data_analysis.statistical_analysis as statistical_analysis\n",
    "\n",
    "import warnings\n",
    "warnings.filterwarnings('ignore')\n",
    "\n",
    "from importlib import reload\n",
    "statistical_analysis = reload(statistical_analysis)"
   ]
  },
  {
   "cell_type": "markdown",
   "metadata": {},
   "source": [
    "# Load extended dataset"
   ]
  },
  {
   "cell_type": "code",
   "execution_count": 116,
   "metadata": {},
   "outputs": [
    {
     "data": {
      "text/html": [
       "<div>\n",
       "<style scoped>\n",
       "    .dataframe tbody tr th:only-of-type {\n",
       "        vertical-align: middle;\n",
       "    }\n",
       "\n",
       "    .dataframe tbody tr th {\n",
       "        vertical-align: top;\n",
       "    }\n",
       "\n",
       "    .dataframe thead th {\n",
       "        text-align: right;\n",
       "    }\n",
       "</style>\n",
       "<table border=\"1\" class=\"dataframe\">\n",
       "  <thead>\n",
       "    <tr style=\"text-align: right;\">\n",
       "      <th></th>\n",
       "      <th>DATE</th>\n",
       "      <th>YEAR</th>\n",
       "      <th>Train</th>\n",
       "      <th>ID</th>\n",
       "      <th>URL</th>\n",
       "      <th>HQ</th>\n",
       "      <th>AUT_COMM</th>\n",
       "      <th>PLAIN_ML</th>\n",
       "      <th>PLAIN_WO</th>\n",
       "      <th>DEFEN_ML</th>\n",
       "      <th>...</th>\n",
       "      <th>FT_AG</th>\n",
       "      <th>LN_JNPREF_b</th>\n",
       "      <th>LN_JNPREF</th>\n",
       "      <th>FT_SL_IN_b</th>\n",
       "      <th>FT_JN_IN_b</th>\n",
       "      <th>FT_SL_IN</th>\n",
       "      <th>FT_JN_IN</th>\n",
       "      <th>JUDGE_ML</th>\n",
       "      <th>JUDGE_ID</th>\n",
       "      <th>Unnamed: 113</th>\n",
       "    </tr>\n",
       "  </thead>\n",
       "  <tbody>\n",
       "    <tr>\n",
       "      <th>0</th>\n",
       "      <td>43362</td>\n",
       "      <td>2018</td>\n",
       "      <td>1</td>\n",
       "      <td>APA_2018_3010</td>\n",
       "      <td>http://labje.unizar.es/sentencias/APA_2018_301...</td>\n",
       "      <td>Alicante</td>\n",
       "      <td>Comunidad Valenciana</td>\n",
       "      <td>1</td>\n",
       "      <td>0</td>\n",
       "      <td>0</td>\n",
       "      <td>...</td>\n",
       "      <td>0</td>\n",
       "      <td>0</td>\n",
       "      <td>0</td>\n",
       "      <td>3</td>\n",
       "      <td>2</td>\n",
       "      <td>5</td>\n",
       "      <td>4</td>\n",
       "      <td>1</td>\n",
       "      <td>0</td>\n",
       "      <td>NaN</td>\n",
       "    </tr>\n",
       "    <tr>\n",
       "      <th>1</th>\n",
       "      <td>43621</td>\n",
       "      <td>2019</td>\n",
       "      <td>0</td>\n",
       "      <td>APA_2019_1490</td>\n",
       "      <td>http://labje.unizar.es/sentencias/APA_2019_149...</td>\n",
       "      <td>Alicante</td>\n",
       "      <td>Comunidad Valenciana</td>\n",
       "      <td>1</td>\n",
       "      <td>0</td>\n",
       "      <td>0</td>\n",
       "      <td>...</td>\n",
       "      <td>0</td>\n",
       "      <td>0</td>\n",
       "      <td>0</td>\n",
       "      <td>1</td>\n",
       "      <td>1</td>\n",
       "      <td>1</td>\n",
       "      <td>3</td>\n",
       "      <td>1</td>\n",
       "      <td>1</td>\n",
       "      <td>NaN</td>\n",
       "    </tr>\n",
       "    <tr>\n",
       "      <th>2</th>\n",
       "      <td>43607</td>\n",
       "      <td>2019</td>\n",
       "      <td>0</td>\n",
       "      <td>APA_2019_1497</td>\n",
       "      <td>http://labje.unizar.es/sentencias/APA_2019_149...</td>\n",
       "      <td>Alicante</td>\n",
       "      <td>Comunidad Valenciana</td>\n",
       "      <td>1</td>\n",
       "      <td>0</td>\n",
       "      <td>0</td>\n",
       "      <td>...</td>\n",
       "      <td>0</td>\n",
       "      <td>0</td>\n",
       "      <td>0</td>\n",
       "      <td>4</td>\n",
       "      <td>3</td>\n",
       "      <td>8</td>\n",
       "      <td>6</td>\n",
       "      <td>1</td>\n",
       "      <td>1</td>\n",
       "      <td>NaN</td>\n",
       "    </tr>\n",
       "    <tr>\n",
       "      <th>3</th>\n",
       "      <td>43600</td>\n",
       "      <td>2019</td>\n",
       "      <td>0</td>\n",
       "      <td>APA_2019_1500</td>\n",
       "      <td>http://labje.unizar.es/sentencias/APA_2019_150...</td>\n",
       "      <td>Alicante</td>\n",
       "      <td>Comunidad Valenciana</td>\n",
       "      <td>1</td>\n",
       "      <td>0</td>\n",
       "      <td>0</td>\n",
       "      <td>...</td>\n",
       "      <td>0</td>\n",
       "      <td>0</td>\n",
       "      <td>0</td>\n",
       "      <td>2</td>\n",
       "      <td>1</td>\n",
       "      <td>3</td>\n",
       "      <td>2</td>\n",
       "      <td>0</td>\n",
       "      <td>2</td>\n",
       "      <td>NaN</td>\n",
       "    </tr>\n",
       "    <tr>\n",
       "      <th>4</th>\n",
       "      <td>43818</td>\n",
       "      <td>2019</td>\n",
       "      <td>0</td>\n",
       "      <td>APA_2019_15542</td>\n",
       "      <td>http://labje.unizar.es/sentencias/APA_2019_155...</td>\n",
       "      <td>Barcelona</td>\n",
       "      <td>Cataluña</td>\n",
       "      <td>1</td>\n",
       "      <td>0</td>\n",
       "      <td>0</td>\n",
       "      <td>...</td>\n",
       "      <td>0</td>\n",
       "      <td>0</td>\n",
       "      <td>0</td>\n",
       "      <td>2</td>\n",
       "      <td>0</td>\n",
       "      <td>3</td>\n",
       "      <td>0</td>\n",
       "      <td>1</td>\n",
       "      <td>3</td>\n",
       "      <td>NaN</td>\n",
       "    </tr>\n",
       "  </tbody>\n",
       "</table>\n",
       "<p>5 rows × 117 columns</p>\n",
       "</div>"
      ],
      "text/plain": [
       "    DATE  YEAR  Train              ID  \\\n",
       "0  43362  2018      1   APA_2018_3010   \n",
       "1  43621  2019      0   APA_2019_1490   \n",
       "2  43607  2019      0   APA_2019_1497   \n",
       "3  43600  2019      0   APA_2019_1500   \n",
       "4  43818  2019      0  APA_2019_15542   \n",
       "\n",
       "                                                 URL         HQ  \\\n",
       "0  http://labje.unizar.es/sentencias/APA_2018_301...   Alicante   \n",
       "1  http://labje.unizar.es/sentencias/APA_2019_149...   Alicante   \n",
       "2  http://labje.unizar.es/sentencias/APA_2019_149...   Alicante   \n",
       "3  http://labje.unizar.es/sentencias/APA_2019_150...   Alicante   \n",
       "4  http://labje.unizar.es/sentencias/APA_2019_155...  Barcelona   \n",
       "\n",
       "               AUT_COMM  PLAIN_ML  PLAIN_WO  DEFEN_ML  ...  FT_AG  \\\n",
       "0  Comunidad Valenciana         1         0         0  ...      0   \n",
       "1  Comunidad Valenciana         1         0         0  ...      0   \n",
       "2  Comunidad Valenciana         1         0         0  ...      0   \n",
       "3  Comunidad Valenciana         1         0         0  ...      0   \n",
       "4              Cataluña         1         0         0  ...      0   \n",
       "\n",
       "   LN_JNPREF_b  LN_JNPREF  FT_SL_IN_b  FT_JN_IN_b  FT_SL_IN  FT_JN_IN  \\\n",
       "0            0          0           3           2         5         4   \n",
       "1            0          0           1           1         1         3   \n",
       "2            0          0           4           3         8         6   \n",
       "3            0          0           2           1         3         2   \n",
       "4            0          0           2           0         3         0   \n",
       "\n",
       "   JUDGE_ML  JUDGE_ID  Unnamed: 113  \n",
       "0         1         0           NaN  \n",
       "1         1         1           NaN  \n",
       "2         1         1           NaN  \n",
       "3         0         2           NaN  \n",
       "4         1         3           NaN  \n",
       "\n",
       "[5 rows x 117 columns]"
      ]
     },
     "execution_count": 116,
     "metadata": {},
     "output_type": "execute_result"
    }
   ],
   "source": [
    "df = pd.read_csv(\"..\\..\\output\\extended_dataset.csv\", sep=\";\")\n",
    "df.head()"
   ]
  },
  {
   "cell_type": "markdown",
   "metadata": {},
   "source": [
    "# Exploratory data analysis"
   ]
  },
  {
   "cell_type": "markdown",
   "metadata": {},
   "source": [
    "## Plaintiffs gender"
   ]
  },
  {
   "cell_type": "markdown",
   "metadata": {},
   "source": [
    "The plaintiff gender is embeded in the PLAIN_ML attribute which is 0 for female and 1 for male. We also have the PLAIN_WO attribute, which tells the opposite."
   ]
  },
  {
   "cell_type": "code",
   "execution_count": 117,
   "metadata": {},
   "outputs": [
    {
     "name": "stdout",
     "output_type": "stream",
     "text": [
      "Counter({1: 1131, 0: 753})\n",
      "\n",
      "\n",
      "Female plaintiff: 39.97%\n",
      "Male plaintiff: 60.03%\n",
      "\n",
      "\n"
     ]
    },
    {
     "data": {
      "image/png": "[encoded data removed]",
      "text/plain": [
       "<Figure size 640x480 with 1 Axes>"
      ]
     },
     "metadata": {},
     "output_type": "display_data"
    }
   ],
   "source": [
    "base_rates.percentages(df, \"PLAIN_ML\", \"Female plaintiff\", \"Male plaintiff\")"
   ]
  },
  {
   "cell_type": "markdown",
   "metadata": {},
   "source": [
    "<div class=\"alert alert-block alert-warning col-md-12\">\n",
    "\n",
    "<p>\n",
    "There are 1131 rows with male plaintiffs and 753 with female plaintiffs in the dataset. This means that 60.03% of the plaintiffs are males and 39.97% are females.\n",
    "</p>\n",
    "\n",
    "</div>"
   ]
  },
  {
   "cell_type": "markdown",
   "metadata": {},
   "source": [
    "### Same gender parents"
   ]
  },
  {
   "cell_type": "code",
   "execution_count": 118,
   "metadata": {},
   "outputs": [
    {
     "name": "stdout",
     "output_type": "stream",
     "text": [
      "Plaintiff wins:  0\n"
     ]
    },
    {
     "data": {
      "text/html": [
       "<div>\n",
       "<style scoped>\n",
       "    .dataframe tbody tr th:only-of-type {\n",
       "        vertical-align: middle;\n",
       "    }\n",
       "\n",
       "    .dataframe tbody tr th {\n",
       "        vertical-align: top;\n",
       "    }\n",
       "\n",
       "    .dataframe thead th {\n",
       "        text-align: right;\n",
       "    }\n",
       "</style>\n",
       "<table border=\"1\" class=\"dataframe\">\n",
       "  <thead>\n",
       "    <tr style=\"text-align: right;\">\n",
       "      <th></th>\n",
       "      <th>DATE</th>\n",
       "      <th>YEAR</th>\n",
       "      <th>Train</th>\n",
       "      <th>ID</th>\n",
       "      <th>URL</th>\n",
       "      <th>HQ</th>\n",
       "      <th>AUT_COMM</th>\n",
       "      <th>PLAIN_ML</th>\n",
       "      <th>PLAIN_WO</th>\n",
       "      <th>DEFEN_ML</th>\n",
       "      <th>...</th>\n",
       "      <th>FT_AG</th>\n",
       "      <th>LN_JNPREF_b</th>\n",
       "      <th>LN_JNPREF</th>\n",
       "      <th>FT_SL_IN_b</th>\n",
       "      <th>FT_JN_IN_b</th>\n",
       "      <th>FT_SL_IN</th>\n",
       "      <th>FT_JN_IN</th>\n",
       "      <th>JUDGE_ML</th>\n",
       "      <th>JUDGE_ID</th>\n",
       "      <th>Unnamed: 113</th>\n",
       "    </tr>\n",
       "  </thead>\n",
       "  <tbody>\n",
       "    <tr>\n",
       "      <th>1086</th>\n",
       "      <td>43495</td>\n",
       "      <td>2019</td>\n",
       "      <td>1</td>\n",
       "      <td>APM_2019_980</td>\n",
       "      <td>http://labje.unizar.es/sentencias/APM_2019_980...</td>\n",
       "      <td>Madrid</td>\n",
       "      <td>Comunidad de Madrid</td>\n",
       "      <td>0</td>\n",
       "      <td>1</td>\n",
       "      <td>0</td>\n",
       "      <td>...</td>\n",
       "      <td>0</td>\n",
       "      <td>0</td>\n",
       "      <td>0</td>\n",
       "      <td>0</td>\n",
       "      <td>4</td>\n",
       "      <td>0</td>\n",
       "      <td>13</td>\n",
       "      <td>0</td>\n",
       "      <td>155</td>\n",
       "      <td>NaN</td>\n",
       "    </tr>\n",
       "    <tr>\n",
       "      <th>1711</th>\n",
       "      <td>43781</td>\n",
       "      <td>2019</td>\n",
       "      <td>0</td>\n",
       "      <td>APV_2019_4575</td>\n",
       "      <td>http://labje.unizar.es/sentencias/APV_2019_457...</td>\n",
       "      <td>Valencia</td>\n",
       "      <td>Comunidad Valenciana</td>\n",
       "      <td>0</td>\n",
       "      <td>1</td>\n",
       "      <td>0</td>\n",
       "      <td>...</td>\n",
       "      <td>-1</td>\n",
       "      <td>0</td>\n",
       "      <td>0</td>\n",
       "      <td>2</td>\n",
       "      <td>4</td>\n",
       "      <td>3</td>\n",
       "      <td>10</td>\n",
       "      <td>1</td>\n",
       "      <td>284</td>\n",
       "      <td>NaN</td>\n",
       "    </tr>\n",
       "    <tr>\n",
       "      <th>1836</th>\n",
       "      <td>43745</td>\n",
       "      <td>2019</td>\n",
       "      <td>0</td>\n",
       "      <td>APZ_2019_2314</td>\n",
       "      <td>http://labje.unizar.es/sentencias/APZ_2019_231...</td>\n",
       "      <td>Zaragoza</td>\n",
       "      <td>Aragón</td>\n",
       "      <td>0</td>\n",
       "      <td>1</td>\n",
       "      <td>0</td>\n",
       "      <td>...</td>\n",
       "      <td>0</td>\n",
       "      <td>0</td>\n",
       "      <td>0</td>\n",
       "      <td>5</td>\n",
       "      <td>1</td>\n",
       "      <td>8</td>\n",
       "      <td>1</td>\n",
       "      <td>1</td>\n",
       "      <td>306</td>\n",
       "      <td>NaN</td>\n",
       "    </tr>\n",
       "  </tbody>\n",
       "</table>\n",
       "<p>3 rows × 117 columns</p>\n",
       "</div>"
      ],
      "text/plain": [
       "       DATE  YEAR  Train             ID  \\\n",
       "1086  43495  2019      1   APM_2019_980   \n",
       "1711  43781  2019      0  APV_2019_4575   \n",
       "1836  43745  2019      0  APZ_2019_2314   \n",
       "\n",
       "                                                    URL        HQ  \\\n",
       "1086  http://labje.unizar.es/sentencias/APM_2019_980...    Madrid   \n",
       "1711  http://labje.unizar.es/sentencias/APV_2019_457...  Valencia   \n",
       "1836  http://labje.unizar.es/sentencias/APZ_2019_231...  Zaragoza   \n",
       "\n",
       "                  AUT_COMM  PLAIN_ML  PLAIN_WO  DEFEN_ML  ...  FT_AG  \\\n",
       "1086   Comunidad de Madrid         0         1         0  ...      0   \n",
       "1711  Comunidad Valenciana         0         1         0  ...     -1   \n",
       "1836                Aragón         0         1         0  ...      0   \n",
       "\n",
       "      LN_JNPREF_b  LN_JNPREF  FT_SL_IN_b  FT_JN_IN_b  FT_SL_IN  FT_JN_IN  \\\n",
       "1086            0          0           0           4         0        13   \n",
       "1711            0          0           2           4         3        10   \n",
       "1836            0          0           5           1         8         1   \n",
       "\n",
       "      JUDGE_ML  JUDGE_ID  Unnamed: 113  \n",
       "1086         0       155           NaN  \n",
       "1711         1       284           NaN  \n",
       "1836         1       306           NaN  \n",
       "\n",
       "[3 rows x 117 columns]"
      ]
     },
     "execution_count": 118,
     "metadata": {},
     "output_type": "execute_result"
    }
   ],
   "source": [
    "same_gender_df = df[df['PLAIN_ML'] == df[\"DEFEN_ML\"]]\n",
    "print(\"Plaintiff wins: \",len(same_gender_df[same_gender_df['WINWIN']==1]))\n",
    "same_gender_df"
   ]
  },
  {
   "cell_type": "markdown",
   "metadata": {},
   "source": [
    "<div class=\"alert alert-block alert-warning col-md-12\">\n",
    "\n",
    "<p>\n",
    "There are only three rows in the dataset with same gender parents. All three correspont to female plaintiff and defendant. None of the three plaintiffs win.\n",
    "</p>\n",
    "\n",
    "</div>"
   ]
  },
  {
   "cell_type": "markdown",
   "metadata": {},
   "source": [
    "## Judges gender"
   ]
  },
  {
   "cell_type": "markdown",
   "metadata": {},
   "source": [
    "The judge gender is embeded in the JUDGE_ML attribute which is 0 for female and 1 for male."
   ]
  },
  {
   "cell_type": "code",
   "execution_count": 119,
   "metadata": {},
   "outputs": [
    {
     "name": "stdout",
     "output_type": "stream",
     "text": [
      "Counter({1: 1194, 0: 690})\n",
      "\n",
      "\n",
      "Female judges: 36.62%\n",
      "Male judges: 63.38%\n",
      "\n",
      "\n"
     ]
    },
    {
     "data": {
      "image/png": "[encoded data removed]",
      "text/plain": [
       "<Figure size 640x480 with 1 Axes>"
      ]
     },
     "metadata": {},
     "output_type": "display_data"
    }
   ],
   "source": [
    "base_rates.percentages(df, \"JUDGE_ML\", \"Female judges\", \"Male judges\")"
   ]
  },
  {
   "cell_type": "markdown",
   "metadata": {},
   "source": [
    "<div class=\"alert alert-block alert-warning col-md-12\">\n",
    "\n",
    "<p>\n",
    "There are 1194 rows with male judges and 690 with female judges in the dataset. This means that 63.38% of the judges are males and 36.62% are females.\n",
    "</p>\n",
    "\n",
    "</div>"
   ]
  },
  {
   "cell_type": "markdown",
   "metadata": {},
   "source": [
    "## Victory rates"
   ]
  },
  {
   "cell_type": "markdown",
   "metadata": {},
   "source": [
    "The WINWIN attribute corresponds to the court decision with respect to the sole/joint custody request. Is is 1 when the court decides sole custody or joint custody as the plaintiff has requested, and 0 if it decides the opposite as the plaintiff requested."
   ]
  },
  {
   "cell_type": "code",
   "execution_count": 120,
   "metadata": {},
   "outputs": [
    {
     "name": "stdout",
     "output_type": "stream",
     "text": [
      "Counter({0: 1549, 1: 335})\n",
      "\n",
      "\n",
      "Plaintiff loses: 82.22%\n",
      "Plaintiff wins: 17.78%\n",
      "\n",
      "\n"
     ]
    },
    {
     "data": {
      "image/png": "[encoded data removed]",
      "text/plain": [
       "<Figure size 640x480 with 1 Axes>"
      ]
     },
     "metadata": {},
     "output_type": "display_data"
    }
   ],
   "source": [
    "base_rates.percentages(df, \"WINWIN\", \"Plaintiff loses\", \"Plaintiff wins\")"
   ]
  },
  {
   "cell_type": "markdown",
   "metadata": {},
   "source": [
    "<div class=\"alert alert-block alert-warning col-md-12\">\n",
    "\n",
    "<p>\n",
    "There are 1549 rows where the decision of the court is the opposite as the plaintiff request and 335 where the plaintiff wins. Meaning an 82.22% and 17.78% distribution.<br>\n",
    "</p>\n",
    "\n",
    "</div>"
   ]
  },
  {
   "cell_type": "markdown",
   "metadata": {},
   "source": [
    "### Victory rates by plaintiff gender"
   ]
  },
  {
   "cell_type": "code",
   "execution_count": 121,
   "metadata": {},
   "outputs": [
    {
     "name": "stdout",
     "output_type": "stream",
     "text": [
      "PLAIN_ML = 0 -->  WINWIN: Counter({0: 645, 1: 108})\n",
      "\n",
      "Female plaintiff loses: 85.66%\n",
      "Female plaintiff wins: 14.34%\n",
      "\n",
      "PLAIN_ML = 1 -->  WINWIN: Counter({0: 904, 1: 227})\n",
      "\n",
      "Male plaintiff loses: 79.93%\n",
      "Male plaintiff win: 20.07%\n"
     ]
    }
   ],
   "source": [
    "base_rates.percentages_by_group(df, \"WINWIN\", \"PLAIN_ML\", \"Female plaintiff wins\", \"Male plaintiff win\", zero_case = True, group_1_zero = \"Female plaintiff loses\", group_2_zero = \"Male plaintiff loses\")"
   ]
  },
  {
   "cell_type": "code",
   "execution_count": 122,
   "metadata": {},
   "outputs": [
    {
     "name": "stdout",
     "output_type": "stream",
     "text": [
      "WINWIN = 0 -->  Ratio between Female/Male is: 1.07\n",
      "WINWIN = 1 -->  Ratio between Female/Male is: 0.71\n"
     ]
    }
   ],
   "source": [
    "base_rates.ratio_by_group(df, \"WINWIN\", \"PLAIN_ML\", \"Female\", \"Male\")"
   ]
  },
  {
   "cell_type": "code",
   "execution_count": 123,
   "metadata": {
    "scrolled": true
   },
   "outputs": [
    {
     "name": "stdout",
     "output_type": "stream",
     "text": [
      "Kolmogorov-Smirnov test to determine if there is significant difference between the two groups by quantifying the difference between the arithmetic means \n",
      "\n",
      "------> Statistic: 401430.0\n",
      "\n",
      "------> p-value: 0.001451270330983693\n",
      "\n",
      "Since p-value is smaller than alpha, we REJECT the null hypothesis H0. Thus, there is a significant difference between both groups\n"
     ]
    }
   ],
   "source": [
    "statistical_analysis.k_test(df, \"WINWIN\", \"PLAIN_ML\")"
   ]
  },
  {
   "cell_type": "markdown",
   "metadata": {},
   "source": [
    "<div class=\"alert alert-block alert-warning col-md-12\">\n",
    "\n",
    "<p>\n",
    "We can observe that males have more chances to win than females in this dataset. \n",
    "</p>\n",
    "\n",
    "</div>"
   ]
  },
  {
   "cell_type": "markdown",
   "metadata": {},
   "source": [
    "### Victory rates by judge gender"
   ]
  },
  {
   "cell_type": "code",
   "execution_count": 124,
   "metadata": {},
   "outputs": [
    {
     "name": "stdout",
     "output_type": "stream",
     "text": [
      "JUDGE_ML = 0 -->  WINWIN: Counter({0: 548, 1: 142})\n",
      "\n",
      "Plaintiff loses with female judges: 79.42%\n",
      "Plaintiff wins with female judges: 20.58%\n",
      "\n",
      "JUDGE_ML = 1 -->  WINWIN: Counter({0: 1001, 1: 193})\n",
      "\n",
      "Plaintiff loses with male judges: 83.84%\n",
      "Plaintiff wins with male judges: 16.16%\n"
     ]
    }
   ],
   "source": [
    "base_rates.percentages_by_group(df, \"WINWIN\", \"JUDGE_ML\", \"Plaintiff wins with female judges\", \"Plaintiff wins with male judges\", zero_case = True, group_1_zero = \"Plaintiff loses with female judges\", group_2_zero = \"Plaintiff loses with male judges\")"
   ]
  },
  {
   "cell_type": "code",
   "execution_count": 125,
   "metadata": {},
   "outputs": [
    {
     "name": "stdout",
     "output_type": "stream",
     "text": [
      "WINWIN = 0 -->  Ratio between Female/Male is: 0.95\n",
      "WINWIN = 1 -->  Ratio between Female/Male is: 1.27\n"
     ]
    }
   ],
   "source": [
    "base_rates.ratio_by_group(df, \"WINWIN\", \"JUDGE_ML\", \"Female\", \"Male\")"
   ]
  },
  {
   "cell_type": "code",
   "execution_count": 126,
   "metadata": {},
   "outputs": [
    {
     "name": "stdout",
     "output_type": "stream",
     "text": [
      "Kolmogorov-Smirnov test to determine if there is significant difference between the two groups by quantifying the difference between the arithmetic means \n",
      "\n",
      "------> Statistic: 430119.0\n",
      "\n",
      "------> p-value: 0.01576884746250585\n",
      "\n",
      "Since p-value is smaller than alpha, we REJECT the null hypothesis H0. Thus, there is a significant difference between both groups\n"
     ]
    }
   ],
   "source": [
    "statistical_analysis.k_test(df, \"WINWIN\", \"JUDGE_ML\")"
   ]
  },
  {
   "cell_type": "markdown",
   "metadata": {},
   "source": [
    "<div class=\"alert alert-block alert-warning col-md-12\">\n",
    "\n",
    "<p>\n",
    "We can observe that female judges tend to be more involved in cases where the plaintiff wins.\n",
    "</p>\n",
    "\n",
    "</div>"
   ]
  },
  {
   "cell_type": "markdown",
   "metadata": {},
   "source": [
    "### Victory rates by gender"
   ]
  },
  {
   "cell_type": "code",
   "execution_count": 127,
   "metadata": {},
   "outputs": [
    {
     "name": "stdout",
     "output_type": "stream",
     "text": [
      "WINWIN percentage for female plaintiff, female judge --> 16.97%\n",
      "WINWIN percentage for female plaintiff, male judge --> 12.86%\n",
      "WINWIN percentage for male plaintiff, female judge --> 22.91%\n",
      "WINWIN percentage for male plaintiff, male judge --> 18.4%\n"
     ]
    }
   ],
   "source": [
    "base_rates.percentages_cross_groups(df, \"WINWIN\", \"PLAIN_ML\", \"JUDGE_ML\", \"female plaintiff\", \"male plaintiff\", \"female judge\", \"male judge\")"
   ]
  },
  {
   "cell_type": "markdown",
   "metadata": {},
   "source": [
    "<div class=\"alert alert-block alert-warning col-md-12\">\n",
    "\n",
    "<p>\n",
    "With both plaintiff genders if the judge is a female plaintiffs are more likely to than if the judge is a male. Also males are more likely to win, with both judge genders.<br><br>\n",
    "    \n",
    "It does not seem a priori that female judges favor female plaintiffs and male judges favor male plaintiffs. Neither the opposite. <br>\n",
    "</p>\n",
    "\n",
    "</div>"
   ]
  },
  {
   "cell_type": "markdown",
   "metadata": {},
   "source": [
    "## Request nature (sole vs joint)"
   ]
  },
  {
   "cell_type": "markdown",
   "metadata": {},
   "source": [
    "One of the request attributes is the RQ_JOINT attribute. It is 1 if the plaintiff requests joint custody and 0 if sole custody is requested. "
   ]
  },
  {
   "cell_type": "code",
   "execution_count": 128,
   "metadata": {},
   "outputs": [
    {
     "name": "stdout",
     "output_type": "stream",
     "text": [
      "Counter({1: 1031, 0: 853})\n",
      "\n",
      "\n",
      "Sole custody request: 45.28%\n",
      "Join custody request: 54.72%\n",
      "\n",
      "\n"
     ]
    },
    {
     "data": {
      "image/png": "[encoded data removed]",
      "text/plain": [
       "<Figure size 640x480 with 1 Axes>"
      ]
     },
     "metadata": {},
     "output_type": "display_data"
    }
   ],
   "source": [
    "base_rates.percentages(df, \"RQ_JOINT\", \"Sole custody request\", \"Join custody request\")"
   ]
  },
  {
   "cell_type": "markdown",
   "metadata": {},
   "source": [
    "<div class=\"alert alert-block alert-warning col-md-12\">\n",
    "\n",
    "<p>\n",
    "There are 1031 (54.81%) joint custody requests and 850 (45.19%) sole custody requests in the dataset. The data is quite balanced in this sense. <br>\n",
    "</p>\n",
    "\n",
    "</div>"
   ]
  },
  {
   "cell_type": "markdown",
   "metadata": {},
   "source": [
    "### Request nature by plaintiff gender"
   ]
  },
  {
   "cell_type": "code",
   "execution_count": 129,
   "metadata": {},
   "outputs": [
    {
     "name": "stdout",
     "output_type": "stream",
     "text": [
      "PLAIN_ML = 0 -->  RQ_JOINT: Counter({0: 651, 1: 102})\n",
      "\n",
      "Sole custody request by females: 86.45%\n",
      "Join custody request by females: 13.55%\n"
     ]
    },
    {
     "data": {
      "image/png": "[encoded data removed]",
      "text/plain": [
       "<Figure size 640x480 with 1 Axes>"
      ]
     },
     "metadata": {},
     "output_type": "display_data"
    },
    {
     "name": "stdout",
     "output_type": "stream",
     "text": [
      "\n",
      "PLAIN_ML = 1 -->  RQ_JOINT: Counter({1: 929, 0: 202})\n",
      "\n",
      "Sole custody request by males: 17.86%\n",
      "Join custody request by males: 82.14%\n"
     ]
    },
    {
     "data": {
      "image/png": "[encoded data removed]",
      "text/plain": [
       "<Figure size 640x480 with 1 Axes>"
      ]
     },
     "metadata": {},
     "output_type": "display_data"
    }
   ],
   "source": [
    "base_rates.percentages_by_group(df, \"RQ_JOINT\", \"PLAIN_ML\", \"Join custody request by females\", \"Join custody request by males\", zero_case = True, group_1_zero = \"Sole custody request by females\", group_2_zero = \"Sole custody request by males\", plot = True)"
   ]
  },
  {
   "cell_type": "markdown",
   "metadata": {},
   "source": [
    "<div class=\"alert alert-block alert-warning col-md-12\">\n",
    "\n",
    "<p>\n",
    "We can clearly observe that females tend to ask more for sole custody (86.45%) and males tend to ask more for joint custody (82.14%).<br><br>\n",
    "    \n",
    "Taking into account this percentages, and that joint custody win percentage is higher (21.34%, versus the 13.53% for sole custody). An hypothesis may be that this is the reason, or one of the reasons, why males have a higher winning percentage (20.07%, versus the 14.34% for female plaintiffs).    \n",
    "\n",
    "</p>\n",
    "\n",
    "</div>"
   ]
  },
  {
   "cell_type": "markdown",
   "metadata": {},
   "source": [
    "### Request nature by judge gender"
   ]
  },
  {
   "cell_type": "code",
   "execution_count": 130,
   "metadata": {},
   "outputs": [
    {
     "name": "stdout",
     "output_type": "stream",
     "text": [
      "JUDGE_ML = 0 -->  RQ_JOINT: Counter({1: 379, 0: 311})\n",
      "\n",
      "Sole custody request with female judge: 45.07%\n",
      "Join custody request with female judge: 54.93%\n"
     ]
    },
    {
     "data": {
      "image/png": "[encoded data removed]",
      "text/plain": [
       "<Figure size 640x480 with 1 Axes>"
      ]
     },
     "metadata": {},
     "output_type": "display_data"
    },
    {
     "name": "stdout",
     "output_type": "stream",
     "text": [
      "\n",
      "JUDGE_ML = 1 -->  RQ_JOINT: Counter({1: 652, 0: 542})\n",
      "\n",
      "Sole custody request with male judge: 45.39%\n",
      "Join custody request with male judge: 54.61%\n"
     ]
    },
    {
     "data": {
      "image/png": "[encoded data removed]",
      "text/plain": [
       "<Figure size 640x480 with 1 Axes>"
      ]
     },
     "metadata": {},
     "output_type": "display_data"
    }
   ],
   "source": [
    "base_rates.percentages_by_group(df, \"RQ_JOINT\", \"JUDGE_ML\", \"Join custody request with female judge\", \"Join custody request with male judge\", zero_case = True, group_1_zero = \"Sole custody request with female judge\", group_2_zero = \"Sole custody request with male judge\", plot = True)"
   ]
  },
  {
   "cell_type": "markdown",
   "metadata": {},
   "source": [
    "<div class=\"alert alert-block alert-warning col-md-12\">\n",
    "\n",
    "<p>\n",
    "We can observe that in both cases the percentage of sole and joint custody sentences is balanced. And that there is no diference in the percentages between female and male judges.<br>\n",
    "</p>\n",
    "\n",
    "</div>"
   ]
  },
  {
   "cell_type": "markdown",
   "metadata": {},
   "source": [
    "## Request nature victory rates"
   ]
  },
  {
   "cell_type": "code",
   "execution_count": 131,
   "metadata": {},
   "outputs": [
    {
     "name": "stdout",
     "output_type": "stream",
     "text": [
      "RQ_JOINT = 0 -->  WINWIN: Counter({0: 738, 1: 115})\n",
      "\n",
      "Sole custody win percentage: 13.48%\n",
      "\n",
      "RQ_JOINT = 1 -->  WINWIN: Counter({0: 811, 1: 220})\n",
      "\n",
      "Joint custody win percentage: 21.34%\n"
     ]
    }
   ],
   "source": [
    "base_rates.percentages_by_group(df, \"WINWIN\", \"RQ_JOINT\", \"Sole custody win percentage\", \"Joint custody win percentage\")"
   ]
  },
  {
   "cell_type": "markdown",
   "metadata": {},
   "source": [
    "<div class=\"alert alert-block alert-warning col-md-12\">\n",
    "\n",
    "<p>\n",
    "13.53% of the cases were the plaintiff requests for sole custody are won and 21.34% of the cases where the plaintiff asks for joint custody are won. Thus, joint custody requests are more likely to be won.\n",
    "</p>\n",
    "\n",
    "</div>"
   ]
  },
  {
   "cell_type": "markdown",
   "metadata": {},
   "source": [
    "### Request nature victory rates by plaintiff gender"
   ]
  },
  {
   "cell_type": "code",
   "execution_count": 132,
   "metadata": {},
   "outputs": [
    {
     "name": "stdout",
     "output_type": "stream",
     "text": [
      "WINWIN percentage for female plaintiff, sole custody --> 14.13%\n",
      "WINWIN percentage for female plaintiff, joint custody --> 15.69%\n",
      "WINWIN percentage for male plaintiff, sole custody --> 11.39%\n",
      "WINWIN percentage for male plaintiff, joint custody --> 21.96%\n"
     ]
    }
   ],
   "source": [
    "base_rates.percentages_cross_groups(df, \"WINWIN\", \"PLAIN_ML\", \"RQ_JOINT\", \"female plaintiff\", \"male plaintiff\", \"sole custody\", \"joint custody\")"
   ]
  },
  {
   "cell_type": "markdown",
   "metadata": {},
   "source": [
    "<div class=\"alert alert-block alert-warning col-md-12\">\n",
    "\n",
    "<p>\n",
    "Females have aproximately same chances to win sole or joint custody. Males have less chances to win sole custody than females and more chances to win joint custody than females.\n",
    "</p>\n",
    "\n",
    "</div>"
   ]
  },
  {
   "cell_type": "code",
   "execution_count": 133,
   "metadata": {},
   "outputs": [
    {
     "name": "stdout",
     "output_type": "stream",
     "text": [
      "SOLE CUSTODY REQUEST\n",
      " ----------------------------------------- \n",
      "\n",
      "Kolmogorov-Smirnov test to determine if there is significant difference between the two groups by quantifying the difference between the arithmetic means \n",
      "\n",
      "------> Statistic: 67556.5\n",
      "\n",
      "------> p-value: 0.3185543950996156\n",
      "\n",
      "Since p-value is not smaller than alpha, we CANNOT reject the null hypothesis H0.\n",
      "\n",
      " ----------------------------------------- \n",
      "\n",
      "JOINT CUSTODY REQUEST\n",
      " ----------------------------------------- \n",
      "\n",
      "Kolmogorov-Smirnov test to determine if there is significant difference between the two groups by quantifying the difference between the arithmetic means \n",
      "\n",
      "------> Statistic: 44407.0\n",
      "\n",
      "------> p-value: 0.14240866075541736\n",
      "\n",
      "Since p-value is not smaller than alpha, we CANNOT reject the null hypothesis H0.\n",
      "\n",
      " ----------------------------------------- \n",
      "\n"
     ]
    }
   ],
   "source": [
    "df_request_sole, df_request_joint = base_rates.df_by_group(df, \"RQ_JOINT\")\n",
    "\n",
    "print(\"SOLE CUSTODY REQUEST\\n ----------------------------------------- \\n\")\n",
    "statistical_analysis.k_test(df_request_sole, \"WINWIN\", \"PLAIN_ML\")\n",
    "print(\"\\n ----------------------------------------- \\n\")\n",
    "\n",
    "print(\"JOINT CUSTODY REQUEST\\n ----------------------------------------- \\n\")\n",
    "statistical_analysis.k_test(df_request_joint, \"WINWIN\", \"PLAIN_ML\")\n",
    "print(\"\\n ----------------------------------------- \\n\")"
   ]
  },
  {
   "cell_type": "markdown",
   "metadata": {},
   "source": [
    "### Request nature victory rates by judge gender"
   ]
  },
  {
   "cell_type": "code",
   "execution_count": 134,
   "metadata": {},
   "outputs": [
    {
     "name": "stdout",
     "output_type": "stream",
     "text": [
      "WINWIN percentage for female judge, sole custody --> 16.72%\n",
      "WINWIN percentage for female judge, joint custody --> 23.75%\n",
      "WINWIN percentage for male judge, sole custody --> 11.62%\n",
      "WINWIN percentage for male judge, joint custody --> 19.94%\n"
     ]
    }
   ],
   "source": [
    "base_rates.percentages_cross_groups(df, \"WINWIN\", \"JUDGE_ML\", \"RQ_JOINT\", \"female judge\", \"male judge\", \"sole custody\", \"joint custody\")"
   ]
  },
  {
   "cell_type": "markdown",
   "metadata": {},
   "source": [
    "<div class=\"alert alert-block alert-warning col-md-12\">\n",
    "\n",
    "<p>\n",
    "Both female and male judges are more involved in joint custody winning cases than in sole custody winning cases. Also, there is more difference between joint and sole winning percentage in sentences handed down by male judges.\n",
    "</p>\n",
    "\n",
    "</div>"
   ]
  },
  {
   "cell_type": "code",
   "execution_count": 135,
   "metadata": {},
   "outputs": [
    {
     "name": "stdout",
     "output_type": "stream",
     "text": [
      "SOLE CUSTODY REQUEST\n",
      " ----------------------------------------- \n",
      "\n",
      "Kolmogorov-Smirnov test to determine if there is significant difference between the two groups by quantifying the difference between the arithmetic means \n",
      "\n",
      "------> Statistic: 88576.5\n",
      "\n",
      "------> p-value: 0.036054479307687334\n",
      "\n",
      "Since p-value is smaller than alpha, we REJECT the null hypothesis H0. Thus, there is a significant difference between both groups\n",
      "\n",
      " ----------------------------------------- \n",
      "\n",
      "JOINT CUSTODY REQUEST\n",
      " ----------------------------------------- \n",
      "\n",
      "Kolmogorov-Smirnov test to determine if there is significant difference between the two groups by quantifying the difference between the arithmetic means \n",
      "\n",
      "------> Statistic: 128259.0\n",
      "\n",
      "------> p-value: 0.15039833254397608\n",
      "\n",
      "Since p-value is not smaller than alpha, we CANNOT reject the null hypothesis H0.\n",
      "\n",
      " ----------------------------------------- \n",
      "\n"
     ]
    }
   ],
   "source": [
    "print(\"SOLE CUSTODY REQUEST\\n ----------------------------------------- \\n\")\n",
    "statistical_analysis.k_test(df_request_sole, \"WINWIN\", \"JUDGE_ML\")\n",
    "print(\"\\n ----------------------------------------- \\n\")\n",
    "\n",
    "print(\"JOINT CUSTODY REQUEST\\n ----------------------------------------- \\n\")\n",
    "statistical_analysis.k_test(df_request_joint, \"WINWIN\", \"JUDGE_ML\")\n",
    "print(\"\\n ----------------------------------------- \\n\")"
   ]
  },
  {
   "cell_type": "markdown",
   "metadata": {},
   "source": [
    "## Economic features (plaintiff)"
   ]
  },
  {
   "cell_type": "markdown",
   "metadata": {},
   "source": [
    "### By type of request"
   ]
  },
  {
   "cell_type": "code",
   "execution_count": 136,
   "metadata": {},
   "outputs": [
    {
     "name": "stdout",
     "output_type": "stream",
     "text": [
      "RQ_JOINT = 0 -->  RQ_MP_AT: Counter({0: 520, 1: 333})\n",
      "\n",
      "Request sole asks for maintenance payments attribution: 39.04%\n",
      "\n",
      "RQ_JOINT = 1 -->  RQ_MP_AT: Counter({0: 1000, 1: 31})\n",
      "\n",
      "Request joint asks for maintenance payments attribution: 3.01%\n"
     ]
    }
   ],
   "source": [
    "base_rates.percentages_by_group(df, \"RQ_MP_AT\", \"RQ_JOINT\", \"Request sole asks for maintenance payments attribution\", \"Request joint asks for maintenance payments attribution\")"
   ]
  },
  {
   "cell_type": "code",
   "execution_count": 137,
   "metadata": {},
   "outputs": [
    {
     "name": "stdout",
     "output_type": "stream",
     "text": [
      "RQ_JOINT = 0 -->  RQ_MP_SP: Counter({0: 733, 1: 120})\n",
      "\n",
      "Request sole asks for maintenance payments suppression: 14.07%\n",
      "\n",
      "RQ_JOINT = 1 -->  RQ_MP_SP: Counter({1: 583, 0: 448})\n",
      "\n",
      "Request joint asks for maintenance payments suppression: 56.55%\n"
     ]
    }
   ],
   "source": [
    "base_rates.percentages_by_group(df, \"RQ_MP_SP\", \"RQ_JOINT\", \"Request sole asks for maintenance payments suppression\", \"Request joint asks for maintenance payments suppression\")"
   ]
  },
  {
   "cell_type": "code",
   "execution_count": 138,
   "metadata": {},
   "outputs": [
    {
     "name": "stdout",
     "output_type": "stream",
     "text": [
      "RQ_JOINT = 0 -->  RQ_FH_AT: Counter({0: 758, 1: 95})\n",
      "\n",
      "Request sole asks for family home attribution: 11.14%\n",
      "\n",
      "RQ_JOINT = 1 -->  RQ_FH_AT: Counter({0: 947, 1: 84})\n",
      "\n",
      "Request joint asks for family home attribution: 8.15%\n"
     ]
    }
   ],
   "source": [
    "base_rates.percentages_by_group(df, \"RQ_FH_AT\", \"RQ_JOINT\", \"Request sole asks for family home attribution\", \"Request joint asks for family home attribution\")"
   ]
  },
  {
   "cell_type": "code",
   "execution_count": 139,
   "metadata": {},
   "outputs": [
    {
     "name": "stdout",
     "output_type": "stream",
     "text": [
      "RQ_JOINT = 0 -->  RQ_FH_SP: Counter({0: 845, 1: 8})\n",
      "\n",
      "Request sole asks for family home suppression: 0.94%\n",
      "\n",
      "RQ_JOINT = 1 -->  RQ_FH_SP: Counter({0: 965, 1: 66})\n",
      "\n",
      "Request joint asks for family home suppression: 6.4%\n"
     ]
    }
   ],
   "source": [
    "base_rates.percentages_by_group(df, \"RQ_FH_SP\", \"RQ_JOINT\", \"Request sole asks for family home suppression\", \"Request joint asks for family home suppression\")"
   ]
  },
  {
   "cell_type": "markdown",
   "metadata": {},
   "source": [
    "### Maintenance payments request (attribution and suppression)"
   ]
  },
  {
   "cell_type": "code",
   "execution_count": 140,
   "metadata": {},
   "outputs": [
    {
     "name": "stdout",
     "output_type": "stream",
     "text": [
      "PLAIN_ML = 0 -->  RQ_MP_AT: Counter({0: 473, 1: 280})\n",
      "\n",
      "Female plaintiff asks for maintenance payments attribution: 37.18%\n",
      "\n",
      "PLAIN_ML = 1 -->  RQ_MP_AT: Counter({0: 1047, 1: 84})\n",
      "\n",
      "Male plaintiff asks for maintenance payments attribution: 7.43%\n"
     ]
    }
   ],
   "source": [
    "base_rates.percentages_by_group(df, \"RQ_MP_AT\", \"PLAIN_ML\", \"Female plaintiff asks for maintenance payments attribution\", \"Male plaintiff asks for maintenance payments attribution\")"
   ]
  },
  {
   "cell_type": "code",
   "execution_count": 141,
   "metadata": {},
   "outputs": [
    {
     "name": "stdout",
     "output_type": "stream",
     "text": [
      "PLAIN_ML = 0 -->  RQ_MP_SP: Counter({0: 654, 1: 99})\n",
      "\n",
      "Female plaintiff asks for maintenance payments suppression: 13.15%\n",
      "\n",
      "PLAIN_ML = 1 -->  RQ_MP_SP: Counter({1: 604, 0: 527})\n",
      "\n",
      "Male plaintiff asks for maintenance payments suppression: 53.4%\n"
     ]
    }
   ],
   "source": [
    "base_rates.percentages_by_group(df, \"RQ_MP_SP\", \"PLAIN_ML\", \"Female plaintiff asks for maintenance payments suppression\", \"Male plaintiff asks for maintenance payments suppression\")"
   ]
  },
  {
   "cell_type": "markdown",
   "metadata": {},
   "source": [
    "<div class=\"alert alert-block alert-warning col-md-12\">\n",
    "\n",
    "<p>\n",
    "The percentages between female and male plaintiffs when asking for the attribution or the suppression of maintenance payments are highly imbalanced. Females tend to ask much more than males for the attribution and males tend to ask much more than females for their suppression.</p>\n",
    "\n",
    "</div>"
   ]
  },
  {
   "cell_type": "markdown",
   "metadata": {},
   "source": [
    "#### Maintenance payments request attribution and suppression - sole custody request"
   ]
  },
  {
   "cell_type": "code",
   "execution_count": 142,
   "metadata": {},
   "outputs": [],
   "source": [
    "df_request_sole, df_request_joint = base_rates.df_by_group(df, \"RQ_JOINT\")"
   ]
  },
  {
   "cell_type": "code",
   "execution_count": 143,
   "metadata": {},
   "outputs": [
    {
     "name": "stdout",
     "output_type": "stream",
     "text": [
      "PLAIN_ML = 0 -->  RQ_MP_AT: Counter({0: 378, 1: 273})\n",
      "\n",
      "Female plaintiff asks for maintenance payments attribution: 41.94%\n",
      "\n",
      "PLAIN_ML = 1 -->  RQ_MP_AT: Counter({0: 142, 1: 60})\n",
      "\n",
      "Male plaintiff asks for maintenance payments attribution: 29.7%\n"
     ]
    }
   ],
   "source": [
    "base_rates.percentages_by_group(df_request_sole, \"RQ_MP_AT\", \"PLAIN_ML\", \"Female plaintiff asks for maintenance payments attribution\", \"Male plaintiff asks for maintenance payments attribution\")"
   ]
  },
  {
   "cell_type": "code",
   "execution_count": 144,
   "metadata": {},
   "outputs": [
    {
     "name": "stdout",
     "output_type": "stream",
     "text": [
      "PLAIN_ML = 0 -->  RQ_MP_SP: Counter({0: 594, 1: 57})\n",
      "\n",
      "Female plaintiff asks for maintenance payments suppression: 8.76%\n",
      "\n",
      "PLAIN_ML = 1 -->  RQ_MP_SP: Counter({0: 139, 1: 63})\n",
      "\n",
      "Male plaintiff asks for maintenance payments suppression: 31.19%\n"
     ]
    }
   ],
   "source": [
    "base_rates.percentages_by_group(df_request_sole, \"RQ_MP_SP\", \"PLAIN_ML\", \"Female plaintiff asks for maintenance payments suppression\", \"Male plaintiff asks for maintenance payments suppression\")"
   ]
  },
  {
   "cell_type": "markdown",
   "metadata": {},
   "source": [
    "#### Maintenance payments request attribution and suppression - joint custody request"
   ]
  },
  {
   "cell_type": "code",
   "execution_count": 145,
   "metadata": {},
   "outputs": [
    {
     "name": "stdout",
     "output_type": "stream",
     "text": [
      "PLAIN_ML = 0 -->  RQ_MP_AT: Counter({0: 95, 1: 7})\n",
      "\n",
      "Female plaintiff asks for maintenance payments attribution: 6.86%\n",
      "\n",
      "PLAIN_ML = 1 -->  RQ_MP_AT: Counter({0: 905, 1: 24})\n",
      "\n",
      "Male plaintiff asks for maintenance payments attribution: 2.58%\n"
     ]
    }
   ],
   "source": [
    "base_rates.percentages_by_group(df_request_joint, \"RQ_MP_AT\", \"PLAIN_ML\", \"Female plaintiff asks for maintenance payments attribution\", \"Male plaintiff asks for maintenance payments attribution\")"
   ]
  },
  {
   "cell_type": "code",
   "execution_count": 146,
   "metadata": {},
   "outputs": [
    {
     "name": "stdout",
     "output_type": "stream",
     "text": [
      "PLAIN_ML = 0 -->  RQ_MP_SP: Counter({0: 60, 1: 42})\n",
      "\n",
      "Female plaintiff asks for maintenance payments suppression: 41.18%\n",
      "\n",
      "PLAIN_ML = 1 -->  RQ_MP_SP: Counter({1: 541, 0: 388})\n",
      "\n",
      "Male plaintiff asks for maintenance payments suppression: 58.23%\n"
     ]
    }
   ],
   "source": [
    "base_rates.percentages_by_group(df_request_joint, \"RQ_MP_SP\", \"PLAIN_ML\", \"Female plaintiff asks for maintenance payments suppression\", \"Male plaintiff asks for maintenance payments suppression\")"
   ]
  },
  {
   "cell_type": "markdown",
   "metadata": {},
   "source": [
    "### Family home request (attribution and suppression)"
   ]
  },
  {
   "cell_type": "code",
   "execution_count": 147,
   "metadata": {},
   "outputs": [
    {
     "name": "stdout",
     "output_type": "stream",
     "text": [
      "PLAIN_ML = 0 -->  RQ_FH_AT: Counter({0: 666, 1: 87})\n",
      "\n",
      "Female plaintiff asks for family home attribution: 11.55%\n",
      "\n",
      "PLAIN_ML = 1 -->  RQ_FH_AT: Counter({0: 1039, 1: 92})\n",
      "\n",
      "Male plaintiff asks for family home attribution: 8.13%\n"
     ]
    }
   ],
   "source": [
    "base_rates.percentages_by_group(df, \"RQ_FH_AT\", \"PLAIN_ML\", \"Female plaintiff asks for family home attribution\", \"Male plaintiff asks for family home attribution\")"
   ]
  },
  {
   "cell_type": "code",
   "execution_count": 148,
   "metadata": {
    "scrolled": true
   },
   "outputs": [
    {
     "name": "stdout",
     "output_type": "stream",
     "text": [
      "PLAIN_ML = 0 -->  RQ_FH_SP: Counter({0: 744, 1: 9})\n",
      "\n",
      "Female plaintiff asks for family home suppression: 1.2%\n",
      "\n",
      "PLAIN_ML = 1 -->  RQ_FH_SP: Counter({0: 1066, 1: 65})\n",
      "\n",
      "Male plaintiff asks for family home suppression: 5.75%\n"
     ]
    }
   ],
   "source": [
    "base_rates.percentages_by_group(df, \"RQ_FH_SP\", \"PLAIN_ML\", \"Female plaintiff asks for family home suppression\", \"Male plaintiff asks for family home suppression\")"
   ]
  },
  {
   "cell_type": "markdown",
   "metadata": {},
   "source": [
    "<div class=\"alert alert-block alert-warning col-md-12\">\n",
    "\n",
    "<p>\n",
    "For the family home attribution or suppression request, we can see the same pattern as in the maintenance payments request, although the differences are not that extreme.</p>\n",
    "\n",
    "</div>"
   ]
  },
  {
   "cell_type": "markdown",
   "metadata": {},
   "source": [
    "#### Family home request (attribution and suppression) - sole custody"
   ]
  },
  {
   "cell_type": "code",
   "execution_count": 149,
   "metadata": {},
   "outputs": [
    {
     "name": "stdout",
     "output_type": "stream",
     "text": [
      "PLAIN_ML = 0 -->  RQ_FH_AT: Counter({0: 571, 1: 80})\n",
      "\n",
      "Female plaintiff asks for family home attribution: 12.29%\n",
      "\n",
      "PLAIN_ML = 1 -->  RQ_FH_AT: Counter({0: 187, 1: 15})\n",
      "\n",
      "Male plaintiff asks for family home attribution: 7.43%\n"
     ]
    }
   ],
   "source": [
    "base_rates.percentages_by_group(df_request_sole, \"RQ_FH_AT\", \"PLAIN_ML\", \"Female plaintiff asks for family home attribution\", \"Male plaintiff asks for family home attribution\")"
   ]
  },
  {
   "cell_type": "code",
   "execution_count": 150,
   "metadata": {},
   "outputs": [
    {
     "name": "stdout",
     "output_type": "stream",
     "text": [
      "PLAIN_ML = 0 -->  RQ_FH_SP: Counter({0: 647, 1: 4})\n",
      "\n",
      "Female plaintiff asks for family home suppression: 0.61%\n",
      "\n",
      "PLAIN_ML = 1 -->  RQ_FH_SP: Counter({0: 198, 1: 4})\n",
      "\n",
      "Male plaintiff asks for family home suppression: 1.98%\n"
     ]
    }
   ],
   "source": [
    "base_rates.percentages_by_group(df_request_sole, \"RQ_FH_SP\", \"PLAIN_ML\", \"Female plaintiff asks for family home suppression\", \"Male plaintiff asks for family home suppression\")"
   ]
  },
  {
   "cell_type": "markdown",
   "metadata": {},
   "source": [
    "#### Family home request (attribution and suppression) - joint custody"
   ]
  },
  {
   "cell_type": "code",
   "execution_count": 151,
   "metadata": {},
   "outputs": [
    {
     "name": "stdout",
     "output_type": "stream",
     "text": [
      "PLAIN_ML = 0 -->  RQ_FH_AT: Counter({0: 95, 1: 7})\n",
      "\n",
      "Female plaintiff asks for family home attribution: 6.86%\n",
      "\n",
      "PLAIN_ML = 1 -->  RQ_FH_AT: Counter({0: 852, 1: 77})\n",
      "\n",
      "Male plaintiff asks for family home attribution: 8.29%\n"
     ]
    }
   ],
   "source": [
    "base_rates.percentages_by_group(df_request_joint, \"RQ_FH_AT\", \"PLAIN_ML\", \"Female plaintiff asks for family home attribution\", \"Male plaintiff asks for family home attribution\")"
   ]
  },
  {
   "cell_type": "code",
   "execution_count": 152,
   "metadata": {},
   "outputs": [
    {
     "name": "stdout",
     "output_type": "stream",
     "text": [
      "PLAIN_ML = 0 -->  RQ_FH_SP: Counter({0: 97, 1: 5})\n",
      "\n",
      "Female plaintiff asks for family home suppression: 4.9%\n",
      "\n",
      "PLAIN_ML = 1 -->  RQ_FH_SP: Counter({0: 868, 1: 61})\n",
      "\n",
      "Male plaintiff asks for family home suppression: 6.57%\n"
     ]
    }
   ],
   "source": [
    "base_rates.percentages_by_group(df_request_joint, \"RQ_FH_SP\", \"PLAIN_ML\", \"Female plaintiff asks for family home suppression\", \"Male plaintiff asks for family home suppression\")"
   ]
  },
  {
   "cell_type": "markdown",
   "metadata": {},
   "source": [
    "## Location"
   ]
  },
  {
   "cell_type": "code",
   "execution_count": 153,
   "metadata": {},
   "outputs": [
    {
     "data": {
      "text/plain": [
       "[('Cataluña', 321),\n",
       " ('Andalucía', 255),\n",
       " ('Castilla y León', 250),\n",
       " ('Comunidad de Madrid', 224),\n",
       " ('Comunidad Valenciana', 147),\n",
       " ('Castilla-La Mancha', 82),\n",
       " ('Galicia', 81),\n",
       " ('Islas Baleares', 74),\n",
       " ('Asturias', 70),\n",
       " ('País Vasco', 69),\n",
       " ('Aragón', 69),\n",
       " ('Región de Murcia', 52),\n",
       " ('Navarra', 43),\n",
       " ('Extremadura', 42),\n",
       " ('Cantabria', 30),\n",
       " ('Castilla - La Mancha', 27),\n",
       " ('Canarias', 27),\n",
       " ('La Rioja', 14),\n",
       " ('Galícia', 4),\n",
       " ('Melilla', 3)]"
      ]
     },
     "execution_count": 153,
     "metadata": {},
     "output_type": "execute_result"
    }
   ],
   "source": [
    "Counter(df[\"AUT_COMM\"]).most_common()"
   ]
  },
  {
   "cell_type": "code",
   "execution_count": 154,
   "metadata": {},
   "outputs": [
    {
     "data": {
      "image/png": "[encoded data removed]",
      "text/plain": [
       "<Figure size 2000x400 with 1 Axes>"
      ]
     },
     "metadata": {},
     "output_type": "display_data"
    }
   ],
   "source": [
    "fig = plt.figure(figsize=(20,4))\n",
    "df[\"AUT_COMM\"].value_counts(sort=True).plot.bar()\n",
    "plt.title(\"Number of sentences by autonomous community\")\n",
    "plt.show()"
   ]
  },
  {
   "cell_type": "code",
   "execution_count": 155,
   "metadata": {},
   "outputs": [
    {
     "name": "stdout",
     "output_type": "stream",
     "text": [
      "Mean sentences by region: 94.2\n",
      "Standard deviation of sentences by region: 91.37\n"
     ]
    }
   ],
   "source": [
    "num_sentences_by_region = Counter(df[\"AUT_COMM\"]).most_common()\n",
    "num_sentences_by_region_dict = dict((x, y) for x, y in num_sentences_by_region)\n",
    "dict_v = list(num_sentences_by_region_dict.values())\n",
    "\n",
    "print(\"Mean sentences by region: \" + str(np.mean(dict_v)))\n",
    "print(\"Standard deviation of sentences by region: \" + str(round(np.std(dict_v),2)))"
   ]
  },
  {
   "cell_type": "code",
   "execution_count": 156,
   "metadata": {},
   "outputs": [
    {
     "data": {
      "text/plain": [
       "{'Cataluña': 321,\n",
       " 'Andalucía': 255,\n",
       " 'Castilla y León': 250,\n",
       " 'Comunidad de Madrid': 224,\n",
       " 'Comunidad Valenciana': 147,\n",
       " 'Castilla-La Mancha': 82,\n",
       " 'Galicia': 81,\n",
       " 'Islas Baleares': 74,\n",
       " 'Asturias': 70,\n",
       " 'País Vasco': 69,\n",
       " 'Aragón': 69,\n",
       " 'Región de Murcia': 52,\n",
       " 'Navarra': 43,\n",
       " 'Extremadura': 42,\n",
       " 'Cantabria': 30,\n",
       " 'Castilla - La Mancha': 27,\n",
       " 'Canarias': 27,\n",
       " 'La Rioja': 14,\n",
       " 'Galícia': 4,\n",
       " 'Melilla': 3}"
      ]
     },
     "execution_count": 156,
     "metadata": {},
     "output_type": "execute_result"
    }
   ],
   "source": [
    "num_sentences_by_region_dict"
   ]
  },
  {
   "cell_type": "markdown",
   "metadata": {},
   "source": [
    "## Unique judges"
   ]
  },
  {
   "cell_type": "code",
   "execution_count": 157,
   "metadata": {},
   "outputs": [
    {
     "data": {
      "text/plain": [
       "[(31, 38),\n",
       " (152, 31),\n",
       " (3, 29),\n",
       " (101, 29),\n",
       " (30, 25),\n",
       " (147, 25),\n",
       " (148, 25),\n",
       " (151, 25),\n",
       " (27, 24),\n",
       " (23, 23),\n",
       " (153, 23),\n",
       " (264, 23),\n",
       " (21, 21),\n",
       " (159, 21),\n",
       " (118, 20),\n",
       " (29, 19),\n",
       " (19, 18),\n",
       " (46, 18),\n",
       " (246, 18),\n",
       " (244, 17),\n",
       " (251, 17),\n",
       " (282, 17),\n",
       " (26, 16),\n",
       " (67, 16),\n",
       " (102, 16),\n",
       " (284, 16),\n",
       " (287, 16),\n",
       " (156, 15),\n",
       " (306, 15),\n",
       " (307, 15),\n",
       " (1, 14),\n",
       " (119, 14),\n",
       " (120, 14),\n",
       " (267, 14),\n",
       " (285, 14),\n",
       " (22, 13),\n",
       " (66, 13),\n",
       " (243, 13),\n",
       " (245, 13),\n",
       " (289, 13),\n",
       " (186, 12),\n",
       " (272, 12),\n",
       " (288, 12),\n",
       " (10, 11),\n",
       " (32, 11),\n",
       " (150, 11),\n",
       " (230, 11),\n",
       " (293, 11),\n",
       " (309, 11),\n",
       " (115, 10),\n",
       " (123, 10),\n",
       " (178, 10),\n",
       " (179, 10),\n",
       " (235, 10),\n",
       " (266, 10),\n",
       " (0, 9),\n",
       " (17, 9),\n",
       " (25, 9),\n",
       " (42, 9),\n",
       " (44, 9),\n",
       " (79, 9),\n",
       " (161, 9),\n",
       " (184, 9),\n",
       " (187, 9),\n",
       " (273, 9),\n",
       " (292, 9),\n",
       " (310, 9),\n",
       " (9, 8),\n",
       " (11, 8),\n",
       " (33, 8),\n",
       " (48, 8),\n",
       " (49, 8),\n",
       " (77, 8),\n",
       " (85, 8),\n",
       " (103, 8),\n",
       " (155, 8),\n",
       " (181, 8),\n",
       " (239, 8),\n",
       " (247, 8),\n",
       " (249, 8),\n",
       " (2, 7),\n",
       " (43, 7),\n",
       " (73, 7),\n",
       " (76, 7),\n",
       " (78, 7),\n",
       " (82, 7),\n",
       " (104, 7),\n",
       " (130, 7),\n",
       " (194, 7),\n",
       " (198, 7),\n",
       " (237, 7),\n",
       " (308, 7),\n",
       " (47, 6),\n",
       " (68, 6),\n",
       " (74, 6),\n",
       " (80, 6),\n",
       " (87, 6),\n",
       " (96, 6),\n",
       " (110, 6),\n",
       " (114, 6),\n",
       " (121, 6),\n",
       " (160, 6),\n",
       " (180, 6),\n",
       " (188, 6),\n",
       " (193, 6),\n",
       " (196, 6),\n",
       " (213, 6),\n",
       " (222, 6),\n",
       " (233, 6),\n",
       " (274, 6),\n",
       " (290, 6),\n",
       " (291, 6),\n",
       " (300, 6),\n",
       " (4, 5),\n",
       " (13, 5),\n",
       " (14, 5),\n",
       " (16, 5),\n",
       " (18, 5),\n",
       " (54, 5),\n",
       " (55, 5),\n",
       " (61, 5),\n",
       " (72, 5),\n",
       " (84, 5),\n",
       " (88, 5),\n",
       " (98, 5),\n",
       " (107, 5),\n",
       " (109, 5),\n",
       " (129, 5),\n",
       " (137, 5),\n",
       " (149, 5),\n",
       " (154, 5),\n",
       " (158, 5),\n",
       " (182, 5),\n",
       " (206, 5),\n",
       " (220, 5),\n",
       " (234, 5),\n",
       " (256, 5),\n",
       " (268, 5),\n",
       " (12, 4),\n",
       " (15, 4),\n",
       " (20, 4),\n",
       " (37, 4),\n",
       " (39, 4),\n",
       " (50, 4),\n",
       " (62, 4),\n",
       " (86, 4),\n",
       " (89, 4),\n",
       " (93, 4),\n",
       " (95, 4),\n",
       " (100, 4),\n",
       " (105, 4),\n",
       " (116, 4),\n",
       " (126, 4),\n",
       " (134, 4),\n",
       " (175, 4),\n",
       " (183, 4),\n",
       " (192, 4),\n",
       " (204, 4),\n",
       " (215, 4),\n",
       " (216, 4),\n",
       " (218, 4),\n",
       " (226, 4),\n",
       " (231, 4),\n",
       " (232, 4),\n",
       " (241, 4),\n",
       " (242, 4),\n",
       " (248, 4),\n",
       " (250, 4),\n",
       " (252, 4),\n",
       " (253, 4),\n",
       " (258, 4),\n",
       " (259, 4),\n",
       " (260, 4),\n",
       " (294, 4),\n",
       " (298, 4),\n",
       " (311, 4),\n",
       " (6, 3),\n",
       " (28, 3),\n",
       " (34, 3),\n",
       " (35, 3),\n",
       " (36, 3),\n",
       " (52, 3),\n",
       " (59, 3),\n",
       " (70, 3),\n",
       " (83, 3),\n",
       " (113, 3),\n",
       " (117, 3),\n",
       " (131, 3),\n",
       " (138, 3),\n",
       " (139, 3),\n",
       " (165, 3),\n",
       " (168, 3),\n",
       " (171, 3),\n",
       " (176, 3),\n",
       " (197, 3),\n",
       " (199, 3),\n",
       " (202, 3),\n",
       " (203, 3),\n",
       " (205, 3),\n",
       " (207, 3),\n",
       " (208, 3),\n",
       " (210, 3),\n",
       " (214, 3),\n",
       " (219, 3),\n",
       " (227, 3),\n",
       " (229, 3),\n",
       " (240, 3),\n",
       " (261, 3),\n",
       " (270, 3),\n",
       " (276, 3),\n",
       " (286, 3),\n",
       " (312, 3),\n",
       " (5, 2),\n",
       " (24, 2),\n",
       " (38, 2),\n",
       " (40, 2),\n",
       " (41, 2),\n",
       " (45, 2),\n",
       " (51, 2),\n",
       " (57, 2),\n",
       " (71, 2),\n",
       " (97, 2),\n",
       " (99, 2),\n",
       " (122, 2),\n",
       " (132, 2),\n",
       " (142, 2),\n",
       " (143, 2),\n",
       " (157, 2),\n",
       " (162, 2),\n",
       " (163, 2),\n",
       " (164, 2),\n",
       " (170, 2),\n",
       " (172, 2),\n",
       " (174, 2),\n",
       " (177, 2),\n",
       " (185, 2),\n",
       " (190, 2),\n",
       " (191, 2),\n",
       " (195, 2),\n",
       " (200, 2),\n",
       " (201, 2),\n",
       " (212, 2),\n",
       " (217, 2),\n",
       " (221, 2),\n",
       " (223, 2),\n",
       " (225, 2),\n",
       " (236, 2),\n",
       " (257, 2),\n",
       " (265, 2),\n",
       " (269, 2),\n",
       " (277, 2),\n",
       " (279, 2),\n",
       " (295, 2),\n",
       " (296, 2),\n",
       " (297, 2),\n",
       " (299, 2),\n",
       " (301, 2),\n",
       " (304, 2),\n",
       " (313, 2),\n",
       " (7, 1),\n",
       " (8, 1),\n",
       " (53, 1),\n",
       " (56, 1),\n",
       " (58, 1),\n",
       " (60, 1),\n",
       " (63, 1),\n",
       " (64, 1),\n",
       " (65, 1),\n",
       " (69, 1),\n",
       " (75, 1),\n",
       " (81, 1),\n",
       " (90, 1),\n",
       " (91, 1),\n",
       " (92, 1),\n",
       " (94, 1),\n",
       " (106, 1),\n",
       " (108, 1),\n",
       " (111, 1),\n",
       " (112, 1),\n",
       " (124, 1),\n",
       " (125, 1),\n",
       " (127, 1),\n",
       " (128, 1),\n",
       " (133, 1),\n",
       " (135, 1),\n",
       " (136, 1),\n",
       " (140, 1),\n",
       " (141, 1),\n",
       " (144, 1),\n",
       " (145, 1),\n",
       " (146, 1),\n",
       " (166, 1),\n",
       " (167, 1),\n",
       " (169, 1),\n",
       " (173, 1),\n",
       " (189, 1),\n",
       " (209, 1),\n",
       " (211, 1),\n",
       " (224, 1),\n",
       " (228, 1),\n",
       " (238, 1),\n",
       " (254, 1),\n",
       " (255, 1),\n",
       " (262, 1),\n",
       " (263, 1),\n",
       " (271, 1),\n",
       " (275, 1),\n",
       " (278, 1),\n",
       " (280, 1),\n",
       " (281, 1),\n",
       " (283, 1),\n",
       " (302, 1),\n",
       " (303, 1),\n",
       " (305, 1)]"
      ]
     },
     "execution_count": 157,
     "metadata": {},
     "output_type": "execute_result"
    }
   ],
   "source": [
    "Counter(df[\"JUDGE_ID\"]).most_common()"
   ]
  },
  {
   "cell_type": "code",
   "execution_count": 158,
   "metadata": {},
   "outputs": [
    {
     "data": {
      "image/png": "[encoded data removed]",
      "text/plain": [
       "<Figure size 2000x400 with 1 Axes>"
      ]
     },
     "metadata": {},
     "output_type": "display_data"
    }
   ],
   "source": [
    "fig = plt.figure(figsize=(20,4))\n",
    "df[\"JUDGE_ID\"].value_counts(sort=True).plot.bar()\n",
    "plt.title(\"Judge id\")\n",
    "plt.show()"
   ]
  },
  {
   "cell_type": "markdown",
   "metadata": {},
   "source": [
    "### Gender distribution"
   ]
  },
  {
   "cell_type": "code",
   "execution_count": 159,
   "metadata": {},
   "outputs": [
    {
     "name": "stdout",
     "output_type": "stream",
     "text": [
      "The number of unique judges is: 314\n"
     ]
    }
   ],
   "source": [
    "print(\"The number of unique judges is: \" + str(len(df[\"JUDGE_ID\"].unique())))"
   ]
  },
  {
   "cell_type": "code",
   "execution_count": 160,
   "metadata": {},
   "outputs": [
    {
     "name": "stdout",
     "output_type": "stream",
     "text": [
      "314\n"
     ]
    },
    {
     "data": {
      "text/html": [
       "<div>\n",
       "<style scoped>\n",
       "    .dataframe tbody tr th:only-of-type {\n",
       "        vertical-align: middle;\n",
       "    }\n",
       "\n",
       "    .dataframe tbody tr th {\n",
       "        vertical-align: top;\n",
       "    }\n",
       "\n",
       "    .dataframe thead th {\n",
       "        text-align: right;\n",
       "    }\n",
       "</style>\n",
       "<table border=\"1\" class=\"dataframe\">\n",
       "  <thead>\n",
       "    <tr style=\"text-align: right;\">\n",
       "      <th></th>\n",
       "      <th>DATE</th>\n",
       "      <th>YEAR</th>\n",
       "      <th>Train</th>\n",
       "      <th>ID</th>\n",
       "      <th>URL</th>\n",
       "      <th>HQ</th>\n",
       "      <th>AUT_COMM</th>\n",
       "      <th>PLAIN_ML</th>\n",
       "      <th>PLAIN_WO</th>\n",
       "      <th>DEFEN_ML</th>\n",
       "      <th>...</th>\n",
       "      <th>FT_AG</th>\n",
       "      <th>LN_JNPREF_b</th>\n",
       "      <th>LN_JNPREF</th>\n",
       "      <th>FT_SL_IN_b</th>\n",
       "      <th>FT_JN_IN_b</th>\n",
       "      <th>FT_SL_IN</th>\n",
       "      <th>FT_JN_IN</th>\n",
       "      <th>JUDGE_ML</th>\n",
       "      <th>JUDGE_ID</th>\n",
       "      <th>Unnamed: 113</th>\n",
       "    </tr>\n",
       "  </thead>\n",
       "  <tbody>\n",
       "    <tr>\n",
       "      <th>0</th>\n",
       "      <td>43362</td>\n",
       "      <td>2018</td>\n",
       "      <td>1</td>\n",
       "      <td>APA_2018_3010</td>\n",
       "      <td>http://labje.unizar.es/sentencias/APA_2018_301...</td>\n",
       "      <td>Alicante</td>\n",
       "      <td>Comunidad Valenciana</td>\n",
       "      <td>1</td>\n",
       "      <td>0</td>\n",
       "      <td>0</td>\n",
       "      <td>...</td>\n",
       "      <td>0</td>\n",
       "      <td>0</td>\n",
       "      <td>0</td>\n",
       "      <td>3</td>\n",
       "      <td>2</td>\n",
       "      <td>5</td>\n",
       "      <td>4</td>\n",
       "      <td>1</td>\n",
       "      <td>0</td>\n",
       "      <td>NaN</td>\n",
       "    </tr>\n",
       "    <tr>\n",
       "      <th>1</th>\n",
       "      <td>43621</td>\n",
       "      <td>2019</td>\n",
       "      <td>0</td>\n",
       "      <td>APA_2019_1490</td>\n",
       "      <td>http://labje.unizar.es/sentencias/APA_2019_149...</td>\n",
       "      <td>Alicante</td>\n",
       "      <td>Comunidad Valenciana</td>\n",
       "      <td>1</td>\n",
       "      <td>0</td>\n",
       "      <td>0</td>\n",
       "      <td>...</td>\n",
       "      <td>0</td>\n",
       "      <td>0</td>\n",
       "      <td>0</td>\n",
       "      <td>1</td>\n",
       "      <td>1</td>\n",
       "      <td>1</td>\n",
       "      <td>3</td>\n",
       "      <td>1</td>\n",
       "      <td>1</td>\n",
       "      <td>NaN</td>\n",
       "    </tr>\n",
       "    <tr>\n",
       "      <th>3</th>\n",
       "      <td>43600</td>\n",
       "      <td>2019</td>\n",
       "      <td>0</td>\n",
       "      <td>APA_2019_1500</td>\n",
       "      <td>http://labje.unizar.es/sentencias/APA_2019_150...</td>\n",
       "      <td>Alicante</td>\n",
       "      <td>Comunidad Valenciana</td>\n",
       "      <td>1</td>\n",
       "      <td>0</td>\n",
       "      <td>0</td>\n",
       "      <td>...</td>\n",
       "      <td>0</td>\n",
       "      <td>0</td>\n",
       "      <td>0</td>\n",
       "      <td>2</td>\n",
       "      <td>1</td>\n",
       "      <td>3</td>\n",
       "      <td>2</td>\n",
       "      <td>0</td>\n",
       "      <td>2</td>\n",
       "      <td>NaN</td>\n",
       "    </tr>\n",
       "  </tbody>\n",
       "</table>\n",
       "<p>3 rows × 117 columns</p>\n",
       "</div>"
      ],
      "text/plain": [
       "    DATE  YEAR  Train             ID  \\\n",
       "0  43362  2018      1  APA_2018_3010   \n",
       "1  43621  2019      0  APA_2019_1490   \n",
       "3  43600  2019      0  APA_2019_1500   \n",
       "\n",
       "                                                 URL        HQ  \\\n",
       "0  http://labje.unizar.es/sentencias/APA_2018_301...  Alicante   \n",
       "1  http://labje.unizar.es/sentencias/APA_2019_149...  Alicante   \n",
       "3  http://labje.unizar.es/sentencias/APA_2019_150...  Alicante   \n",
       "\n",
       "               AUT_COMM  PLAIN_ML  PLAIN_WO  DEFEN_ML  ...  FT_AG  \\\n",
       "0  Comunidad Valenciana         1         0         0  ...      0   \n",
       "1  Comunidad Valenciana         1         0         0  ...      0   \n",
       "3  Comunidad Valenciana         1         0         0  ...      0   \n",
       "\n",
       "   LN_JNPREF_b  LN_JNPREF  FT_SL_IN_b  FT_JN_IN_b  FT_SL_IN  FT_JN_IN  \\\n",
       "0            0          0           3           2         5         4   \n",
       "1            0          0           1           1         1         3   \n",
       "3            0          0           2           1         3         2   \n",
       "\n",
       "   JUDGE_ML  JUDGE_ID  Unnamed: 113  \n",
       "0         1         0           NaN  \n",
       "1         1         1           NaN  \n",
       "3         0         2           NaN  \n",
       "\n",
       "[3 rows x 117 columns]"
      ]
     },
     "execution_count": 160,
     "metadata": {},
     "output_type": "execute_result"
    }
   ],
   "source": [
    "df_unique_judges = df.drop_duplicates('JUDGE_ID')\n",
    "print(len(df_unique_judges))\n",
    "df_unique_judges.head(3)"
   ]
  },
  {
   "cell_type": "code",
   "execution_count": 161,
   "metadata": {},
   "outputs": [
    {
     "name": "stdout",
     "output_type": "stream",
     "text": [
      "Counter({1: 186, 0: 128})\n",
      "\n",
      "\n",
      "Female plaintiff: 40.76%\n",
      "Male plaintiff: 59.24%\n",
      "\n",
      "\n"
     ]
    },
    {
     "data": {
      "image/png": "[encoded data removed]",
      "text/plain": [
       "<Figure size 640x480 with 1 Axes>"
      ]
     },
     "metadata": {},
     "output_type": "display_data"
    }
   ],
   "source": [
    "base_rates.percentages(df_unique_judges, \"PLAIN_ML\", \"Female plaintiff\", \"Male plaintiff\")"
   ]
  },
  {
   "cell_type": "code",
   "execution_count": null,
   "metadata": {},
   "outputs": [],
   "source": []
  }
 ],
 "metadata": {
  "kernelspec": {
   "display_name": "Python 3.8.3 ('base')",
   "language": "python",
   "name": "python3"
  },
  "language_info": {
   "codemirror_mode": {
    "name": "ipython",
    "version": 3
   },
   "file_extension": ".py",
   "mimetype": "text/x-python",
   "name": "python",
   "nbconvert_exporter": "python",
   "pygments_lexer": "ipython3",
   "version": "3.8.3 (default, Jul  2 2020, 17:30:36) [MSC v.1916 64 bit (AMD64)]"
  },
  "toc": {
   "base_numbering": 1,
   "nav_menu": {},
   "number_sections": true,
   "sideBar": true,
   "skip_h1_title": false,
   "title_cell": "Table of Contents",
   "title_sidebar": "Contents",
   "toc_cell": false,
   "toc_position": {
    "height": "calc(100% - 180px)",
    "left": "10px",
    "top": "150px",
    "width": "284px"
   },
   "toc_section_display": true,
   "toc_window_display": true
  },
  "vscode": {
   "interpreter": {
    "hash": "cb57b3ccfe62c6746bf3247651268e5f45d4314d13d2f08503817b1c05971834"
   }
  }
 },
 "nbformat": 4,
 "nbformat_minor": 2
}
