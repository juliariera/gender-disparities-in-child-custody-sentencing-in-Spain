{
 "cells": [
  {
   "cell_type": "code",
   "execution_count": 57,
   "metadata": {},
   "outputs": [],
   "source": [
    "import pandas as pd\n",
    "\n",
    "import sys  \n",
    "sys.path.append('../')\n",
    "\n",
    "import modules.data_wrangling.feature_selection as feature_selection\n",
    "import modules.sentence_similarity.distances as distances\n",
    "\n",
    "import modules.exploratory_data_analysis.base_rates as base_rates\n",
    "\n",
    "from importlib import reload\n",
    "distances = reload(distances)"
   ]
  },
  {
   "cell_type": "markdown",
   "metadata": {},
   "source": [
    "# Load data"
   ]
  },
  {
   "cell_type": "code",
   "execution_count": 58,
   "metadata": {},
   "outputs": [
    {
     "data": {
      "text/html": [
       "<div>\n",
       "<style scoped>\n",
       "    .dataframe tbody tr th:only-of-type {\n",
       "        vertical-align: middle;\n",
       "    }\n",
       "\n",
       "    .dataframe tbody tr th {\n",
       "        vertical-align: top;\n",
       "    }\n",
       "\n",
       "    .dataframe thead th {\n",
       "        text-align: right;\n",
       "    }\n",
       "</style>\n",
       "<table border=\"1\" class=\"dataframe\">\n",
       "  <thead>\n",
       "    <tr style=\"text-align: right;\">\n",
       "      <th></th>\n",
       "      <th>ID</th>\n",
       "      <th>URL</th>\n",
       "      <th>DATE</th>\n",
       "      <th>YEAR</th>\n",
       "      <th>HQ</th>\n",
       "      <th>AUT_COMM</th>\n",
       "      <th>JUDGE_ID</th>\n",
       "      <th>JUDGE_ML</th>\n",
       "      <th>PLAIN_ML</th>\n",
       "      <th>DEFEN_ML</th>\n",
       "      <th>...</th>\n",
       "      <th>LN_JNPREF_b</th>\n",
       "      <th>LN_JNPREF</th>\n",
       "      <th>CD_JOINT</th>\n",
       "      <th>CD_JO_CF</th>\n",
       "      <th>WIN_SL</th>\n",
       "      <th>WINWIN</th>\n",
       "      <th>CD_FH_AT</th>\n",
       "      <th>CD_FH_SP</th>\n",
       "      <th>CD_MP_AT</th>\n",
       "      <th>CD_MP_SP</th>\n",
       "    </tr>\n",
       "  </thead>\n",
       "  <tbody>\n",
       "    <tr>\n",
       "      <th>0</th>\n",
       "      <td>APA_2018_3010</td>\n",
       "      <td>http://labje.unizar.es/sentencias/APA_2018_301...</td>\n",
       "      <td>43362</td>\n",
       "      <td>2018</td>\n",
       "      <td>Alicante</td>\n",
       "      <td>Comunidad Valenciana</td>\n",
       "      <td>0</td>\n",
       "      <td>1</td>\n",
       "      <td>1</td>\n",
       "      <td>0</td>\n",
       "      <td>...</td>\n",
       "      <td>0</td>\n",
       "      <td>0.0</td>\n",
       "      <td>0</td>\n",
       "      <td>0</td>\n",
       "      <td>0</td>\n",
       "      <td>0</td>\n",
       "      <td>0</td>\n",
       "      <td>0</td>\n",
       "      <td>1</td>\n",
       "      <td>0</td>\n",
       "    </tr>\n",
       "    <tr>\n",
       "      <th>1</th>\n",
       "      <td>APA_2019_1490</td>\n",
       "      <td>http://labje.unizar.es/sentencias/APA_2019_149...</td>\n",
       "      <td>43621</td>\n",
       "      <td>2019</td>\n",
       "      <td>Alicante</td>\n",
       "      <td>Comunidad Valenciana</td>\n",
       "      <td>1</td>\n",
       "      <td>1</td>\n",
       "      <td>1</td>\n",
       "      <td>0</td>\n",
       "      <td>...</td>\n",
       "      <td>0</td>\n",
       "      <td>0.0</td>\n",
       "      <td>0</td>\n",
       "      <td>0</td>\n",
       "      <td>0</td>\n",
       "      <td>0</td>\n",
       "      <td>0</td>\n",
       "      <td>0</td>\n",
       "      <td>0</td>\n",
       "      <td>0</td>\n",
       "    </tr>\n",
       "    <tr>\n",
       "      <th>2</th>\n",
       "      <td>APA_2019_1497</td>\n",
       "      <td>http://labje.unizar.es/sentencias/APA_2019_149...</td>\n",
       "      <td>43607</td>\n",
       "      <td>2019</td>\n",
       "      <td>Alicante</td>\n",
       "      <td>Comunidad Valenciana</td>\n",
       "      <td>1</td>\n",
       "      <td>1</td>\n",
       "      <td>1</td>\n",
       "      <td>0</td>\n",
       "      <td>...</td>\n",
       "      <td>0</td>\n",
       "      <td>0.0</td>\n",
       "      <td>0</td>\n",
       "      <td>0</td>\n",
       "      <td>0</td>\n",
       "      <td>0</td>\n",
       "      <td>1</td>\n",
       "      <td>0</td>\n",
       "      <td>1</td>\n",
       "      <td>0</td>\n",
       "    </tr>\n",
       "    <tr>\n",
       "      <th>3</th>\n",
       "      <td>APA_2019_1500</td>\n",
       "      <td>http://labje.unizar.es/sentencias/APA_2019_150...</td>\n",
       "      <td>43600</td>\n",
       "      <td>2019</td>\n",
       "      <td>Alicante</td>\n",
       "      <td>Comunidad Valenciana</td>\n",
       "      <td>2</td>\n",
       "      <td>0</td>\n",
       "      <td>1</td>\n",
       "      <td>0</td>\n",
       "      <td>...</td>\n",
       "      <td>0</td>\n",
       "      <td>0.0</td>\n",
       "      <td>0</td>\n",
       "      <td>0</td>\n",
       "      <td>0</td>\n",
       "      <td>0</td>\n",
       "      <td>0</td>\n",
       "      <td>0</td>\n",
       "      <td>1</td>\n",
       "      <td>0</td>\n",
       "    </tr>\n",
       "    <tr>\n",
       "      <th>4</th>\n",
       "      <td>APA_2019_15542</td>\n",
       "      <td>http://labje.unizar.es/sentencias/APA_2019_155...</td>\n",
       "      <td>43818</td>\n",
       "      <td>2019</td>\n",
       "      <td>Barcelona</td>\n",
       "      <td>Cataluña</td>\n",
       "      <td>3</td>\n",
       "      <td>1</td>\n",
       "      <td>1</td>\n",
       "      <td>0</td>\n",
       "      <td>...</td>\n",
       "      <td>0</td>\n",
       "      <td>0.0</td>\n",
       "      <td>0</td>\n",
       "      <td>0</td>\n",
       "      <td>0</td>\n",
       "      <td>0</td>\n",
       "      <td>0</td>\n",
       "      <td>0</td>\n",
       "      <td>0</td>\n",
       "      <td>0</td>\n",
       "    </tr>\n",
       "  </tbody>\n",
       "</table>\n",
       "<p>5 rows × 49 columns</p>\n",
       "</div>"
      ],
      "text/plain": [
       "               ID                                                URL   DATE  \\\n",
       "0   APA_2018_3010  http://labje.unizar.es/sentencias/APA_2018_301...  43362   \n",
       "1   APA_2019_1490  http://labje.unizar.es/sentencias/APA_2019_149...  43621   \n",
       "2   APA_2019_1497  http://labje.unizar.es/sentencias/APA_2019_149...  43607   \n",
       "3   APA_2019_1500  http://labje.unizar.es/sentencias/APA_2019_150...  43600   \n",
       "4  APA_2019_15542  http://labje.unizar.es/sentencias/APA_2019_155...  43818   \n",
       "\n",
       "   YEAR         HQ              AUT_COMM  JUDGE_ID  JUDGE_ML  PLAIN_ML  \\\n",
       "0  2018   Alicante  Comunidad Valenciana         0         1         1   \n",
       "1  2019   Alicante  Comunidad Valenciana         1         1         1   \n",
       "2  2019   Alicante  Comunidad Valenciana         1         1         1   \n",
       "3  2019   Alicante  Comunidad Valenciana         2         0         1   \n",
       "4  2019  Barcelona              Cataluña         3         1         1   \n",
       "\n",
       "   DEFEN_ML  ...  LN_JNPREF_b  LN_JNPREF  CD_JOINT  CD_JO_CF  WIN_SL  WINWIN  \\\n",
       "0         0  ...            0        0.0         0         0       0       0   \n",
       "1         0  ...            0        0.0         0         0       0       0   \n",
       "2         0  ...            0        0.0         0         0       0       0   \n",
       "3         0  ...            0        0.0         0         0       0       0   \n",
       "4         0  ...            0        0.0         0         0       0       0   \n",
       "\n",
       "   CD_FH_AT  CD_FH_SP  CD_MP_AT  CD_MP_SP  \n",
       "0         0         0         1         0  \n",
       "1         0         0         0         0  \n",
       "2         1         0         1         0  \n",
       "3         0         0         1         0  \n",
       "4         0         0         0         0  \n",
       "\n",
       "[5 rows x 49 columns]"
      ]
     },
     "execution_count": 58,
     "metadata": {},
     "output_type": "execute_result"
    }
   ],
   "source": [
    "df = pd.read_csv(\"..\\..\\output\\df_cleaned.csv\", sep=\";\")\n",
    "df.head()"
   ]
  },
  {
   "attachments": {},
   "cell_type": "markdown",
   "metadata": {},
   "source": [
    "# Compute distances"
   ]
  },
  {
   "attachments": {},
   "cell_type": "markdown",
   "metadata": {},
   "source": [
    "## Distance 1 (D1) - All"
   ]
  },
  {
   "attachments": {},
   "cell_type": "markdown",
   "metadata": {},
   "source": [
    "Euclidean distance considering all the arguments used by the court as well as all the request variables"
   ]
  },
  {
   "attachments": {},
   "cell_type": "markdown",
   "metadata": {},
   "source": [
    "### Get similarity cols"
   ]
  },
  {
   "cell_type": "code",
   "execution_count": 59,
   "metadata": {},
   "outputs": [
    {
     "data": {
      "text/plain": [
       "86"
      ]
     },
     "execution_count": 59,
     "metadata": {},
     "output_type": "execute_result"
    }
   ],
   "source": [
    "D1_cols = pd.read_csv(\"D1_cols.csv\", sep=\";\")\n",
    "cols_similarity = list(D1_cols[\"0\"])\n",
    "len(cols_similarity)"
   ]
  },
  {
   "attachments": {},
   "cell_type": "markdown",
   "metadata": {},
   "source": [
    "### Get similarity df"
   ]
  },
  {
   "cell_type": "code",
   "execution_count": 60,
   "metadata": {},
   "outputs": [
    {
     "data": {
      "text/html": [
       "<div>\n",
       "<style scoped>\n",
       "    .dataframe tbody tr th:only-of-type {\n",
       "        vertical-align: middle;\n",
       "    }\n",
       "\n",
       "    .dataframe tbody tr th {\n",
       "        vertical-align: top;\n",
       "    }\n",
       "\n",
       "    .dataframe thead th {\n",
       "        text-align: right;\n",
       "    }\n",
       "</style>\n",
       "<table border=\"1\" class=\"dataframe\">\n",
       "  <thead>\n",
       "    <tr style=\"text-align: right;\">\n",
       "      <th></th>\n",
       "      <th>JUDGE_ML</th>\n",
       "      <th>PLAIN_ML</th>\n",
       "      <th>DEFEN_ML</th>\n",
       "      <th>RQ_JOINT</th>\n",
       "      <th>RQ_FH_AT</th>\n",
       "      <th>RQ_FH_SP</th>\n",
       "      <th>RQ_MP_AT</th>\n",
       "      <th>RQ_MP_SP</th>\n",
       "      <th>LP_BI_b</th>\n",
       "      <th>LP_BI</th>\n",
       "      <th>...</th>\n",
       "      <th>FT_RA_b</th>\n",
       "      <th>FT_RA</th>\n",
       "      <th>FT_RD_b</th>\n",
       "      <th>FT_RD</th>\n",
       "      <th>FT_PD_b</th>\n",
       "      <th>FT_PD</th>\n",
       "      <th>FT_AG_b</th>\n",
       "      <th>FT_AG</th>\n",
       "      <th>LN_JNPREF_b</th>\n",
       "      <th>LN_JNPREF</th>\n",
       "    </tr>\n",
       "  </thead>\n",
       "  <tbody>\n",
       "    <tr>\n",
       "      <th>0</th>\n",
       "      <td>1</td>\n",
       "      <td>1</td>\n",
       "      <td>0</td>\n",
       "      <td>1</td>\n",
       "      <td>0</td>\n",
       "      <td>0</td>\n",
       "      <td>0</td>\n",
       "      <td>1</td>\n",
       "      <td>0.0</td>\n",
       "      <td>0.40</td>\n",
       "      <td>...</td>\n",
       "      <td>0.0</td>\n",
       "      <td>0.419355</td>\n",
       "      <td>1.0</td>\n",
       "      <td>0.53125</td>\n",
       "      <td>0.5</td>\n",
       "      <td>0.6</td>\n",
       "      <td>0.5</td>\n",
       "      <td>0.428571</td>\n",
       "      <td>0</td>\n",
       "      <td>0.0</td>\n",
       "    </tr>\n",
       "    <tr>\n",
       "      <th>1</th>\n",
       "      <td>1</td>\n",
       "      <td>1</td>\n",
       "      <td>0</td>\n",
       "      <td>1</td>\n",
       "      <td>0</td>\n",
       "      <td>0</td>\n",
       "      <td>0</td>\n",
       "      <td>0</td>\n",
       "      <td>0.5</td>\n",
       "      <td>0.44</td>\n",
       "      <td>...</td>\n",
       "      <td>1.0</td>\n",
       "      <td>0.548387</td>\n",
       "      <td>0.0</td>\n",
       "      <td>0.46875</td>\n",
       "      <td>0.5</td>\n",
       "      <td>0.6</td>\n",
       "      <td>0.5</td>\n",
       "      <td>0.428571</td>\n",
       "      <td>0</td>\n",
       "      <td>0.0</td>\n",
       "    </tr>\n",
       "    <tr>\n",
       "      <th>2</th>\n",
       "      <td>1</td>\n",
       "      <td>1</td>\n",
       "      <td>0</td>\n",
       "      <td>1</td>\n",
       "      <td>0</td>\n",
       "      <td>1</td>\n",
       "      <td>0</td>\n",
       "      <td>1</td>\n",
       "      <td>0.5</td>\n",
       "      <td>0.44</td>\n",
       "      <td>...</td>\n",
       "      <td>0.0</td>\n",
       "      <td>0.419355</td>\n",
       "      <td>0.0</td>\n",
       "      <td>0.46875</td>\n",
       "      <td>0.5</td>\n",
       "      <td>0.6</td>\n",
       "      <td>0.5</td>\n",
       "      <td>0.428571</td>\n",
       "      <td>0</td>\n",
       "      <td>0.0</td>\n",
       "    </tr>\n",
       "    <tr>\n",
       "      <th>3</th>\n",
       "      <td>0</td>\n",
       "      <td>1</td>\n",
       "      <td>0</td>\n",
       "      <td>1</td>\n",
       "      <td>0</td>\n",
       "      <td>0</td>\n",
       "      <td>0</td>\n",
       "      <td>1</td>\n",
       "      <td>0.0</td>\n",
       "      <td>0.32</td>\n",
       "      <td>...</td>\n",
       "      <td>0.5</td>\n",
       "      <td>0.451613</td>\n",
       "      <td>0.0</td>\n",
       "      <td>0.46875</td>\n",
       "      <td>0.5</td>\n",
       "      <td>0.6</td>\n",
       "      <td>0.5</td>\n",
       "      <td>0.428571</td>\n",
       "      <td>0</td>\n",
       "      <td>0.0</td>\n",
       "    </tr>\n",
       "    <tr>\n",
       "      <th>4</th>\n",
       "      <td>1</td>\n",
       "      <td>1</td>\n",
       "      <td>0</td>\n",
       "      <td>1</td>\n",
       "      <td>0</td>\n",
       "      <td>0</td>\n",
       "      <td>0</td>\n",
       "      <td>0</td>\n",
       "      <td>0.0</td>\n",
       "      <td>0.40</td>\n",
       "      <td>...</td>\n",
       "      <td>0.0</td>\n",
       "      <td>0.387097</td>\n",
       "      <td>0.5</td>\n",
       "      <td>0.50000</td>\n",
       "      <td>0.5</td>\n",
       "      <td>0.6</td>\n",
       "      <td>0.5</td>\n",
       "      <td>0.428571</td>\n",
       "      <td>0</td>\n",
       "      <td>0.0</td>\n",
       "    </tr>\n",
       "  </tbody>\n",
       "</table>\n",
       "<p>5 rows × 34 columns</p>\n",
       "</div>"
      ],
      "text/plain": [
       "   JUDGE_ML  PLAIN_ML  DEFEN_ML  RQ_JOINT  RQ_FH_AT  RQ_FH_SP  RQ_MP_AT  \\\n",
       "0         1         1         0         1         0         0         0   \n",
       "1         1         1         0         1         0         0         0   \n",
       "2         1         1         0         1         0         1         0   \n",
       "3         0         1         0         1         0         0         0   \n",
       "4         1         1         0         1         0         0         0   \n",
       "\n",
       "   RQ_MP_SP  LP_BI_b  LP_BI  ...  FT_RA_b     FT_RA  FT_RD_b    FT_RD  \\\n",
       "0         1      0.0   0.40  ...      0.0  0.419355      1.0  0.53125   \n",
       "1         0      0.5   0.44  ...      1.0  0.548387      0.0  0.46875   \n",
       "2         1      0.5   0.44  ...      0.0  0.419355      0.0  0.46875   \n",
       "3         1      0.0   0.32  ...      0.5  0.451613      0.0  0.46875   \n",
       "4         0      0.0   0.40  ...      0.0  0.387097      0.5  0.50000   \n",
       "\n",
       "   FT_PD_b  FT_PD  FT_AG_b     FT_AG  LN_JNPREF_b  LN_JNPREF  \n",
       "0      0.5    0.6      0.5  0.428571            0        0.0  \n",
       "1      0.5    0.6      0.5  0.428571            0        0.0  \n",
       "2      0.5    0.6      0.5  0.428571            0        0.0  \n",
       "3      0.5    0.6      0.5  0.428571            0        0.0  \n",
       "4      0.5    0.6      0.5  0.428571            0        0.0  \n",
       "\n",
       "[5 rows x 34 columns]"
      ]
     },
     "execution_count": 60,
     "metadata": {},
     "output_type": "execute_result"
    }
   ],
   "source": [
    "df_similarity_D1 = distances.similarity_df(df, cols_similarity)\n",
    "df_similarity_D1.head()"
   ]
  },
  {
   "attachments": {},
   "cell_type": "markdown",
   "metadata": {},
   "source": [
    "### Get distances"
   ]
  },
  {
   "cell_type": "code",
   "execution_count": 61,
   "metadata": {},
   "outputs": [
    {
     "name": "stdout",
     "output_type": "stream",
     "text": [
      "Euclidean\n"
     ]
    },
    {
     "data": {
      "text/html": [
       "<div>\n",
       "<style scoped>\n",
       "    .dataframe tbody tr th:only-of-type {\n",
       "        vertical-align: middle;\n",
       "    }\n",
       "\n",
       "    .dataframe tbody tr th {\n",
       "        vertical-align: top;\n",
       "    }\n",
       "\n",
       "    .dataframe thead th {\n",
       "        text-align: right;\n",
       "    }\n",
       "</style>\n",
       "<table border=\"1\" class=\"dataframe\">\n",
       "  <thead>\n",
       "    <tr style=\"text-align: right;\">\n",
       "      <th></th>\n",
       "      <th>sentence_1</th>\n",
       "      <th>sentence_2</th>\n",
       "      <th>distance</th>\n",
       "    </tr>\n",
       "  </thead>\n",
       "  <tbody>\n",
       "    <tr>\n",
       "      <th>0</th>\n",
       "      <td>0</td>\n",
       "      <td>1</td>\n",
       "      <td>1.877135</td>\n",
       "    </tr>\n",
       "    <tr>\n",
       "      <th>1</th>\n",
       "      <td>0</td>\n",
       "      <td>2</td>\n",
       "      <td>1.950515</td>\n",
       "    </tr>\n",
       "    <tr>\n",
       "      <th>2</th>\n",
       "      <td>0</td>\n",
       "      <td>3</td>\n",
       "      <td>1.709627</td>\n",
       "    </tr>\n",
       "    <tr>\n",
       "      <th>3</th>\n",
       "      <td>0</td>\n",
       "      <td>4</td>\n",
       "      <td>1.118936</td>\n",
       "    </tr>\n",
       "    <tr>\n",
       "      <th>4</th>\n",
       "      <td>0</td>\n",
       "      <td>5</td>\n",
       "      <td>2.076318</td>\n",
       "    </tr>\n",
       "  </tbody>\n",
       "</table>\n",
       "</div>"
      ],
      "text/plain": [
       "   sentence_1  sentence_2  distance\n",
       "0           0           1  1.877135\n",
       "1           0           2  1.950515\n",
       "2           0           3  1.709627\n",
       "3           0           4  1.118936\n",
       "4           0           5  2.076318"
      ]
     },
     "execution_count": 61,
     "metadata": {},
     "output_type": "execute_result"
    }
   ],
   "source": [
    "df_D1 = distances.get_distances_df(df_similarity_D1)\n",
    "df_D1.head()"
   ]
  },
  {
   "cell_type": "code",
   "execution_count": 62,
   "metadata": {},
   "outputs": [],
   "source": [
    "#df_distances_sorted = df_distances.sort_values(by = \"distance\", ascending = True)\n",
    "#df_distances_sorted"
   ]
  },
  {
   "attachments": {},
   "cell_type": "markdown",
   "metadata": {},
   "source": [
    "### Distances plot"
   ]
  },
  {
   "cell_type": "code",
   "execution_count": 63,
   "metadata": {},
   "outputs": [
    {
     "data": {
      "image/png": "[encoded data removed]",
      "text/plain": [
       "<Figure size 640x480 with 1 Axes>"
      ]
     },
     "metadata": {},
     "output_type": "display_data"
    }
   ],
   "source": [
    "distances.distances_plot(df_D1)"
   ]
  },
  {
   "attachments": {},
   "cell_type": "markdown",
   "metadata": {},
   "source": [
    "### Save data"
   ]
  },
  {
   "cell_type": "code",
   "execution_count": 64,
   "metadata": {},
   "outputs": [],
   "source": [
    "df_D1.to_csv(\"..\\..\\output\\distances_D1.csv\", sep=\";\")"
   ]
  },
  {
   "attachments": {},
   "cell_type": "markdown",
   "metadata": {},
   "source": [
    "## Distance 2 (D2) - Relevant"
   ]
  },
  {
   "attachments": {},
   "cell_type": "markdown",
   "metadata": {},
   "source": [
    "Euclidean distance but only with the variables that were more important for the probability of winning"
   ]
  },
  {
   "attachments": {},
   "cell_type": "markdown",
   "metadata": {},
   "source": [
    "### Get similarity cols"
   ]
  },
  {
   "cell_type": "code",
   "execution_count": 65,
   "metadata": {},
   "outputs": [
    {
     "name": "stdout",
     "output_type": "stream",
     "text": [
      "33\n",
      "33\n"
     ]
    }
   ],
   "source": [
    "D2_cols = pd.read_csv(\"D2_cols.csv\", sep=\";\")\n",
    "\n",
    "relevant_features = list(D2_cols[\"features\"])\n",
    "relevant_weights = list(D2_cols[\"coefficients\"])\n",
    "\n",
    "print(len(relevant_features))\n",
    "print(len(relevant_weights))"
   ]
  },
  {
   "attachments": {},
   "cell_type": "markdown",
   "metadata": {},
   "source": [
    "### Get similarity df"
   ]
  },
  {
   "cell_type": "code",
   "execution_count": 66,
   "metadata": {},
   "outputs": [
    {
     "data": {
      "text/html": [
       "<div>\n",
       "<style scoped>\n",
       "    .dataframe tbody tr th:only-of-type {\n",
       "        vertical-align: middle;\n",
       "    }\n",
       "\n",
       "    .dataframe tbody tr th {\n",
       "        vertical-align: top;\n",
       "    }\n",
       "\n",
       "    .dataframe thead th {\n",
       "        text-align: right;\n",
       "    }\n",
       "</style>\n",
       "<table border=\"1\" class=\"dataframe\">\n",
       "  <thead>\n",
       "    <tr style=\"text-align: right;\">\n",
       "      <th></th>\n",
       "      <th>JUDGE_ML</th>\n",
       "      <th>PLAIN_ML</th>\n",
       "      <th>RQ_JOINT</th>\n",
       "      <th>RQ_FH_AT</th>\n",
       "      <th>RQ_FH_SP</th>\n",
       "      <th>RQ_MP_AT</th>\n",
       "      <th>RQ_MP_SP</th>\n",
       "      <th>LP_BI_b</th>\n",
       "      <th>LP_BI</th>\n",
       "      <th>LP_PE_b</th>\n",
       "      <th>...</th>\n",
       "      <th>FT_RA_b</th>\n",
       "      <th>FT_RA</th>\n",
       "      <th>FT_RD_b</th>\n",
       "      <th>FT_RD</th>\n",
       "      <th>FT_PD_b</th>\n",
       "      <th>FT_PD</th>\n",
       "      <th>FT_AG_b</th>\n",
       "      <th>FT_AG</th>\n",
       "      <th>LN_JNPREF_b</th>\n",
       "      <th>LN_JNPREF</th>\n",
       "    </tr>\n",
       "  </thead>\n",
       "  <tbody>\n",
       "    <tr>\n",
       "      <th>0</th>\n",
       "      <td>1</td>\n",
       "      <td>1</td>\n",
       "      <td>1</td>\n",
       "      <td>0</td>\n",
       "      <td>0</td>\n",
       "      <td>0</td>\n",
       "      <td>1</td>\n",
       "      <td>0.0</td>\n",
       "      <td>0.40</td>\n",
       "      <td>0.5</td>\n",
       "      <td>...</td>\n",
       "      <td>0.0</td>\n",
       "      <td>0.419355</td>\n",
       "      <td>1.0</td>\n",
       "      <td>0.53125</td>\n",
       "      <td>0.5</td>\n",
       "      <td>0.6</td>\n",
       "      <td>0.5</td>\n",
       "      <td>0.428571</td>\n",
       "      <td>0</td>\n",
       "      <td>0.0</td>\n",
       "    </tr>\n",
       "    <tr>\n",
       "      <th>1</th>\n",
       "      <td>1</td>\n",
       "      <td>1</td>\n",
       "      <td>1</td>\n",
       "      <td>0</td>\n",
       "      <td>0</td>\n",
       "      <td>0</td>\n",
       "      <td>0</td>\n",
       "      <td>0.5</td>\n",
       "      <td>0.44</td>\n",
       "      <td>0.5</td>\n",
       "      <td>...</td>\n",
       "      <td>1.0</td>\n",
       "      <td>0.548387</td>\n",
       "      <td>0.0</td>\n",
       "      <td>0.46875</td>\n",
       "      <td>0.5</td>\n",
       "      <td>0.6</td>\n",
       "      <td>0.5</td>\n",
       "      <td>0.428571</td>\n",
       "      <td>0</td>\n",
       "      <td>0.0</td>\n",
       "    </tr>\n",
       "    <tr>\n",
       "      <th>2</th>\n",
       "      <td>1</td>\n",
       "      <td>1</td>\n",
       "      <td>1</td>\n",
       "      <td>0</td>\n",
       "      <td>1</td>\n",
       "      <td>0</td>\n",
       "      <td>1</td>\n",
       "      <td>0.5</td>\n",
       "      <td>0.44</td>\n",
       "      <td>0.5</td>\n",
       "      <td>...</td>\n",
       "      <td>0.0</td>\n",
       "      <td>0.419355</td>\n",
       "      <td>0.0</td>\n",
       "      <td>0.46875</td>\n",
       "      <td>0.5</td>\n",
       "      <td>0.6</td>\n",
       "      <td>0.5</td>\n",
       "      <td>0.428571</td>\n",
       "      <td>0</td>\n",
       "      <td>0.0</td>\n",
       "    </tr>\n",
       "    <tr>\n",
       "      <th>3</th>\n",
       "      <td>0</td>\n",
       "      <td>1</td>\n",
       "      <td>1</td>\n",
       "      <td>0</td>\n",
       "      <td>0</td>\n",
       "      <td>0</td>\n",
       "      <td>1</td>\n",
       "      <td>0.0</td>\n",
       "      <td>0.32</td>\n",
       "      <td>0.5</td>\n",
       "      <td>...</td>\n",
       "      <td>0.5</td>\n",
       "      <td>0.451613</td>\n",
       "      <td>0.0</td>\n",
       "      <td>0.46875</td>\n",
       "      <td>0.5</td>\n",
       "      <td>0.6</td>\n",
       "      <td>0.5</td>\n",
       "      <td>0.428571</td>\n",
       "      <td>0</td>\n",
       "      <td>0.0</td>\n",
       "    </tr>\n",
       "    <tr>\n",
       "      <th>4</th>\n",
       "      <td>1</td>\n",
       "      <td>1</td>\n",
       "      <td>1</td>\n",
       "      <td>0</td>\n",
       "      <td>0</td>\n",
       "      <td>0</td>\n",
       "      <td>0</td>\n",
       "      <td>0.0</td>\n",
       "      <td>0.40</td>\n",
       "      <td>0.5</td>\n",
       "      <td>...</td>\n",
       "      <td>0.0</td>\n",
       "      <td>0.387097</td>\n",
       "      <td>0.5</td>\n",
       "      <td>0.50000</td>\n",
       "      <td>0.5</td>\n",
       "      <td>0.6</td>\n",
       "      <td>0.5</td>\n",
       "      <td>0.428571</td>\n",
       "      <td>0</td>\n",
       "      <td>0.0</td>\n",
       "    </tr>\n",
       "  </tbody>\n",
       "</table>\n",
       "<p>5 rows × 33 columns</p>\n",
       "</div>"
      ],
      "text/plain": [
       "   JUDGE_ML  PLAIN_ML  RQ_JOINT  RQ_FH_AT  RQ_FH_SP  RQ_MP_AT  RQ_MP_SP  \\\n",
       "0         1         1         1         0         0         0         1   \n",
       "1         1         1         1         0         0         0         0   \n",
       "2         1         1         1         0         1         0         1   \n",
       "3         0         1         1         0         0         0         1   \n",
       "4         1         1         1         0         0         0         0   \n",
       "\n",
       "   LP_BI_b  LP_BI  LP_PE_b  ...  FT_RA_b     FT_RA  FT_RD_b    FT_RD  FT_PD_b  \\\n",
       "0      0.0   0.40      0.5  ...      0.0  0.419355      1.0  0.53125      0.5   \n",
       "1      0.5   0.44      0.5  ...      1.0  0.548387      0.0  0.46875      0.5   \n",
       "2      0.5   0.44      0.5  ...      0.0  0.419355      0.0  0.46875      0.5   \n",
       "3      0.0   0.32      0.5  ...      0.5  0.451613      0.0  0.46875      0.5   \n",
       "4      0.0   0.40      0.5  ...      0.0  0.387097      0.5  0.50000      0.5   \n",
       "\n",
       "   FT_PD  FT_AG_b     FT_AG  LN_JNPREF_b  LN_JNPREF  \n",
       "0    0.6      0.5  0.428571            0        0.0  \n",
       "1    0.6      0.5  0.428571            0        0.0  \n",
       "2    0.6      0.5  0.428571            0        0.0  \n",
       "3    0.6      0.5  0.428571            0        0.0  \n",
       "4    0.6      0.5  0.428571            0        0.0  \n",
       "\n",
       "[5 rows x 33 columns]"
      ]
     },
     "execution_count": 66,
     "metadata": {},
     "output_type": "execute_result"
    }
   ],
   "source": [
    "df_similarity_D2 = distances.similarity_df(df, relevant_features)\n",
    "df_similarity_D2.head()"
   ]
  },
  {
   "attachments": {},
   "cell_type": "markdown",
   "metadata": {},
   "source": [
    "### Get distances"
   ]
  },
  {
   "cell_type": "code",
   "execution_count": 67,
   "metadata": {},
   "outputs": [
    {
     "name": "stdout",
     "output_type": "stream",
     "text": [
      "Euclidean with weights\n"
     ]
    },
    {
     "data": {
      "text/html": [
       "<div>\n",
       "<style scoped>\n",
       "    .dataframe tbody tr th:only-of-type {\n",
       "        vertical-align: middle;\n",
       "    }\n",
       "\n",
       "    .dataframe tbody tr th {\n",
       "        vertical-align: top;\n",
       "    }\n",
       "\n",
       "    .dataframe thead th {\n",
       "        text-align: right;\n",
       "    }\n",
       "</style>\n",
       "<table border=\"1\" class=\"dataframe\">\n",
       "  <thead>\n",
       "    <tr style=\"text-align: right;\">\n",
       "      <th></th>\n",
       "      <th>sentence_1</th>\n",
       "      <th>sentence_2</th>\n",
       "      <th>distance</th>\n",
       "    </tr>\n",
       "  </thead>\n",
       "  <tbody>\n",
       "    <tr>\n",
       "      <th>0</th>\n",
       "      <td>0</td>\n",
       "      <td>1</td>\n",
       "      <td>0.288644</td>\n",
       "    </tr>\n",
       "    <tr>\n",
       "      <th>1</th>\n",
       "      <td>0</td>\n",
       "      <td>2</td>\n",
       "      <td>0.320372</td>\n",
       "    </tr>\n",
       "    <tr>\n",
       "      <th>2</th>\n",
       "      <td>0</td>\n",
       "      <td>3</td>\n",
       "      <td>0.452307</td>\n",
       "    </tr>\n",
       "    <tr>\n",
       "      <th>3</th>\n",
       "      <td>0</td>\n",
       "      <td>4</td>\n",
       "      <td>0.235682</td>\n",
       "    </tr>\n",
       "    <tr>\n",
       "      <th>4</th>\n",
       "      <td>0</td>\n",
       "      <td>5</td>\n",
       "      <td>0.515626</td>\n",
       "    </tr>\n",
       "  </tbody>\n",
       "</table>\n",
       "</div>"
      ],
      "text/plain": [
       "   sentence_1  sentence_2  distance\n",
       "0           0           1  0.288644\n",
       "1           0           2  0.320372\n",
       "2           0           3  0.452307\n",
       "3           0           4  0.235682\n",
       "4           0           5  0.515626"
      ]
     },
     "execution_count": 67,
     "metadata": {},
     "output_type": "execute_result"
    }
   ],
   "source": [
    "df_D2 = distances.get_distances_df(df_similarity_D2, weights=relevant_weights)\n",
    "df_D2.head()"
   ]
  },
  {
   "attachments": {},
   "cell_type": "markdown",
   "metadata": {},
   "source": [
    "### Distances plot"
   ]
  },
  {
   "cell_type": "code",
   "execution_count": 68,
   "metadata": {},
   "outputs": [
    {
     "data": {
      "image/png": "[encoded data removed]",
      "text/plain": [
       "<Figure size 640x480 with 1 Axes>"
      ]
     },
     "metadata": {},
     "output_type": "display_data"
    }
   ],
   "source": [
    "distances.distances_plot(df_D2)"
   ]
  },
  {
   "attachments": {},
   "cell_type": "markdown",
   "metadata": {},
   "source": [
    "### Save data"
   ]
  },
  {
   "cell_type": "code",
   "execution_count": 69,
   "metadata": {},
   "outputs": [],
   "source": [
    "df_D2.to_csv(\"..\\..\\output\\distances_D2.csv\", sep=\";\")"
   ]
  },
  {
   "attachments": {},
   "cell_type": "markdown",
   "metadata": {},
   "source": [
    "## Distance 3 (D3) - Top"
   ]
  },
  {
   "attachments": {},
   "cell_type": "markdown",
   "metadata": {},
   "source": [
    "Weighted euclidean distance with the most important variables where the weights were proportional to the importance for the probability of winning"
   ]
  },
  {
   "attachments": {},
   "cell_type": "markdown",
   "metadata": {},
   "source": [
    "### Get similarity cols"
   ]
  },
  {
   "cell_type": "code",
   "execution_count": 70,
   "metadata": {},
   "outputs": [
    {
     "name": "stdout",
     "output_type": "stream",
     "text": [
      "10\n",
      "10\n"
     ]
    }
   ],
   "source": [
    "D3_cols = pd.read_csv(\"D3_cols.csv\", sep=\";\")\n",
    "\n",
    "top_features = list(D3_cols[\"features\"])\n",
    "top_weights = list(D3_cols[\"coefficients\"])\n",
    "\n",
    "print(len(top_features))\n",
    "print(len(top_weights))"
   ]
  },
  {
   "attachments": {},
   "cell_type": "markdown",
   "metadata": {},
   "source": [
    "### Get similarity df"
   ]
  },
  {
   "cell_type": "code",
   "execution_count": 71,
   "metadata": {},
   "outputs": [
    {
     "data": {
      "text/html": [
       "<div>\n",
       "<style scoped>\n",
       "    .dataframe tbody tr th:only-of-type {\n",
       "        vertical-align: middle;\n",
       "    }\n",
       "\n",
       "    .dataframe tbody tr th {\n",
       "        vertical-align: top;\n",
       "    }\n",
       "\n",
       "    .dataframe thead th {\n",
       "        text-align: right;\n",
       "    }\n",
       "</style>\n",
       "<table border=\"1\" class=\"dataframe\">\n",
       "  <thead>\n",
       "    <tr style=\"text-align: right;\">\n",
       "      <th></th>\n",
       "      <th>PLAIN_ML</th>\n",
       "      <th>RQ_JOINT</th>\n",
       "      <th>RQ_MP_SP</th>\n",
       "      <th>LP_BI_b</th>\n",
       "      <th>LP_BI</th>\n",
       "      <th>FT_CC_b</th>\n",
       "      <th>FT_CC</th>\n",
       "      <th>FT_RA_b</th>\n",
       "      <th>FT_RA</th>\n",
       "      <th>FT_RD</th>\n",
       "    </tr>\n",
       "  </thead>\n",
       "  <tbody>\n",
       "    <tr>\n",
       "      <th>0</th>\n",
       "      <td>1</td>\n",
       "      <td>1</td>\n",
       "      <td>1</td>\n",
       "      <td>0.0</td>\n",
       "      <td>0.40</td>\n",
       "      <td>0.0</td>\n",
       "      <td>0.576923</td>\n",
       "      <td>0.0</td>\n",
       "      <td>0.419355</td>\n",
       "      <td>0.53125</td>\n",
       "    </tr>\n",
       "    <tr>\n",
       "      <th>1</th>\n",
       "      <td>1</td>\n",
       "      <td>1</td>\n",
       "      <td>0</td>\n",
       "      <td>0.5</td>\n",
       "      <td>0.44</td>\n",
       "      <td>0.5</td>\n",
       "      <td>0.615385</td>\n",
       "      <td>1.0</td>\n",
       "      <td>0.548387</td>\n",
       "      <td>0.46875</td>\n",
       "    </tr>\n",
       "    <tr>\n",
       "      <th>2</th>\n",
       "      <td>1</td>\n",
       "      <td>1</td>\n",
       "      <td>1</td>\n",
       "      <td>0.5</td>\n",
       "      <td>0.44</td>\n",
       "      <td>1.0</td>\n",
       "      <td>0.653846</td>\n",
       "      <td>0.0</td>\n",
       "      <td>0.419355</td>\n",
       "      <td>0.46875</td>\n",
       "    </tr>\n",
       "    <tr>\n",
       "      <th>3</th>\n",
       "      <td>1</td>\n",
       "      <td>1</td>\n",
       "      <td>1</td>\n",
       "      <td>0.0</td>\n",
       "      <td>0.32</td>\n",
       "      <td>0.5</td>\n",
       "      <td>0.615385</td>\n",
       "      <td>0.5</td>\n",
       "      <td>0.451613</td>\n",
       "      <td>0.46875</td>\n",
       "    </tr>\n",
       "    <tr>\n",
       "      <th>4</th>\n",
       "      <td>1</td>\n",
       "      <td>1</td>\n",
       "      <td>0</td>\n",
       "      <td>0.0</td>\n",
       "      <td>0.40</td>\n",
       "      <td>0.0</td>\n",
       "      <td>0.576923</td>\n",
       "      <td>0.0</td>\n",
       "      <td>0.387097</td>\n",
       "      <td>0.50000</td>\n",
       "    </tr>\n",
       "  </tbody>\n",
       "</table>\n",
       "</div>"
      ],
      "text/plain": [
       "   PLAIN_ML  RQ_JOINT  RQ_MP_SP  LP_BI_b  LP_BI  FT_CC_b     FT_CC  FT_RA_b  \\\n",
       "0         1         1         1      0.0   0.40      0.0  0.576923      0.0   \n",
       "1         1         1         0      0.5   0.44      0.5  0.615385      1.0   \n",
       "2         1         1         1      0.5   0.44      1.0  0.653846      0.0   \n",
       "3         1         1         1      0.0   0.32      0.5  0.615385      0.5   \n",
       "4         1         1         0      0.0   0.40      0.0  0.576923      0.0   \n",
       "\n",
       "      FT_RA    FT_RD  \n",
       "0  0.419355  0.53125  \n",
       "1  0.548387  0.46875  \n",
       "2  0.419355  0.46875  \n",
       "3  0.451613  0.46875  \n",
       "4  0.387097  0.50000  "
      ]
     },
     "execution_count": 71,
     "metadata": {},
     "output_type": "execute_result"
    }
   ],
   "source": [
    "df_similarity_D3 = distances.similarity_df(df, top_features)\n",
    "df_similarity_D3.head()"
   ]
  },
  {
   "attachments": {},
   "cell_type": "markdown",
   "metadata": {},
   "source": [
    "### Get distances"
   ]
  },
  {
   "cell_type": "code",
   "execution_count": 72,
   "metadata": {},
   "outputs": [
    {
     "name": "stdout",
     "output_type": "stream",
     "text": [
      "Euclidean with weights\n"
     ]
    },
    {
     "data": {
      "text/html": [
       "<div>\n",
       "<style scoped>\n",
       "    .dataframe tbody tr th:only-of-type {\n",
       "        vertical-align: middle;\n",
       "    }\n",
       "\n",
       "    .dataframe tbody tr th {\n",
       "        vertical-align: top;\n",
       "    }\n",
       "\n",
       "    .dataframe thead th {\n",
       "        text-align: right;\n",
       "    }\n",
       "</style>\n",
       "<table border=\"1\" class=\"dataframe\">\n",
       "  <thead>\n",
       "    <tr style=\"text-align: right;\">\n",
       "      <th></th>\n",
       "      <th>sentence_1</th>\n",
       "      <th>sentence_2</th>\n",
       "      <th>distance</th>\n",
       "    </tr>\n",
       "  </thead>\n",
       "  <tbody>\n",
       "    <tr>\n",
       "      <th>0</th>\n",
       "      <td>0</td>\n",
       "      <td>1</td>\n",
       "      <td>0.379279</td>\n",
       "    </tr>\n",
       "    <tr>\n",
       "      <th>1</th>\n",
       "      <td>0</td>\n",
       "      <td>2</td>\n",
       "      <td>0.273904</td>\n",
       "    </tr>\n",
       "    <tr>\n",
       "      <th>2</th>\n",
       "      <td>0</td>\n",
       "      <td>3</td>\n",
       "      <td>0.163576</td>\n",
       "    </tr>\n",
       "    <tr>\n",
       "      <th>3</th>\n",
       "      <td>0</td>\n",
       "      <td>4</td>\n",
       "      <td>0.258272</td>\n",
       "    </tr>\n",
       "    <tr>\n",
       "      <th>4</th>\n",
       "      <td>0</td>\n",
       "      <td>5</td>\n",
       "      <td>0.330268</td>\n",
       "    </tr>\n",
       "  </tbody>\n",
       "</table>\n",
       "</div>"
      ],
      "text/plain": [
       "   sentence_1  sentence_2  distance\n",
       "0           0           1  0.379279\n",
       "1           0           2  0.273904\n",
       "2           0           3  0.163576\n",
       "3           0           4  0.258272\n",
       "4           0           5  0.330268"
      ]
     },
     "execution_count": 72,
     "metadata": {},
     "output_type": "execute_result"
    }
   ],
   "source": [
    "df_D3 = distances.get_distances_df(df_similarity_D3, weights=top_weights)\n",
    "df_D3.head()"
   ]
  },
  {
   "attachments": {},
   "cell_type": "markdown",
   "metadata": {},
   "source": [
    "### Distances plot"
   ]
  },
  {
   "cell_type": "code",
   "execution_count": 73,
   "metadata": {},
   "outputs": [
    {
     "data": {
      "image/png": "[encoded data removed]",
      "text/plain": [
       "<Figure size 640x480 with 1 Axes>"
      ]
     },
     "metadata": {},
     "output_type": "display_data"
    }
   ],
   "source": [
    "distances.distances_plot(df_D3)"
   ]
  },
  {
   "attachments": {},
   "cell_type": "markdown",
   "metadata": {},
   "source": [
    "### Save data"
   ]
  },
  {
   "cell_type": "code",
   "execution_count": 74,
   "metadata": {},
   "outputs": [],
   "source": [
    "df_D3.to_csv(\"..\\..\\output\\distances_D3.csv\", sep=\";\")"
   ]
  },
  {
   "attachments": {},
   "cell_type": "markdown",
   "metadata": {},
   "source": [
    "# Visualize dividing by type of request"
   ]
  },
  {
   "cell_type": "code",
   "execution_count": 75,
   "metadata": {},
   "outputs": [],
   "source": [
    "df_request_sole, df_request_joint = base_rates.df_by_group(df, \"RQ_JOINT\")"
   ]
  },
  {
   "cell_type": "code",
   "execution_count": 76,
   "metadata": {},
   "outputs": [],
   "source": [
    "def compute_distances_D1(df):\n",
    "\n",
    "    features_classification = feature_selection.features_classification_lists(file_name = r\"..\\..\\data\\features_classification.csv\")\n",
    "    cols_similarity = distances.similarity_cols(features_classification)\n",
    "\n",
    "    df_similarity_D1 = distances.similarity_df(df, cols_similarity)\n",
    "\n",
    "    df_D1 = distances.get_distances_df(df_similarity_D1)\n",
    "\n",
    "    return df_D1"
   ]
  },
  {
   "cell_type": "code",
   "execution_count": 77,
   "metadata": {},
   "outputs": [
    {
     "data": {
      "image/png": "[encoded data removed]",
      "text/plain": [
       "<Figure size 640x480 with 1 Axes>"
      ]
     },
     "metadata": {},
     "output_type": "display_data"
    }
   ],
   "source": [
    "distances.distances_plot(df_D1)"
   ]
  },
  {
   "cell_type": "code",
   "execution_count": 78,
   "metadata": {},
   "outputs": [
    {
     "name": "stdout",
     "output_type": "stream",
     "text": [
      "Euclidean\n"
     ]
    },
    {
     "data": {
      "image/png": "[encoded data removed]",
      "text/plain": [
       "<Figure size 640x480 with 1 Axes>"
      ]
     },
     "metadata": {},
     "output_type": "display_data"
    }
   ],
   "source": [
    "distances_sole = compute_distances_D1(df_request_sole)\n",
    "distances.distances_plot(distances_sole)"
   ]
  },
  {
   "cell_type": "code",
   "execution_count": 79,
   "metadata": {},
   "outputs": [
    {
     "name": "stdout",
     "output_type": "stream",
     "text": [
      "Euclidean\n"
     ]
    },
    {
     "data": {
      "image/png": "[encoded data removed]",
      "text/plain": [
       "<Figure size 640x480 with 1 Axes>"
      ]
     },
     "metadata": {},
     "output_type": "display_data"
    }
   ],
   "source": [
    "distances_joint = compute_distances_D1(df_request_joint)\n",
    "distances.distances_plot(distances_joint)"
   ]
  }
 ],
 "metadata": {
  "kernelspec": {
   "display_name": "Python 3.8.3 ('base')",
   "language": "python",
   "name": "python3"
  },
  "language_info": {
   "codemirror_mode": {
    "name": "ipython",
    "version": 3
   },
   "file_extension": ".py",
   "mimetype": "text/x-python",
   "name": "python",
   "nbconvert_exporter": "python",
   "pygments_lexer": "ipython3",
   "version": "3.8.3"
  },
  "toc": {
   "base_numbering": 1,
   "nav_menu": {},
   "number_sections": true,
   "sideBar": true,
   "skip_h1_title": false,
   "title_cell": "Table of Contents",
   "title_sidebar": "Contents",
   "toc_cell": false,
   "toc_position": {
    "height": "calc(100% - 180px)",
    "left": "10px",
    "top": "150px",
    "width": "306px"
   },
   "toc_section_display": true,
   "toc_window_display": true
  },
  "vscode": {
   "interpreter": {
    "hash": "cb57b3ccfe62c6746bf3247651268e5f45d4314d13d2f08503817b1c05971834"
   }
  }
 },
 "nbformat": 4,
 "nbformat_minor": 4
}
